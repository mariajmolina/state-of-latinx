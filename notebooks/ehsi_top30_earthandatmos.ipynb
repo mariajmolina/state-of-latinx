{
 "cells": [
  {
   "cell_type": "markdown",
   "id": "ac032e75-6147-43e2-9a1e-e40fa16c1e23",
   "metadata": {},
   "source": [
    "## Emerging HSI school stats (Earth and Atmospheric sciences)"
   ]
  },
  {
   "cell_type": "code",
   "execution_count": 1,
   "id": "45070c52-c55e-439d-938f-1385caddb09f",
   "metadata": {},
   "outputs": [],
   "source": [
    "import pandas as pd\n",
    "import numpy as np\n",
    "import glob\n",
    "import os\n",
    "import matplotlib.pyplot as plt\n",
    "import completions_module as cmodule"
   ]
  },
  {
   "cell_type": "markdown",
   "id": "983d4ba3-7571-4853-a6c9-055550161b74",
   "metadata": {},
   "source": [
    "This notebook contains various tables for `Earth and Atmospheric Sciences` degrees (2009-2019).\n",
    "\n",
    "- Table 1: Bachelors / Hispanic + Latinx (total sum for year range)\n",
    "- Table 2: Bachelors / Hispanic + Latinx (annual mean for year range)\n",
    "- Table 3: Bachelors / Grand total (total sum for year range)\n",
    "- Table 4: Bachelors / Grand total (annual mean for year range)\n",
    "\n",
    "- Table 5: Masters / Hispanic + Latinx (total sum for year range)\n",
    "- Table 6: Masters / Hispanic + Latinx (annual mean for year range)\n",
    "- Table 7: Masters / Grand total (total sum for year range)\n",
    "- Table 8: Masters / Grand total (annual mean for year range)\n",
    "\n",
    "- Table 9: Doctorate / Hispanic + Latinx (total sum for year range)\n",
    "- Table 10: Doctorate / Hispanic + Latinx (annual mean for year range)\n",
    "- Table 11: Doctorate / Grand total (total sum for year range)\n",
    "- Table 12: Doctorate / Grand total (annual mean for year range)\n",
    "\n",
    "\n",
    "_Author: Maria J. Molina (molina@ucar.edu)_"
   ]
  },
  {
   "cell_type": "markdown",
   "id": "f155ec42-c1d4-421b-8a25-50a4e83fe120",
   "metadata": {},
   "source": [
    "**First, lets grab hsi unis that are in ucar provided list**"
   ]
  },
  {
   "cell_type": "code",
   "execution_count": 2,
   "id": "4b622ca7-ed30-4b62-92f2-90ca87df99bf",
   "metadata": {},
   "outputs": [],
   "source": [
    "hsi = pd.read_excel('../data/HACU-2019-20-Emerging-Hispanic-Institutions.xlsx', engine='openpyxl')\n",
    "hsi_uni_list = hsi['Name'].unique()\n",
    "\n",
    "all_files = glob.glob(\"../data/completions_*.csv\")\n",
    "all_files = sorted(all_files)\n",
    "df = cmodule.open_and_concat(all_files)\n",
    "ucar_uni_list = df['institution name'].unique()\n",
    "\n",
    "ucar_list_hsi = ucar_uni_list[np.isin(ucar_uni_list, hsi_uni_list)]"
   ]
  },
  {
   "cell_type": "code",
   "execution_count": 3,
   "id": "87d0ac24-1d6f-423c-a9af-a4e12c31c432",
   "metadata": {},
   "outputs": [],
   "source": [
    "df_ucar_hsi = df.loc[df['institution name'].isin(ucar_list_hsi)]"
   ]
  },
  {
   "cell_type": "markdown",
   "id": "df803ac8-0aff-4cfe-be0e-cf5acc7ffc65",
   "metadata": {},
   "source": [
    "**Now, lets grab hsi unis that are not in the ucar provided list**"
   ]
  },
  {
   "cell_type": "code",
   "execution_count": 4,
   "id": "55d56b23-aa00-4b3d-bfab-6bc8aebcf14e",
   "metadata": {},
   "outputs": [],
   "source": [
    "all_files = glob.glob(\"../data/emerginghsi_completions_*.csv\")  # HSI list\n",
    "all_files = sorted(all_files)\n",
    "df_hsi = cmodule.open_and_concat(all_files)"
   ]
  },
  {
   "cell_type": "markdown",
   "id": "e0552869-e600-4fcc-be25-34b4940f429d",
   "metadata": {},
   "source": [
    "**Finally, append the two lists of unis together**"
   ]
  },
  {
   "cell_type": "code",
   "execution_count": 5,
   "id": "ced12f71-c1fe-44e9-abcf-9c2a0dda32e1",
   "metadata": {},
   "outputs": [],
   "source": [
    "all_hsi_unis = pd.concat([df_ucar_hsi, df_hsi])"
   ]
  },
  {
   "cell_type": "markdown",
   "id": "8f5c9d7f-0b2a-4d84-be86-92ff1504377a",
   "metadata": {},
   "source": [
    "### Top 30 US institutions: Hispanic/Latinx bachelor degree recipients in the Earth and Atmospheric Sciences (2009-2019)"
   ]
  },
  {
   "cell_type": "code",
   "execution_count": 6,
   "id": "43e7f4da-a3c8-40a9-b41b-cfc1c1b4306d",
   "metadata": {},
   "outputs": [
    {
     "data": {
      "text/plain": [
       "institution name\n",
       "Texas A & M University-College Station                     208\n",
       "The University of Texas at Austin                          102\n",
       "University of California-Los Angeles                        63\n",
       "Stanford University                                         60\n",
       "University of California-Davis                              54\n",
       "University of California-Berkeley                           53\n",
       "Florida State University                                    49\n",
       "University of Florida                                       39\n",
       "Washington State University                                 33\n",
       "California Polytechnic State University-San Luis Obispo     28\n",
       "University of South Florida-Main Campus                     26\n",
       "University of Miami                                         26\n",
       "Northern Illinois University                                23\n",
       "The University of Texas at Dallas                           23\n",
       "Sam Houston State University                                22\n",
       "University of California-San Diego                          21\n",
       "University of Northern Colorado                             20\n",
       "University of Nevada-Reno                                   20\n",
       "Trinity University                                          19\n",
       "Portland State University                                   16\n",
       "SUNY Maritime College                                       15\n",
       "CUNY Brooklyn College                                       14\n",
       "Baylor University                                           14\n",
       "State University of New York at New Paltz                   13\n",
       "Rice University                                             11\n",
       "University of Southern California                           11\n",
       "SUNY Oneonta                                                11\n",
       "Central Washington University                                9\n",
       "Eastern Washington University                                9\n",
       "Stephen F Austin State University                            9\n",
       "Name: Hispanic or Latino total, dtype: int64"
      ]
     },
     "execution_count": 6,
     "metadata": {},
     "output_type": "execute_result"
    }
   ],
   "source": [
    "df = cmodule.bs_degrees(all_hsi_unis)\n",
    "df = cmodule.earth_and_atmos_sciences(df)\n",
    "df.groupby('institution name').sum()['Hispanic or Latino total'].sort_values(ascending=False).head(30)  # TOTAL SUM (2009-2019)"
   ]
  },
  {
   "cell_type": "code",
   "execution_count": 7,
   "id": "d6dab67c-11f0-45ba-bba2-073d1e3b90b1",
   "metadata": {},
   "outputs": [
    {
     "data": {
      "text/plain": [
       "institution name\n",
       "The University of Texas at Austin                          9.272727\n",
       "Texas A & M University-College Station                     8.320000\n",
       "Stanford University                                        3.157895\n",
       "Washington State University                                3.000000\n",
       "California Polytechnic State University-San Luis Obispo    2.545455\n",
       "University of South Florida-Main Campus                    2.363636\n",
       "University of California-Los Angeles                       2.172414\n",
       "The University of Texas at Dallas                          2.090909\n",
       "University of Florida                                      1.950000\n",
       "University of California-Davis                             1.741935\n",
       "Florida State University                                   1.689655\n",
       "SUNY Maritime College                                      1.666667\n",
       "University of California-Berkeley                          1.656250\n",
       "University of Northern Colorado                            1.333333\n",
       "CUNY Brooklyn College                                      1.272727\n",
       "State University of New York at New Paltz                  1.181818\n",
       "University of California-San Diego                         1.166667\n",
       "Sam Houston State University                               1.000000\n",
       "Trinity University                                         0.863636\n",
       "Portland State University                                  0.842105\n",
       "University of Nevada-Reno                                  0.833333\n",
       "Baylor University                                          0.823529\n",
       "Northern Illinois University                               0.821429\n",
       "Eastern Washington University                              0.818182\n",
       "University of Miami                                        0.742857\n",
       "Central Washington University                              0.692308\n",
       "Rice University                                            0.647059\n",
       "University of Southern California                          0.647059\n",
       "University of Hawaii at Hilo                               0.545455\n",
       "California Institute of Technology                         0.545455\n",
       "Name: Hispanic or Latino total, dtype: float64"
      ]
     },
     "execution_count": 7,
     "metadata": {},
     "output_type": "execute_result"
    }
   ],
   "source": [
    "df = cmodule.bs_degrees(all_hsi_unis)\n",
    "df = cmodule.earth_and_atmos_sciences(df)\n",
    "df.groupby('institution name').mean()['Hispanic or Latino total'].sort_values(ascending=False).head(30)  # ANNUAL MEAN (2009-2019)"
   ]
  },
  {
   "cell_type": "markdown",
   "id": "a4492140-cb2a-46c4-ae67-48c4342a87ba",
   "metadata": {},
   "source": [
    "### Top 30 US institutions: Grand Total bachelor degree recipients in the Earth and Atmospheric Sciences (2009-2019)"
   ]
  },
  {
   "cell_type": "code",
   "execution_count": 8,
   "id": "0607f33c-bc48-4120-9557-f897475a3812",
   "metadata": {},
   "outputs": [
    {
     "data": {
      "text/plain": [
       "institution name\n",
       "Texas A & M University-College Station                     1245\n",
       "The University of Texas at Austin                           703\n",
       "Stanford University                                         434\n",
       "Florida State University                                    421\n",
       "Washington State University                                 395\n",
       "University of California-Davis                              392\n",
       "Northern Illinois University                                388\n",
       "University of California-Berkeley                           362\n",
       "University of California-Los Angeles                        331\n",
       "University of Florida                                       287\n",
       "California Polytechnic State University-San Luis Obispo     268\n",
       "University of South Florida-Main Campus                     268\n",
       "Portland State University                                   250\n",
       "University of Miami                                         218\n",
       "State University of New York at New Paltz                   217\n",
       "SUNY Oneonta                                                216\n",
       "University of Northern Colorado                             209\n",
       "Central Washington University                               201\n",
       "The University of Texas at Dallas                           199\n",
       "University of Nevada-Reno                                   194\n",
       "Sam Houston State University                                190\n",
       "Baylor University                                           162\n",
       "Stephen F Austin State University                           157\n",
       "Eastern Washington University                               147\n",
       "Western Colorado University                                 143\n",
       "University of California-San Diego                          142\n",
       "SUNY at Albany                                              129\n",
       "SUNY Maritime College                                       128\n",
       "Salem State University                                      124\n",
       "Trinity University                                          121\n",
       "Name: Grand total, dtype: int64"
      ]
     },
     "execution_count": 8,
     "metadata": {},
     "output_type": "execute_result"
    }
   ],
   "source": [
    "df = cmodule.bs_degrees(all_hsi_unis)\n",
    "df = cmodule.earth_and_atmos_sciences(df)\n",
    "df.groupby('institution name').sum()['Grand total'].sort_values(ascending=False).head(30)  # TOTAL SUM (2009-2019)"
   ]
  },
  {
   "cell_type": "code",
   "execution_count": 9,
   "id": "fa1ab5cd-e543-44b4-8c02-caf5be3dc550",
   "metadata": {},
   "outputs": [
    {
     "data": {
      "text/plain": [
       "institution name\n",
       "The University of Texas at Austin                          63.909091\n",
       "Texas A & M University-College Station                     49.800000\n",
       "Washington State University                                35.909091\n",
       "University of Massachusetts-Boston                         26.500000\n",
       "California Polytechnic State University-San Luis Obispo    24.363636\n",
       "University of South Florida-Main Campus                    24.363636\n",
       "Stanford University                                        22.842105\n",
       "State University of New York at New Paltz                  19.727273\n",
       "The University of Texas at Dallas                          18.090909\n",
       "Central Washington University                              15.461538\n",
       "Florida State University                                   14.517241\n",
       "University of Florida                                      14.350000\n",
       "SUNY Maritime College                                      14.222222\n",
       "University of Northern Colorado                            13.933333\n",
       "Northern Illinois University                               13.857143\n",
       "Eastern Washington University                              13.363636\n",
       "Portland State University                                  13.157895\n",
       "University of California-Davis                             12.645161\n",
       "University of California-Los Angeles                       11.413793\n",
       "University of California-Berkeley                          11.312500\n",
       "Baylor University                                           9.529412\n",
       "Sam Houston State University                                8.636364\n",
       "University of Hawaii at Hilo                                8.272727\n",
       "University of Nevada-Reno                                   8.083333\n",
       "SUNY at Albany                                              8.062500\n",
       "Western Colorado University                                 7.944444\n",
       "University of California-San Diego                          7.888889\n",
       "Stephen F Austin State University                           7.850000\n",
       "CUNY Brooklyn College                                       7.818182\n",
       "Midwestern State University                                 7.571429\n",
       "Name: Grand total, dtype: float64"
      ]
     },
     "execution_count": 9,
     "metadata": {},
     "output_type": "execute_result"
    }
   ],
   "source": [
    "df = cmodule.bs_degrees(all_hsi_unis)\n",
    "df = cmodule.earth_and_atmos_sciences(df)\n",
    "df.groupby('institution name').mean()['Grand total'].sort_values(ascending=False).head(30)  # ANNUAL MEAN (2009-2019)"
   ]
  },
  {
   "cell_type": "markdown",
   "id": "eeb1511a-87fa-4e19-8a52-be893dd04a6f",
   "metadata": {},
   "source": [
    "### Top 30 US institutions: Hispanic/Latinx master degree recipients in the Earth and Atmospheric Sciences (2009-2019)"
   ]
  },
  {
   "cell_type": "code",
   "execution_count": 10,
   "id": "9084757c-b430-4afd-8d8b-3f4d2906810c",
   "metadata": {},
   "outputs": [
    {
     "data": {
      "text/plain": [
       "institution name\n",
       "Stanford University                        46\n",
       "Texas A & M University-College Station     45\n",
       "The University of Texas at Austin          26\n",
       "University of California-San Diego         24\n",
       "Florida State University                   12\n",
       "University of California-Los Angeles       10\n",
       "University of Miami                         9\n",
       "The University of Texas at Dallas           9\n",
       "University of Nevada-Reno                   7\n",
       "University of California-Davis              7\n",
       "University of California-Berkeley           7\n",
       "Portland State University                   6\n",
       "University of South Florida-Main Campus     6\n",
       "University of Florida                       6\n",
       "Central Washington University               4\n",
       "Arizona State University-Tempe              4\n",
       "Western Connecticut State University        3\n",
       "Johns Hopkins University                    3\n",
       "SUNY at Albany                              3\n",
       "Rice University                             3\n",
       "Massachusetts Institute of Technology       3\n",
       "Stephen F Austin State University           2\n",
       "California Institute of Technology          2\n",
       "Northern Illinois University                2\n",
       "Baylor University                           2\n",
       "CUNY Brooklyn College                       1\n",
       "University of Northern Colorado             1\n",
       "University of Southern California           1\n",
       "Eastern Washington University               0\n",
       "Western Oregon University                   0\n",
       "Name: Hispanic or Latino total, dtype: int64"
      ]
     },
     "execution_count": 10,
     "metadata": {},
     "output_type": "execute_result"
    }
   ],
   "source": [
    "df = cmodule.ms_degrees(all_hsi_unis)\n",
    "df = cmodule.earth_and_atmos_sciences(df)\n",
    "df.groupby('institution name').sum()['Hispanic or Latino total'].sort_values(ascending=False).head(30)  # TOTAL SUM (2009-2019)"
   ]
  },
  {
   "cell_type": "code",
   "execution_count": 11,
   "id": "ba93c5b3-dc4f-42e7-a963-e5923f92200f",
   "metadata": {},
   "outputs": [
    {
     "data": {
      "text/plain": [
       "institution name\n",
       "Stanford University                        4.181818\n",
       "The University of Texas at Austin          2.363636\n",
       "University of California-San Diego         2.181818\n",
       "Texas A & M University-College Station     2.045455\n",
       "The University of Texas at Dallas          0.818182\n",
       "University of Miami                        0.642857\n",
       "University of California-Berkeley          0.636364\n",
       "Florida State University                   0.545455\n",
       "Portland State University                  0.545455\n",
       "University of South Florida-Main Campus    0.545455\n",
       "University of Florida                      0.545455\n",
       "University of California-Los Angeles       0.454545\n",
       "Central Washington University              0.363636\n",
       "Arizona State University-Tempe             0.363636\n",
       "University of California-Davis             0.333333\n",
       "University of Nevada-Reno                  0.318182\n",
       "Johns Hopkins University                   0.272727\n",
       "Western Connecticut State University       0.272727\n",
       "Rice University                            0.272727\n",
       "SUNY at Albany                             0.230769\n",
       "Stephen F Austin State University          0.181818\n",
       "California Institute of Technology         0.181818\n",
       "Northern Illinois University               0.181818\n",
       "Baylor University                          0.181818\n",
       "Massachusetts Institute of Technology      0.136364\n",
       "CUNY Brooklyn College                      0.100000\n",
       "University of Southern California          0.090909\n",
       "University of Northern Colorado            0.076923\n",
       "Eastern Washington University              0.000000\n",
       "Western Oregon University                  0.000000\n",
       "Name: Hispanic or Latino total, dtype: float64"
      ]
     },
     "execution_count": 11,
     "metadata": {},
     "output_type": "execute_result"
    }
   ],
   "source": [
    "df = cmodule.ms_degrees(all_hsi_unis)\n",
    "df = cmodule.earth_and_atmos_sciences(df)\n",
    "df.groupby('institution name').mean()['Hispanic or Latino total'].sort_values(ascending=False).head(30)  # annual mean (2009-2019)"
   ]
  },
  {
   "cell_type": "markdown",
   "id": "2017b16c-74c6-4896-ada3-586cd157d010",
   "metadata": {},
   "source": [
    "### Top 30 US institutions: Grand total master degree recipients in the Earth and Atmospheric Sciences (2009-2019)"
   ]
  },
  {
   "cell_type": "code",
   "execution_count": 12,
   "id": "5287baa6-7ec9-41c1-8a3c-3576fb6b7422",
   "metadata": {},
   "outputs": [
    {
     "data": {
      "text/plain": [
       "institution name\n",
       "Texas A & M University-College Station     570\n",
       "The University of Texas at Austin          383\n",
       "Stanford University                        381\n",
       "Florida State University                   308\n",
       "University of California-San Diego         287\n",
       "University of South Florida-Main Campus    213\n",
       "University of California-Los Angeles       195\n",
       "The University of Texas at Dallas          172\n",
       "University of California-Davis             158\n",
       "Rice University                            148\n",
       "University of Nevada-Reno                  140\n",
       "University of Miami                        100\n",
       "California Institute of Technology          94\n",
       "SUNY at Albany                              87\n",
       "Portland State University                   86\n",
       "Northern Illinois University                83\n",
       "Massachusetts Institute of Technology       77\n",
       "Stephen F Austin State University           66\n",
       "Central Washington University               65\n",
       "University of Florida                       63\n",
       "Arizona State University-Tempe              62\n",
       "Baylor University                           62\n",
       "Johns Hopkins University                    56\n",
       "University of California-Berkeley           52\n",
       "Washington State University                 50\n",
       "University of Northern Colorado             47\n",
       "CUNY Brooklyn College                       43\n",
       "University of Southern California           25\n",
       "Western Connecticut State University        15\n",
       "Midwestern State University                  6\n",
       "Name: Grand total, dtype: int64"
      ]
     },
     "execution_count": 12,
     "metadata": {},
     "output_type": "execute_result"
    }
   ],
   "source": [
    "df = cmodule.ms_degrees(all_hsi_unis)\n",
    "df = cmodule.earth_and_atmos_sciences(df)\n",
    "df.groupby('institution name').sum()['Grand total'].sort_values(ascending=False).head(30)  # TOTAL SUM (2009-2019)"
   ]
  },
  {
   "cell_type": "code",
   "execution_count": 13,
   "id": "74a2d396-5622-4eb8-9821-51c92882d60a",
   "metadata": {},
   "outputs": [
    {
     "data": {
      "text/plain": [
       "institution name\n",
       "The University of Texas at Austin          34.818182\n",
       "Stanford University                        34.636364\n",
       "University of California-San Diego         26.090909\n",
       "Texas A & M University-College Station     25.909091\n",
       "University of South Florida-Main Campus    19.363636\n",
       "The University of Texas at Dallas          15.636364\n",
       "Florida State University                   14.000000\n",
       "Rice University                            13.454545\n",
       "University of California-Los Angeles        8.863636\n",
       "California Institute of Technology          8.545455\n",
       "Portland State University                   7.818182\n",
       "Northern Illinois University                7.545455\n",
       "University of California-Davis              7.523810\n",
       "University of Miami                         7.142857\n",
       "SUNY at Albany                              6.692308\n",
       "University of Nevada-Reno                   6.363636\n",
       "Stephen F Austin State University           6.000000\n",
       "Central Washington University               5.909091\n",
       "University of Florida                       5.727273\n",
       "Arizona State University-Tempe              5.636364\n",
       "Baylor University                           5.636364\n",
       "Johns Hopkins University                    5.090909\n",
       "University of California-Berkeley           4.727273\n",
       "Washington State University                 4.545455\n",
       "CUNY Brooklyn College                       4.300000\n",
       "University of Northern Colorado             3.615385\n",
       "Massachusetts Institute of Technology       3.500000\n",
       "Midwestern State University                 3.000000\n",
       "University of Southern California           2.272727\n",
       "Western Connecticut State University        1.363636\n",
       "Name: Grand total, dtype: float64"
      ]
     },
     "execution_count": 13,
     "metadata": {},
     "output_type": "execute_result"
    }
   ],
   "source": [
    "df = cmodule.ms_degrees(all_hsi_unis)\n",
    "df = cmodule.earth_and_atmos_sciences(df)\n",
    "df.groupby('institution name').mean()['Grand total'].sort_values(ascending=False).head(30)  # annual mean (2009-2019)"
   ]
  },
  {
   "cell_type": "markdown",
   "id": "376947b0-b490-4eff-8d61-856801344216",
   "metadata": {},
   "source": [
    "### Top 30 US institutions: Hispanic/Latinx doctorate degree recipients in the Earth and Atmospheric Sciences (2009-2019)"
   ]
  },
  {
   "cell_type": "code",
   "execution_count": 14,
   "id": "ed3dfccc-05dc-497e-b87f-fb0a4a1c3290",
   "metadata": {},
   "outputs": [
    {
     "data": {
      "text/plain": [
       "institution name\n",
       "University of South Florida-Main Campus    13\n",
       "University of California-San Diego         11\n",
       "Stanford University                        10\n",
       "The University of Texas at Austin           8\n",
       "University of California-Los Angeles        7\n",
       "University of Miami                         6\n",
       "Massachusetts Institute of Technology       6\n",
       "Arizona State University-Tempe              5\n",
       "University of Southern California           5\n",
       "University of California-Berkeley           4\n",
       "Florida State University                    3\n",
       "University of California-Davis              3\n",
       "SUNY at Albany                              3\n",
       "Texas A & M University-College Station      2\n",
       "Rice University                             1\n",
       "University of Florida                       1\n",
       "Johns Hopkins University                    1\n",
       "University of Nevada-Reno                   1\n",
       "California Institute of Technology          1\n",
       "The University of Texas at Dallas           0\n",
       "Northern Illinois University                0\n",
       "New York University                         0\n",
       "Baylor University                           0\n",
       "Washington State University                 0\n",
       "Name: Hispanic or Latino total, dtype: int64"
      ]
     },
     "execution_count": 14,
     "metadata": {},
     "output_type": "execute_result"
    }
   ],
   "source": [
    "df = cmodule.phd_degrees(all_hsi_unis)\n",
    "df = cmodule.earth_and_atmos_sciences(df)\n",
    "df.groupby('institution name').sum()['Hispanic or Latino total'].sort_values(ascending=False).head(30)  # total sum (2009-2019)"
   ]
  },
  {
   "cell_type": "code",
   "execution_count": 15,
   "id": "64fcdfcf-882d-4690-8776-d0912263642c",
   "metadata": {},
   "outputs": [
    {
     "data": {
      "text/plain": [
       "institution name\n",
       "University of South Florida-Main Campus    1.181818\n",
       "University of California-San Diego         1.000000\n",
       "Stanford University                        0.909091\n",
       "The University of Texas at Austin          0.727273\n",
       "University of Miami                        0.500000\n",
       "Arizona State University-Tempe             0.454545\n",
       "University of Southern California          0.454545\n",
       "University of California-Berkeley          0.363636\n",
       "University of California-Los Angeles       0.318182\n",
       "Massachusetts Institute of Technology      0.272727\n",
       "SUNY at Albany                             0.272727\n",
       "Florida State University                   0.136364\n",
       "University of California-Davis             0.136364\n",
       "California Institute of Technology         0.090909\n",
       "Johns Hopkins University                   0.090909\n",
       "Texas A & M University-College Station     0.090909\n",
       "Rice University                            0.090909\n",
       "University of Florida                      0.090909\n",
       "University of Nevada-Reno                  0.045455\n",
       "Northern Illinois University               0.000000\n",
       "New York University                        0.000000\n",
       "The University of Texas at Dallas          0.000000\n",
       "Baylor University                          0.000000\n",
       "Washington State University                0.000000\n",
       "Name: Hispanic or Latino total, dtype: float64"
      ]
     },
     "execution_count": 15,
     "metadata": {},
     "output_type": "execute_result"
    }
   ],
   "source": [
    "df = cmodule.phd_degrees(all_hsi_unis)\n",
    "df = cmodule.earth_and_atmos_sciences(df)\n",
    "df.groupby('institution name').mean()['Hispanic or Latino total'].sort_values(ascending=False).head(30)  # annual mean (2009-2019)"
   ]
  },
  {
   "cell_type": "markdown",
   "id": "fff6e8d5-51c7-4810-aa0a-ed1aeff2149d",
   "metadata": {},
   "source": [
    "### Top 30 US institutions: Grand total doctorate degree recipients in the Earth and Atmospheric Sciences (2009-2019)"
   ]
  },
  {
   "cell_type": "code",
   "execution_count": 16,
   "id": "2b74bd9f-91ba-4782-8696-b103ce8cc7c9",
   "metadata": {},
   "outputs": [
    {
     "data": {
      "text/plain": [
       "institution name\n",
       "University of California-San Diego         293\n",
       "Stanford University                        276\n",
       "The University of Texas at Austin          253\n",
       "Massachusetts Institute of Technology      252\n",
       "Texas A & M University-College Station     242\n",
       "University of South Florida-Main Campus    152\n",
       "University of California-Los Angeles       145\n",
       "Florida State University                   131\n",
       "University of Miami                        109\n",
       "California Institute of Technology         101\n",
       "Arizona State University-Tempe              98\n",
       "University of California-Davis              97\n",
       "University of California-Berkeley           95\n",
       "University of Southern California           91\n",
       "SUNY at Albany                              57\n",
       "Rice University                             54\n",
       "University of Nevada-Reno                   51\n",
       "University of Florida                       46\n",
       "Johns Hopkins University                    42\n",
       "The University of Texas at Dallas           37\n",
       "Baylor University                           25\n",
       "Washington State University                 15\n",
       "Northern Illinois University                10\n",
       "New York University                          0\n",
       "Name: Grand total, dtype: int64"
      ]
     },
     "execution_count": 16,
     "metadata": {},
     "output_type": "execute_result"
    }
   ],
   "source": [
    "df = cmodule.phd_degrees(all_hsi_unis)\n",
    "df = cmodule.earth_and_atmos_sciences(df)\n",
    "df.groupby('institution name').sum()['Grand total'].sort_values(ascending=False).head(30)  # TOTAL SUM (2009-2019)"
   ]
  },
  {
   "cell_type": "code",
   "execution_count": 17,
   "id": "7f535a28-9421-4320-abb2-b737a34a79d0",
   "metadata": {},
   "outputs": [
    {
     "data": {
      "text/plain": [
       "institution name\n",
       "University of California-San Diego         26.636364\n",
       "Stanford University                        25.090909\n",
       "The University of Texas at Austin          23.000000\n",
       "University of South Florida-Main Campus    13.818182\n",
       "Massachusetts Institute of Technology      11.454545\n",
       "Texas A & M University-College Station     11.000000\n",
       "California Institute of Technology          9.181818\n",
       "University of Miami                         9.083333\n",
       "Arizona State University-Tempe              8.909091\n",
       "University of California-Berkeley           8.636364\n",
       "University of Southern California           8.272727\n",
       "University of California-Los Angeles        6.590909\n",
       "Florida State University                    5.954545\n",
       "SUNY at Albany                              5.181818\n",
       "Rice University                             4.909091\n",
       "University of California-Davis              4.409091\n",
       "University of Florida                       4.181818\n",
       "Johns Hopkins University                    3.818182\n",
       "The University of Texas at Dallas           3.363636\n",
       "Baylor University                           2.500000\n",
       "University of Nevada-Reno                   2.318182\n",
       "Washington State University                 1.500000\n",
       "Northern Illinois University                1.000000\n",
       "New York University                         0.000000\n",
       "Name: Grand total, dtype: float64"
      ]
     },
     "execution_count": 17,
     "metadata": {},
     "output_type": "execute_result"
    }
   ],
   "source": [
    "df = cmodule.phd_degrees(all_hsi_unis)\n",
    "df = cmodule.earth_and_atmos_sciences(df)\n",
    "df.groupby('institution name').mean()['Grand total'].sort_values(ascending=False).head(30)  # annual mean (2009-2019)"
   ]
  },
  {
   "cell_type": "code",
   "execution_count": null,
   "id": "a0d38ec7-368c-472b-91dd-c43511cab69d",
   "metadata": {},
   "outputs": [],
   "source": []
  }
 ],
 "metadata": {
  "kernelspec": {
   "display_name": "Python [conda env:python-tutorial]",
   "language": "python",
   "name": "conda-env-python-tutorial-python3_myenv"
  },
  "language_info": {
   "codemirror_mode": {
    "name": "ipython",
    "version": 3
   },
   "file_extension": ".py",
   "mimetype": "text/x-python",
   "name": "python",
   "nbconvert_exporter": "python",
   "pygments_lexer": "ipython3",
   "version": "3.7.3"
  }
 },
 "nbformat": 4,
 "nbformat_minor": 5
}
