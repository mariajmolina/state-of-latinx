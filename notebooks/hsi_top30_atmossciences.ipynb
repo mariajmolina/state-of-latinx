{
 "cells": [
  {
   "cell_type": "markdown",
   "id": "759d8da8-5600-4231-8e4a-e4426e917e6b",
   "metadata": {},
   "source": [
    "## HSI School stats (atmospheric sciences)"
   ]
  },
  {
   "cell_type": "code",
   "execution_count": 1,
   "id": "45070c52-c55e-439d-938f-1385caddb09f",
   "metadata": {},
   "outputs": [],
   "source": [
    "import pandas as pd\n",
    "import numpy as np\n",
    "import glob\n",
    "import os\n",
    "import matplotlib.pyplot as plt\n",
    "import completions_module as cmodule"
   ]
  },
  {
   "cell_type": "markdown",
   "id": "983d4ba3-7571-4853-a6c9-055550161b74",
   "metadata": {},
   "source": [
    "This notebook contains various tables for `Atmospheric Sciences` degrees (2009-2019).\n",
    "\n",
    "- Table 1: Bachelors / Hispanic + Latinx (total sum for year range)\n",
    "- Table 2: Bachelors / Hispanic + Latinx (annual mean for year range)\n",
    "- Table 3: Bachelors / Grand total (total sum for year range)\n",
    "- Table 4: Bachelors / Grand total (annual mean for year range)\n",
    "\n",
    "- Table 5: Masters / Hispanic + Latinx (total sum for year range)\n",
    "- Table 6: Masters / Hispanic + Latinx (annual mean for year range)\n",
    "- Table 7: Masters / Grand total (total sum for year range)\n",
    "- Table 8: Masters / Grand total (annual mean for year range)\n",
    "\n",
    "- Table 9: Doctorate / Hispanic + Latinx (total sum for year range)\n",
    "- Table 10: Doctorate / Hispanic + Latinx (annual mean for year range)\n",
    "- Table 11: Doctorate / Grand total (total sum for year range)\n",
    "- Table 12: Doctorate / Grand total (annual mean for year range)\n",
    "\n",
    "\n",
    "_Author: Maria J. Molina (molina@ucar.edu)_"
   ]
  },
  {
   "cell_type": "markdown",
   "id": "f155ec42-c1d4-421b-8a25-50a4e83fe120",
   "metadata": {},
   "source": [
    "**First, lets grab hsi unis that are in ucar provided list**"
   ]
  },
  {
   "cell_type": "code",
   "execution_count": 2,
   "id": "4b622ca7-ed30-4b62-92f2-90ca87df99bf",
   "metadata": {},
   "outputs": [],
   "source": [
    "hsi = pd.read_excel('../data/HACU-2019-20-Hispanic-Serving-Institutions.xlsx', engine='openpyxl')\n",
    "hsi_uni_list = hsi['Name'].unique()\n",
    "\n",
    "all_files = glob.glob(\"../data/completions_*.csv\")\n",
    "all_files = sorted(all_files)\n",
    "df = cmodule.open_and_concat(all_files)\n",
    "ucar_uni_list = df['institution name'].unique()\n",
    "\n",
    "ucar_list_hsi = ucar_uni_list[np.isin(ucar_uni_list, hsi_uni_list)]"
   ]
  },
  {
   "cell_type": "code",
   "execution_count": 3,
   "id": "87d0ac24-1d6f-423c-a9af-a4e12c31c432",
   "metadata": {},
   "outputs": [],
   "source": [
    "df_ucar_hsi = df.loc[df['institution name'].isin(ucar_list_hsi)]"
   ]
  },
  {
   "cell_type": "markdown",
   "id": "df803ac8-0aff-4cfe-be0e-cf5acc7ffc65",
   "metadata": {},
   "source": [
    "**Now, lets grab hsi unis that are not in the ucar provided list**"
   ]
  },
  {
   "cell_type": "code",
   "execution_count": 4,
   "id": "55d56b23-aa00-4b3d-bfab-6bc8aebcf14e",
   "metadata": {},
   "outputs": [],
   "source": [
    "all_files = glob.glob(\"../data/hsi_completions_*.csv\")  # HSI list\n",
    "all_files = sorted(all_files)\n",
    "df_hsi = cmodule.open_and_concat(all_files)"
   ]
  },
  {
   "cell_type": "markdown",
   "id": "e0552869-e600-4fcc-be25-34b4940f429d",
   "metadata": {},
   "source": [
    "**Finally, append the two lists of unis together**"
   ]
  },
  {
   "cell_type": "code",
   "execution_count": 5,
   "id": "ced12f71-c1fe-44e9-abcf-9c2a0dda32e1",
   "metadata": {},
   "outputs": [],
   "source": [
    "all_hsi_unis = pd.concat([df_ucar_hsi, df_hsi])"
   ]
  },
  {
   "cell_type": "markdown",
   "id": "8f5c9d7f-0b2a-4d84-be86-92ff1504377a",
   "metadata": {},
   "source": [
    "### Top 30 US institutions: Hispanic/Latinx bachelor degree recipients in the Atmospheric Sciences (2009-2019)"
   ]
  },
  {
   "cell_type": "code",
   "execution_count": 6,
   "id": "43e7f4da-a3c8-40a9-b41b-cfc1c1b4306d",
   "metadata": {},
   "outputs": [
    {
     "data": {
      "text/plain": [
       "institution name\n",
       "University of the Incarnate Word           23\n",
       "San Jose State University                  12\n",
       "Metropolitan State University of Denver     3\n",
       "University of Arizona                       0\n",
       "Texas A & M University-Corpus Christi       0\n",
       "Howard Payne University                     0\n",
       "CUNY City College                           0\n",
       "Name: Hispanic or Latino total, dtype: int64"
      ]
     },
     "execution_count": 6,
     "metadata": {},
     "output_type": "execute_result"
    }
   ],
   "source": [
    "df = cmodule.bs_degrees(all_hsi_unis)\n",
    "df = cmodule.atmospheric_sciences(df)\n",
    "df.groupby('institution name').sum()['Hispanic or Latino total'].sort_values(ascending=False).head(30)  # TOTAL SUM (2009-2019)"
   ]
  },
  {
   "cell_type": "code",
   "execution_count": 7,
   "id": "d6dab67c-11f0-45ba-bba2-073d1e3b90b1",
   "metadata": {},
   "outputs": [
    {
     "data": {
      "text/plain": [
       "institution name\n",
       "University of the Incarnate Word           1.769231\n",
       "San Jose State University                  1.090909\n",
       "Metropolitan State University of Denver    0.230769\n",
       "University of Arizona                      0.000000\n",
       "Texas A & M University-Corpus Christi      0.000000\n",
       "Howard Payne University                    0.000000\n",
       "CUNY City College                          0.000000\n",
       "Name: Hispanic or Latino total, dtype: float64"
      ]
     },
     "execution_count": 7,
     "metadata": {},
     "output_type": "execute_result"
    }
   ],
   "source": [
    "df = cmodule.bs_degrees(all_hsi_unis)\n",
    "df = cmodule.atmospheric_sciences(df)\n",
    "df.groupby('institution name').mean()['Hispanic or Latino total'].sort_values(ascending=False).head(30)  # ANNUAL MEAN (2009-2019)"
   ]
  },
  {
   "cell_type": "markdown",
   "id": "a4492140-cb2a-46c4-ae67-48c4342a87ba",
   "metadata": {},
   "source": [
    "### Top 30 US institutions: Grand Total bachelor degree recipients in the Atmospheric Sciences (2009-2019)"
   ]
  },
  {
   "cell_type": "code",
   "execution_count": 9,
   "id": "0607f33c-bc48-4120-9557-f897475a3812",
   "metadata": {},
   "outputs": [
    {
     "data": {
      "text/plain": [
       "institution name\n",
       "Metropolitan State University of Denver    82\n",
       "San Jose State University                  65\n",
       "University of the Incarnate Word           44\n",
       "University of Arizona                       0\n",
       "Texas A & M University-Corpus Christi       0\n",
       "Howard Payne University                     0\n",
       "CUNY City College                           0\n",
       "Name: Grand total, dtype: int64"
      ]
     },
     "execution_count": 9,
     "metadata": {},
     "output_type": "execute_result"
    }
   ],
   "source": [
    "df = cmodule.bs_degrees(all_hsi_unis)\n",
    "df = cmodule.atmospheric_sciences(df)\n",
    "df.groupby('institution name').sum()['Grand total'].sort_values(ascending=False).head(30)  # TOTAL SUM (2009-2019)"
   ]
  },
  {
   "cell_type": "code",
   "execution_count": 10,
   "id": "fa1ab5cd-e543-44b4-8c02-caf5be3dc550",
   "metadata": {},
   "outputs": [
    {
     "data": {
      "text/plain": [
       "institution name\n",
       "Metropolitan State University of Denver    6.307692\n",
       "San Jose State University                  5.909091\n",
       "University of the Incarnate Word           3.384615\n",
       "University of Arizona                      0.000000\n",
       "Texas A & M University-Corpus Christi      0.000000\n",
       "Howard Payne University                    0.000000\n",
       "CUNY City College                          0.000000\n",
       "Name: Grand total, dtype: float64"
      ]
     },
     "execution_count": 10,
     "metadata": {},
     "output_type": "execute_result"
    }
   ],
   "source": [
    "df = cmodule.bs_degrees(all_hsi_unis)\n",
    "df = cmodule.atmospheric_sciences(df)\n",
    "df.groupby('institution name').mean()['Grand total'].sort_values(ascending=False).head(30)  # ANNUAL MEAN (2009-2019)"
   ]
  },
  {
   "cell_type": "markdown",
   "id": "eeb1511a-87fa-4e19-8a52-be893dd04a6f",
   "metadata": {},
   "source": [
    "### Top 30 US institutions: Hispanic/Latinx master degree recipients in the Atmospheric Sciences (2009-2019)"
   ]
  },
  {
   "cell_type": "code",
   "execution_count": 11,
   "id": "9084757c-b430-4afd-8d8b-3f4d2906810c",
   "metadata": {},
   "outputs": [
    {
     "data": {
      "text/plain": [
       "institution name\n",
       "University of Arizona        5\n",
       "San Jose State University    4\n",
       "University of Houston        1\n",
       "Texas Tech University        1\n",
       "Name: Hispanic or Latino total, dtype: int64"
      ]
     },
     "execution_count": 11,
     "metadata": {},
     "output_type": "execute_result"
    }
   ],
   "source": [
    "df = cmodule.ms_degrees(all_hsi_unis)\n",
    "df = cmodule.atmospheric_sciences(df)\n",
    "df.groupby('institution name').sum()['Hispanic or Latino total'].sort_values(ascending=False).head(30)  # TOTAL SUM (2009-2019)"
   ]
  },
  {
   "cell_type": "code",
   "execution_count": 12,
   "id": "ba93c5b3-dc4f-42e7-a963-e5923f92200f",
   "metadata": {},
   "outputs": [
    {
     "data": {
      "text/plain": [
       "institution name\n",
       "University of Arizona        0.454545\n",
       "San Jose State University    0.400000\n",
       "University of Houston        0.100000\n",
       "Texas Tech University        0.090909\n",
       "Name: Hispanic or Latino total, dtype: float64"
      ]
     },
     "execution_count": 12,
     "metadata": {},
     "output_type": "execute_result"
    }
   ],
   "source": [
    "df = cmodule.ms_degrees(all_hsi_unis)\n",
    "df = cmodule.atmospheric_sciences(df)\n",
    "df.groupby('institution name').mean()['Hispanic or Latino total'].sort_values(ascending=False).head(30)  # annual mean (2009-2019)"
   ]
  },
  {
   "cell_type": "markdown",
   "id": "2017b16c-74c6-4896-ada3-586cd157d010",
   "metadata": {},
   "source": [
    "### Top 30 US institutions: Grand total master degree recipients in the Atmospheric Sciences (2009-2019)"
   ]
  },
  {
   "cell_type": "code",
   "execution_count": 13,
   "id": "5287baa6-7ec9-41c1-8a3c-3576fb6b7422",
   "metadata": {},
   "outputs": [
    {
     "data": {
      "text/plain": [
       "institution name\n",
       "University of Arizona        61\n",
       "Texas Tech University        50\n",
       "San Jose State University    33\n",
       "University of Houston        13\n",
       "Name: Grand total, dtype: int64"
      ]
     },
     "execution_count": 13,
     "metadata": {},
     "output_type": "execute_result"
    }
   ],
   "source": [
    "df = cmodule.ms_degrees(all_hsi_unis)\n",
    "df = cmodule.atmospheric_sciences(df)\n",
    "df.groupby('institution name').sum()['Grand total'].sort_values(ascending=False).head(30)  # TOTAL SUM (2009-2019)"
   ]
  },
  {
   "cell_type": "code",
   "execution_count": 14,
   "id": "74a2d396-5622-4eb8-9821-51c92882d60a",
   "metadata": {},
   "outputs": [
    {
     "data": {
      "text/plain": [
       "institution name\n",
       "University of Arizona        5.545455\n",
       "Texas Tech University        4.545455\n",
       "San Jose State University    3.300000\n",
       "University of Houston        1.300000\n",
       "Name: Grand total, dtype: float64"
      ]
     },
     "execution_count": 14,
     "metadata": {},
     "output_type": "execute_result"
    }
   ],
   "source": [
    "df = cmodule.ms_degrees(all_hsi_unis)\n",
    "df = cmodule.atmospheric_sciences(df)\n",
    "df.groupby('institution name').mean()['Grand total'].sort_values(ascending=False).head(30)  # annual mean (2009-2019)"
   ]
  },
  {
   "cell_type": "markdown",
   "id": "376947b0-b490-4eff-8d61-856801344216",
   "metadata": {},
   "source": [
    "### Top 30 US institutions: Hispanic/Latinx doctorate degree recipients in the Atmospheric Sciences (2009-2019)"
   ]
  },
  {
   "cell_type": "code",
   "execution_count": 15,
   "id": "ed3dfccc-05dc-497e-b87f-fb0a4a1c3290",
   "metadata": {},
   "outputs": [
    {
     "data": {
      "text/plain": [
       "institution name\n",
       "University of Houston    0\n",
       "University of Arizona    0\n",
       "Name: Hispanic or Latino total, dtype: int64"
      ]
     },
     "execution_count": 15,
     "metadata": {},
     "output_type": "execute_result"
    }
   ],
   "source": [
    "df = cmodule.phd_degrees(all_hsi_unis)\n",
    "df = cmodule.atmospheric_sciences(df)\n",
    "df.groupby('institution name').sum()['Hispanic or Latino total'].sort_values(ascending=False).head(30)  # total sum (2009-2019)"
   ]
  },
  {
   "cell_type": "code",
   "execution_count": 16,
   "id": "64fcdfcf-882d-4690-8776-d0912263642c",
   "metadata": {},
   "outputs": [
    {
     "data": {
      "text/plain": [
       "institution name\n",
       "University of Houston    0.0\n",
       "University of Arizona    0.0\n",
       "Name: Hispanic or Latino total, dtype: float64"
      ]
     },
     "execution_count": 16,
     "metadata": {},
     "output_type": "execute_result"
    }
   ],
   "source": [
    "df = cmodule.phd_degrees(all_hsi_unis)\n",
    "df = cmodule.atmospheric_sciences(df)\n",
    "df.groupby('institution name').mean()['Hispanic or Latino total'].sort_values(ascending=False).head(30)  # annual mean (2009-2019)"
   ]
  },
  {
   "cell_type": "markdown",
   "id": "fff6e8d5-51c7-4810-aa0a-ed1aeff2149d",
   "metadata": {},
   "source": [
    "### Top 30 US institutions: Grand total doctorate degree recipients in the Atmospheric Sciences (2009-2019)"
   ]
  },
  {
   "cell_type": "code",
   "execution_count": 17,
   "id": "2b74bd9f-91ba-4782-8696-b103ce8cc7c9",
   "metadata": {},
   "outputs": [
    {
     "data": {
      "text/plain": [
       "institution name\n",
       "University of Arizona    28\n",
       "University of Houston    20\n",
       "Name: Grand total, dtype: int64"
      ]
     },
     "execution_count": 17,
     "metadata": {},
     "output_type": "execute_result"
    }
   ],
   "source": [
    "df = cmodule.phd_degrees(all_hsi_unis)\n",
    "df = cmodule.atmospheric_sciences(df)\n",
    "df.groupby('institution name').sum()['Grand total'].sort_values(ascending=False).head(30)  # TOTAL SUM (2009-2019)"
   ]
  },
  {
   "cell_type": "code",
   "execution_count": 18,
   "id": "7f535a28-9421-4320-abb2-b737a34a79d0",
   "metadata": {},
   "outputs": [
    {
     "data": {
      "text/plain": [
       "institution name\n",
       "University of Arizona    2.800000\n",
       "University of Houston    2.222222\n",
       "Name: Grand total, dtype: float64"
      ]
     },
     "execution_count": 18,
     "metadata": {},
     "output_type": "execute_result"
    }
   ],
   "source": [
    "df = cmodule.phd_degrees(all_hsi_unis)\n",
    "df = cmodule.atmospheric_sciences(df)\n",
    "df.groupby('institution name').mean()['Grand total'].sort_values(ascending=False).head(30)  # annual mean (2009-2019)"
   ]
  },
  {
   "cell_type": "code",
   "execution_count": null,
   "id": "a0d38ec7-368c-472b-91dd-c43511cab69d",
   "metadata": {},
   "outputs": [],
   "source": []
  }
 ],
 "metadata": {
  "kernelspec": {
   "display_name": "Python [conda env:python-tutorial]",
   "language": "python",
   "name": "conda-env-python-tutorial-python3_myenv"
  },
  "language_info": {
   "codemirror_mode": {
    "name": "ipython",
    "version": 3
   },
   "file_extension": ".py",
   "mimetype": "text/x-python",
   "name": "python",
   "nbconvert_exporter": "python",
   "pygments_lexer": "ipython3",
   "version": "3.7.3"
  }
 },
 "nbformat": 4,
 "nbformat_minor": 5
}
