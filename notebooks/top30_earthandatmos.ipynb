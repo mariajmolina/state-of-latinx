{
 "cells": [
  {
   "cell_type": "code",
   "execution_count": 1,
   "id": "bbc7eebc-1795-459d-930f-a9e642d07fce",
   "metadata": {},
   "outputs": [],
   "source": [
    "import pandas as pd\n",
    "import numpy as np\n",
    "import glob\n",
    "import os\n",
    "import matplotlib.pyplot as plt\n",
    "import completions_module as cmodule"
   ]
  },
  {
   "cell_type": "markdown",
   "id": "b3870e3f-b797-4d5a-b161-d454720b08b3",
   "metadata": {},
   "source": [
    "This notebook contains various tables for `Earth and Atmospheric Sciences` degrees (2009-2019).\n",
    "\n",
    "- Table 1: Bachelors / Hispanic + Latinx (total sum for year range)\n",
    "- Table 2: Bachelors / Hispanic + Latinx (annual mean for year range)\n",
    "- Table 3: Bachelors / Grand total (total sum for year range)\n",
    "- Table 4: Bachelors / Grand total (annual mean for year range)\n",
    "\n",
    "- Table 5: Masters / Hispanic + Latinx (total sum for year range)\n",
    "- Table 6: Masters / Hispanic + Latinx (annual mean for year range)\n",
    "- Table 7: Masters / Grand total (total sum for year range)\n",
    "- Table 8: Masters / Grand total (annual mean for year range)\n",
    "\n",
    "- Table 9: Doctorate / Hispanic + Latinx (total sum for year range)\n",
    "- Table 10: Doctorate / Hispanic + Latinx (annual mean for year range)\n",
    "- Table 11: Doctorate / Grand total (total sum for year range)\n",
    "- Table 12: Doctorate / Grand total (annual mean for year range)\n",
    "\n",
    "\n",
    "_Author: Maria J. Molina (molina@ucar.edu)_"
   ]
  },
  {
   "cell_type": "code",
   "execution_count": 2,
   "id": "9a3886fd-52f1-473e-8525-dd16bcd310ad",
   "metadata": {},
   "outputs": [],
   "source": [
    "all_files = glob.glob(\"../data/completions_*.csv\")\n",
    "all_files = sorted(all_files)"
   ]
  },
  {
   "cell_type": "markdown",
   "id": "510737a4-26b4-422a-a2d9-b24403ce4a76",
   "metadata": {},
   "source": [
    "### Top 30 US institutions: Hispanic/Latinx bachelor degree recipients in the Earth and Atmospheric Sciences (2009-2019)"
   ]
  },
  {
   "cell_type": "code",
   "execution_count": 3,
   "id": "e533899a-ac6e-4750-bf72-c85f5042e3b5",
   "metadata": {},
   "outputs": [
    {
     "data": {
      "text/plain": [
       "institution name\n",
       "Texas A & M University-College Station         208\n",
       "University of Houston                          163\n",
       "The University of Texas at El Paso             114\n",
       "The University of Texas at Austin              102\n",
       "Florida International University                99\n",
       "Pennsylvania State University-Main Campus       97\n",
       "University of California-Irvine                 86\n",
       "United States Naval Academy                     75\n",
       "University of California-Los Angeles            63\n",
       "Texas Tech University                           60\n",
       "Stanford University                             60\n",
       "Columbia University in the City of New York     56\n",
       "University of Washington-Seattle Campus         56\n",
       "University of California-Davis                  54\n",
       "University of California-Berkeley               53\n",
       "University of Arizona                           51\n",
       "Florida State University                        49\n",
       "The University of Texas at Arlington            47\n",
       "Texas A & M University-Corpus Christi           43\n",
       "Humboldt State University                       42\n",
       "University of Illinois at Urbana-Champaign      40\n",
       "University of Nevada-Las Vegas                  40\n",
       "University of Oklahoma-Norman Campus            37\n",
       "Washington State University                     33\n",
       "University of Colorado Boulder                  33\n",
       "University of California-Merced                 32\n",
       "San Jose State University                       31\n",
       "Mississippi State University                    30\n",
       "San Diego State University                      30\n",
       "Cornell University                              30\n",
       "Name: Hispanic or Latino total, dtype: int64"
      ]
     },
     "execution_count": 3,
     "metadata": {},
     "output_type": "execute_result"
    }
   ],
   "source": [
    "df = cmodule.open_and_concat(all_files)\n",
    "df = cmodule.bs_degrees(df)\n",
    "df = cmodule.earth_and_atmos_sciences(df)\n",
    "df.groupby('institution name').sum()['Hispanic or Latino total'].sort_values(ascending=False).head(30)  # total sum "
   ]
  },
  {
   "cell_type": "code",
   "execution_count": 4,
   "id": "634f4a23-9443-45b6-8801-aaa4cbd64b77",
   "metadata": {},
   "outputs": [
    {
     "data": {
      "text/plain": [
       "institution name\n",
       "University of Houston                          14.818182\n",
       "The University of Texas at Austin               9.272727\n",
       "Texas A & M University-College Station          8.320000\n",
       "Florida International University                8.250000\n",
       "United States Naval Academy                     6.818182\n",
       "The University of Texas at El Paso              6.333333\n",
       "University of California-Irvine                 6.142857\n",
       "Pennsylvania State University-Main Campus       4.409091\n",
       "The University of Texas at Arlington            4.272727\n",
       "Texas Tech University                           3.750000\n",
       "University of Arizona                           3.642857\n",
       "University of Nevada-Las Vegas                  3.636364\n",
       "Stanford University                             3.157895\n",
       "Washington State University                     3.000000\n",
       "Mississippi State University                    2.727273\n",
       "Columbia University in the City of New York     2.545455\n",
       "Texas A & M University-Corpus Christi           2.529412\n",
       "Humboldt State University                       2.470588\n",
       "University of South Florida-Main Campus         2.363636\n",
       "University of California-Merced                 2.285714\n",
       "Kean University                                 2.181818\n",
       "University of California-Los Angeles            2.172414\n",
       "San Diego State University                      2.000000\n",
       "University of the Incarnate Word                1.769231\n",
       "University of California-Davis                  1.741935\n",
       "Florida State University                        1.689655\n",
       "University of Oklahoma-Norman Campus            1.681818\n",
       "SUNY Maritime College                           1.666667\n",
       "University of California-Berkeley               1.656250\n",
       "San Francisco State University                  1.529412\n",
       "Name: Hispanic or Latino total, dtype: float64"
      ]
     },
     "execution_count": 4,
     "metadata": {},
     "output_type": "execute_result"
    }
   ],
   "source": [
    "df = cmodule.open_and_concat(all_files)\n",
    "df = cmodule.bs_degrees(df)\n",
    "df = cmodule.earth_and_atmos_sciences(df)\n",
    "df.groupby('institution name').mean()['Hispanic or Latino total'].sort_values(ascending=False).head(30)  # annual mean"
   ]
  },
  {
   "cell_type": "markdown",
   "id": "82127b92-fc20-497f-91ef-fc11ba66e7b3",
   "metadata": {},
   "source": [
    "### Top 30 US institutions: Grand Total bachelor degree recipients in the Earth and Atmospheric Sciences (2009-2019)"
   ]
  },
  {
   "cell_type": "code",
   "execution_count": 5,
   "id": "3c998338-c022-4ad1-93c4-4f1dfc4aaa05",
   "metadata": {},
   "outputs": [
    {
     "data": {
      "text/plain": [
       "institution name\n",
       "Texas A & M University-College Station         208\n",
       "University of Houston                          163\n",
       "The University of Texas at El Paso             114\n",
       "The University of Texas at Austin              102\n",
       "Florida International University                99\n",
       "Pennsylvania State University-Main Campus       97\n",
       "University of California-Irvine                 86\n",
       "United States Naval Academy                     75\n",
       "University of California-Los Angeles            63\n",
       "Texas Tech University                           60\n",
       "Stanford University                             60\n",
       "Columbia University in the City of New York     56\n",
       "University of Washington-Seattle Campus         56\n",
       "University of California-Davis                  54\n",
       "University of California-Berkeley               53\n",
       "University of Arizona                           51\n",
       "Florida State University                        49\n",
       "The University of Texas at Arlington            47\n",
       "Texas A & M University-Corpus Christi           43\n",
       "Humboldt State University                       42\n",
       "University of Illinois at Urbana-Champaign      40\n",
       "University of Nevada-Las Vegas                  40\n",
       "University of Oklahoma-Norman Campus            37\n",
       "Washington State University                     33\n",
       "University of Colorado Boulder                  33\n",
       "University of California-Merced                 32\n",
       "San Jose State University                       31\n",
       "Mississippi State University                    30\n",
       "San Diego State University                      30\n",
       "Cornell University                              30\n",
       "Name: Hispanic or Latino total, dtype: int64"
      ]
     },
     "execution_count": 5,
     "metadata": {},
     "output_type": "execute_result"
    }
   ],
   "source": [
    "df = cmodule.open_and_concat(all_files)\n",
    "df = cmodule.bs_degrees(df)\n",
    "df = cmodule.earth_and_atmos_sciences(df)\n",
    "df.groupby('institution name').sum()['Hispanic or Latino total'].sort_values(ascending=False).head(30)  # total sum "
   ]
  },
  {
   "cell_type": "code",
   "execution_count": 6,
   "id": "530f50fd-5f2a-41dc-abee-dd1bbccd6032",
   "metadata": {},
   "outputs": [
    {
     "data": {
      "text/plain": [
       "institution name\n",
       "Pennsylvania State University-Main Campus              99.772727\n",
       "Mississippi State University                           80.000000\n",
       "University of Houston                                  71.545455\n",
       "United States Naval Academy                            69.727273\n",
       "The University of Texas at Austin                      63.909091\n",
       "Texas A & M University-College Station                 49.800000\n",
       "Montana State University                               40.454545\n",
       "Washington State University                            35.909091\n",
       "University of California-Irvine                        32.500000\n",
       "University of Oklahoma-Norman Campus                   31.954545\n",
       "University of Arizona                                  30.000000\n",
       "University of Washington-Seattle Campus                29.756757\n",
       "The University of Texas at Arlington                   27.454545\n",
       "Michigan State University                              27.090909\n",
       "Oregon State University                                25.000000\n",
       "University of South Florida-Main Campus                24.363636\n",
       "Missouri University of Science and Technology          23.272727\n",
       "Colorado State University-Fort Collins                 23.000000\n",
       "Stanford University                                    22.842105\n",
       "Texas Tech University                                  21.187500\n",
       "University of North Carolina at Charlotte              20.392857\n",
       "University of Wyoming                                  20.350000\n",
       "Virginia Polytechnic Institute and State University    20.095238\n",
       "Embry-Riddle Aeronautical University-Daytona Beach     20.000000\n",
       "University of Colorado Boulder                         19.370370\n",
       "University of Nevada-Las Vegas                         19.181818\n",
       "North Carolina State University at Raleigh             18.965517\n",
       "University of Missouri-Columbia                        18.681818\n",
       "Humboldt State University                              18.647059\n",
       "The University of Tennessee-Knoxville                  18.187500\n",
       "Name: Grand total, dtype: float64"
      ]
     },
     "execution_count": 6,
     "metadata": {},
     "output_type": "execute_result"
    }
   ],
   "source": [
    "df = cmodule.open_and_concat(all_files)\n",
    "df = cmodule.bs_degrees(df)\n",
    "df = cmodule.earth_and_atmos_sciences(df)\n",
    "df.groupby('institution name').mean()['Grand total'].sort_values(ascending=False).head(30)  # annual mean"
   ]
  },
  {
   "cell_type": "markdown",
   "id": "0575f267-7210-49e1-9c90-f40b369eed39",
   "metadata": {},
   "source": [
    "### Top 30 US institutions: Hispanic/Latinx master degree recipients in the Earth and Atmospheric Sciences (2009-2019)"
   ]
  },
  {
   "cell_type": "code",
   "execution_count": 7,
   "id": "06a889e7-3385-43d4-b434-a9bcc0857028",
   "metadata": {},
   "outputs": [
    {
     "data": {
      "text/plain": [
       "institution name\n",
       "Stanford University                              46\n",
       "Texas A & M University-College Station           45\n",
       "University of Houston                            44\n",
       "The University of Texas at El Paso               40\n",
       "The University of Texas at Austin                26\n",
       "Pennsylvania State University-Main Campus        24\n",
       "University of California-San Diego               24\n",
       "Mississippi State University                     24\n",
       "Florida International University                 18\n",
       "University of Arizona                            16\n",
       "CUNY Graduate School and University Center       15\n",
       "San Diego State University                       14\n",
       "University of Washington-Seattle Campus          13\n",
       "University of Oklahoma-Norman Campus             13\n",
       "Colorado State University-Fort Collins           13\n",
       "Florida State University                         12\n",
       "Texas Tech University                            11\n",
       "University of Wisconsin-Madison                  10\n",
       "University of California-Los Angeles             10\n",
       "University of Michigan-Ann Arbor                 10\n",
       "University of Utah                               10\n",
       "University of Colorado Boulder                    9\n",
       "University of Miami                               9\n",
       "University of Nevada-Las Vegas                    9\n",
       "Naval Postgraduate School                         9\n",
       "University of Hawaii at Manoa                     8\n",
       "New Mexico Institute of Mining and Technology     8\n",
       "Columbia University in the City of New York       8\n",
       "University of California-Davis                    7\n",
       "CUNY City College                                 7\n",
       "Name: Hispanic or Latino total, dtype: int64"
      ]
     },
     "execution_count": 7,
     "metadata": {},
     "output_type": "execute_result"
    }
   ],
   "source": [
    "df = cmodule.open_and_concat(all_files)\n",
    "df = cmodule.ms_degrees(df)\n",
    "df = cmodule.earth_and_atmos_sciences(df)\n",
    "df.groupby('institution name').sum()['Hispanic or Latino total'].sort_values(ascending=False).head(30)  # total sum "
   ]
  },
  {
   "cell_type": "code",
   "execution_count": 8,
   "id": "81c5674b-2357-4cf0-8a9d-25124d5d1441",
   "metadata": {},
   "outputs": [
    {
     "data": {
      "text/plain": [
       "institution name\n",
       "Stanford University                              4.181818\n",
       "The University of Texas at El Paso               3.636364\n",
       "The University of Texas at Austin                2.363636\n",
       "Mississippi State University                     2.181818\n",
       "University of California-San Diego               2.181818\n",
       "University of Houston                            2.095238\n",
       "Texas A & M University-College Station           2.045455\n",
       "Florida International University                 1.636364\n",
       "CUNY Graduate School and University Center       1.500000\n",
       "San Diego State University                       1.272727\n",
       "Pennsylvania State University-Main Campus        1.090909\n",
       "University of Nevada-Las Vegas                   0.818182\n",
       "The University of Texas at Arlington             0.777778\n",
       "Columbia University in the City of New York      0.727273\n",
       "University of Arizona                            0.727273\n",
       "New Mexico Institute of Mining and Technology    0.727273\n",
       "University of Miami                              0.642857\n",
       "University of California-Berkeley                0.636364\n",
       "Purdue University-Main Campus                    0.636364\n",
       "CUNY City College                                0.636364\n",
       "University of Oklahoma-Norman Campus             0.590909\n",
       "University of South Florida-Main Campus          0.545455\n",
       "Florida State University                         0.545455\n",
       "Colorado State University-Fort Collins           0.500000\n",
       "Texas Tech University                            0.500000\n",
       "University of Washington-Seattle Campus          0.464286\n",
       "University of California-Irvine                  0.454545\n",
       "University of Utah                               0.454545\n",
       "University of California-Los Angeles             0.454545\n",
       "University of Michigan-Ann Arbor                 0.454545\n",
       "Name: Hispanic or Latino total, dtype: float64"
      ]
     },
     "execution_count": 8,
     "metadata": {},
     "output_type": "execute_result"
    }
   ],
   "source": [
    "df = cmodule.open_and_concat(all_files)\n",
    "df = cmodule.ms_degrees(df)\n",
    "df = cmodule.earth_and_atmos_sciences(df)\n",
    "df.groupby('institution name').mean()['Hispanic or Latino total'].sort_values(ascending=False).head(30)  # total sum "
   ]
  },
  {
   "cell_type": "markdown",
   "id": "2d8ad9de-790b-403f-bb8a-fa78c6bbac66",
   "metadata": {},
   "source": [
    "### Top 30 US institutions: Grand total master degree recipients in the Earth and Atmospheric Sciences (2009-2019)"
   ]
  },
  {
   "cell_type": "code",
   "execution_count": 9,
   "id": "5dccb37a-3c48-43b8-9f73-3d958d659da8",
   "metadata": {},
   "outputs": [
    {
     "data": {
      "text/plain": [
       "institution name\n",
       "Mississippi State University                     949\n",
       "University of Houston                            600\n",
       "Texas A & M University-College Station           570\n",
       "University of Oklahoma-Norman Campus             470\n",
       "The University of Texas at Austin                383\n",
       "Stanford University                              381\n",
       "University of Washington-Seattle Campus          344\n",
       "Florida State University                         308\n",
       "University of Utah                               294\n",
       "University of California-San Diego               287\n",
       "Colorado State University-Fort Collins           267\n",
       "University of Wisconsin-Madison                  267\n",
       "Pennsylvania State University-Main Campus        266\n",
       "University of Arizona                            254\n",
       "Naval Postgraduate School                        243\n",
       "University of Michigan-Ann Arbor                 232\n",
       "University of South Florida-Main Campus          213\n",
       "University of Hawaii at Manoa                    209\n",
       "University of Wyoming                            204\n",
       "University of California-Los Angeles             195\n",
       "University of Colorado Boulder                   187\n",
       "Oregon State University                          181\n",
       "University of Kansas                             166\n",
       "University of Illinois at Urbana-Champaign       166\n",
       "University of California-Davis                   158\n",
       "Rice University                                  148\n",
       "Texas Tech University                            145\n",
       "University of Rhode Island                       144\n",
       "New Mexico Institute of Mining and Technology    142\n",
       "Columbia University in the City of New York      141\n",
       "Name: Grand total, dtype: int64"
      ]
     },
     "execution_count": 9,
     "metadata": {},
     "output_type": "execute_result"
    }
   ],
   "source": [
    "df = cmodule.open_and_concat(all_files)\n",
    "df = cmodule.ms_degrees(df)\n",
    "df = cmodule.earth_and_atmos_sciences(df)\n",
    "df.groupby('institution name').sum()['Grand total'].sort_values(ascending=False).head(30)  # total sum "
   ]
  },
  {
   "cell_type": "code",
   "execution_count": 10,
   "id": "b0231464-5246-4078-b404-02aa6f40801a",
   "metadata": {},
   "outputs": [
    {
     "data": {
      "text/plain": [
       "institution name\n",
       "Mississippi State University                     86.272727\n",
       "The University of Texas at Austin                34.818182\n",
       "Stanford University                              34.636364\n",
       "University of Houston                            28.571429\n",
       "University of California-San Diego               26.090909\n",
       "Texas A & M University-College Station           25.909091\n",
       "University of Oklahoma-Norman Campus             21.363636\n",
       "University of South Florida-Main Campus          19.363636\n",
       "Florida State University                         14.000000\n",
       "Rice University                                  13.454545\n",
       "University of Utah                               13.363636\n",
       "University of Rhode Island                       13.090909\n",
       "New Mexico Institute of Mining and Technology    12.909091\n",
       "Columbia University in the City of New York      12.818182\n",
       "University of Washington-Seattle Campus          12.285714\n",
       "University of Wisconsin-Madison                  12.136364\n",
       "Pennsylvania State University-Main Campus        12.090909\n",
       "Naval Postgraduate School                        11.571429\n",
       "University of Arizona                            11.545455\n",
       "Brown University                                 11.454545\n",
       "Missouri University of Science and Technology    11.363636\n",
       "University of Nevada-Las Vegas                   11.000000\n",
       "Indiana University-Bloomington                   10.636364\n",
       "University of Michigan-Ann Arbor                 10.545455\n",
       "University of Tulsa                              10.454545\n",
       "Georgia Institute of Technology-Main Campus      10.363636\n",
       "University of New Hampshire-Main Campus          10.272727\n",
       "San Diego State University                       10.272727\n",
       "Colorado State University-Fort Collins           10.269231\n",
       "University of California-Irvine                  10.090909\n",
       "Name: Grand total, dtype: float64"
      ]
     },
     "execution_count": 10,
     "metadata": {},
     "output_type": "execute_result"
    }
   ],
   "source": [
    "df = cmodule.open_and_concat(all_files)\n",
    "df = cmodule.ms_degrees(df)\n",
    "df = cmodule.earth_and_atmos_sciences(df)\n",
    "df.groupby('institution name').mean()['Grand total'].sort_values(ascending=False).head(30)  # total sum "
   ]
  },
  {
   "cell_type": "markdown",
   "id": "0d64afcd-ab1e-4f08-ab16-28697ff0728a",
   "metadata": {},
   "source": [
    "### Top 30 US institutions: Hispanic/Latinx doctorate degree recipients in the Earth and Atmospheric Sciences (2009-2019)"
   ]
  },
  {
   "cell_type": "code",
   "execution_count": 11,
   "id": "c6809063-d6bf-43f6-97a5-787f4467389c",
   "metadata": {},
   "outputs": [
    {
     "data": {
      "text/plain": [
       "institution name\n",
       "University of South Florida-Main Campus       13\n",
       "University of California-San Diego            11\n",
       "Pennsylvania State University-Main Campus     11\n",
       "Stanford University                           10\n",
       "Oregon State University                        9\n",
       "CUNY Graduate School and University Center     9\n",
       "The University of Texas at Austin              8\n",
       "The University of Texas at El Paso             8\n",
       "University of California-Los Angeles           7\n",
       "University of Arizona                          7\n",
       "University of Kansas                           7\n",
       "University of Miami                            6\n",
       "University of Houston                          6\n",
       "Massachusetts Institute of Technology          6\n",
       "University of Hawaii at Manoa                  6\n",
       "Arizona State University-Tempe                 5\n",
       "University of Southern California              5\n",
       "University of Michigan-Ann Arbor               5\n",
       "University of Washington-Seattle Campus        5\n",
       "University of Colorado Boulder                 5\n",
       "Florida International University               4\n",
       "George Mason University                        4\n",
       "University of California-Berkeley              4\n",
       "Howard University                              4\n",
       "University of Wisconsin-Madison                4\n",
       "Colorado State University-Fort Collins         4\n",
       "University of Utah                             4\n",
       "University of Minnesota-Twin Cities            3\n",
       "University of California-Davis                 3\n",
       "SUNY at Albany                                 3\n",
       "Name: Hispanic or Latino total, dtype: int64"
      ]
     },
     "execution_count": 11,
     "metadata": {},
     "output_type": "execute_result"
    }
   ],
   "source": [
    "df = cmodule.open_and_concat(all_files)\n",
    "df = cmodule.phd_degrees(df)\n",
    "df = cmodule.earth_and_atmos_sciences(df)\n",
    "df.groupby('institution name').sum()['Hispanic or Latino total'].sort_values(ascending=False).head(30)  # total sum "
   ]
  },
  {
   "cell_type": "code",
   "execution_count": 12,
   "id": "5aea8fca-a384-4fd9-ba04-46ffb7c69e6f",
   "metadata": {},
   "outputs": [
    {
     "data": {
      "text/plain": [
       "institution name\n",
       "University of South Florida-Main Campus       1.181818\n",
       "University of California-San Diego            1.000000\n",
       "Stanford University                           0.909091\n",
       "CUNY Graduate School and University Center    0.818182\n",
       "The University of Texas at El Paso            0.727273\n",
       "The University of Texas at Austin             0.727273\n",
       "Oregon State University                       0.600000\n",
       "University of Kansas                          0.538462\n",
       "University of Miami                           0.500000\n",
       "Pennsylvania State University-Main Campus     0.500000\n",
       "University of Southern California             0.454545\n",
       "Arizona State University-Tempe                0.454545\n",
       "Howard University                             0.444444\n",
       "Florida International University              0.363636\n",
       "University of California-Berkeley             0.363636\n",
       "University of Arizona                         0.333333\n",
       "University of California-Los Angeles          0.318182\n",
       "University of Houston                         0.300000\n",
       "University of Minnesota-Twin Cities           0.272727\n",
       "University of Hawaii at Manoa                 0.272727\n",
       "SUNY at Albany                                0.272727\n",
       "Massachusetts Institute of Technology         0.272727\n",
       "University of Michigan-Ann Arbor              0.227273\n",
       "Harvard University                            0.222222\n",
       "University of Colorado Boulder                0.200000\n",
       "Montana State University                      0.200000\n",
       "University of Utah                            0.190476\n",
       "Tulane University of Louisiana                0.181818\n",
       "University of California-Irvine               0.181818\n",
       "Texas Tech University                         0.181818\n",
       "Name: Hispanic or Latino total, dtype: float64"
      ]
     },
     "execution_count": 12,
     "metadata": {},
     "output_type": "execute_result"
    }
   ],
   "source": [
    "df = cmodule.open_and_concat(all_files)\n",
    "df = cmodule.phd_degrees(df)\n",
    "df = cmodule.earth_and_atmos_sciences(df)\n",
    "df.groupby('institution name').mean()['Hispanic or Latino total'].sort_values(ascending=False).head(30)  # total sum "
   ]
  },
  {
   "cell_type": "markdown",
   "id": "7a674372-df1b-4107-a362-5a12bde27b6f",
   "metadata": {},
   "source": [
    "### Top 30 US institutions: Grand total doctorate degree recipients in the Earth and Atmospheric Sciences (2009-2019)"
   ]
  },
  {
   "cell_type": "code",
   "execution_count": 13,
   "id": "a0492e86-3cf5-45c1-96b0-d0492fbdc6ae",
   "metadata": {},
   "outputs": [
    {
     "data": {
      "text/plain": [
       "institution name\n",
       "University of California-San Diego             293\n",
       "Stanford University                            276\n",
       "University of Washington-Seattle Campus        274\n",
       "The University of Texas at Austin              253\n",
       "Massachusetts Institute of Technology          252\n",
       "Texas A & M University-College Station         242\n",
       "Pennsylvania State University-Main Campus      198\n",
       "University of Michigan-Ann Arbor               197\n",
       "University of Colorado Boulder                 193\n",
       "University of Arizona                          181\n",
       "University of Houston                          152\n",
       "University of South Florida-Main Campus        152\n",
       "University of Hawaii at Manoa                  150\n",
       "University of Oklahoma-Norman Campus           150\n",
       "University of Wisconsin-Madison                147\n",
       "University of California-Los Angeles           145\n",
       "Colorado State University-Fort Collins         136\n",
       "Columbia University in the City of New York    132\n",
       "Florida State University                       131\n",
       "Oregon State University                        122\n",
       "George Mason University                        122\n",
       "Georgia Institute of Technology-Main Campus    115\n",
       "University of Maryland-College Park            115\n",
       "University of Miami                            109\n",
       "California Institute of Technology             101\n",
       "University of Utah                              98\n",
       "Arizona State University-Tempe                  98\n",
       "University of California-Davis                  97\n",
       "Purdue University-Main Campus                   96\n",
       "University of California-Berkeley               95\n",
       "Name: Grand total, dtype: int64"
      ]
     },
     "execution_count": 13,
     "metadata": {},
     "output_type": "execute_result"
    }
   ],
   "source": [
    "df = cmodule.open_and_concat(all_files)\n",
    "df = cmodule.phd_degrees(df)\n",
    "df = cmodule.earth_and_atmos_sciences(df)\n",
    "df.groupby('institution name').sum()['Grand total'].sort_values(ascending=False).head(30)  # total sum "
   ]
  },
  {
   "cell_type": "code",
   "execution_count": 14,
   "id": "5049afca-7e0e-488c-98f8-88d642d73414",
   "metadata": {},
   "outputs": [
    {
     "data": {
      "text/plain": [
       "institution name\n",
       "University of California-San Diego                     26.636364\n",
       "Stanford University                                    25.090909\n",
       "The University of Texas at Austin                      23.000000\n",
       "University of South Florida-Main Campus                13.818182\n",
       "Columbia University in the City of New York            12.000000\n",
       "Massachusetts Institute of Technology                  11.454545\n",
       "Texas A & M University-College Station                 11.000000\n",
       "Georgia Institute of Technology-Main Campus            10.454545\n",
       "University of Washington-Seattle Campus                 9.785714\n",
       "California Institute of Technology                      9.181818\n",
       "University of Miami                                     9.083333\n",
       "Pennsylvania State University-Main Campus               9.000000\n",
       "University of Michigan-Ann Arbor                        8.954545\n",
       "Arizona State University-Tempe                          8.909091\n",
       "Purdue University-Main Campus                           8.727273\n",
       "University of California-Berkeley                       8.636364\n",
       "Brown University                                        8.636364\n",
       "University of Arizona                                   8.619048\n",
       "CUNY Graduate School and University Center              8.545455\n",
       "University of Southern California                       8.272727\n",
       "Oregon State University                                 8.133333\n",
       "Yale University                                         7.818182\n",
       "University of Colorado Boulder                          7.720000\n",
       "Virginia Polytechnic Institute and State University     7.636364\n",
       "University of Houston                                   7.600000\n",
       "University of Rhode Island                              7.000000\n",
       "University of Oklahoma-Norman Campus                    6.818182\n",
       "University of Hawaii at Manoa                           6.818182\n",
       "University of California-Irvine                         6.727273\n",
       "University of Wisconsin-Madison                         6.681818\n",
       "Name: Grand total, dtype: float64"
      ]
     },
     "execution_count": 14,
     "metadata": {},
     "output_type": "execute_result"
    }
   ],
   "source": [
    "df = cmodule.open_and_concat(all_files)\n",
    "df = cmodule.phd_degrees(df)\n",
    "df = cmodule.earth_and_atmos_sciences(df)\n",
    "df.groupby('institution name').mean()['Grand total'].sort_values(ascending=False).head(30)  # total sum "
   ]
  },
  {
   "cell_type": "code",
   "execution_count": null,
   "id": "9ad0580b-328b-4659-967b-ae5cd103d353",
   "metadata": {},
   "outputs": [],
   "source": []
  }
 ],
 "metadata": {
  "kernelspec": {
   "display_name": "Python [conda env:python-tutorial]",
   "language": "python",
   "name": "conda-env-python-tutorial-python3_myenv"
  },
  "language_info": {
   "codemirror_mode": {
    "name": "ipython",
    "version": 3
   },
   "file_extension": ".py",
   "mimetype": "text/x-python",
   "name": "python",
   "nbconvert_exporter": "python",
   "pygments_lexer": "ipython3",
   "version": "3.7.3"
  }
 },
 "nbformat": 4,
 "nbformat_minor": 5
}
