{
 "cells": [
  {
   "cell_type": "markdown",
   "id": "e50f14f4-5f8e-4f73-9e82-330f01d5ed24",
   "metadata": {},
   "source": [
    "## Emerging HSI school stats (physical sciences)"
   ]
  },
  {
   "cell_type": "code",
   "execution_count": 1,
   "id": "45070c52-c55e-439d-938f-1385caddb09f",
   "metadata": {},
   "outputs": [],
   "source": [
    "import pandas as pd\n",
    "import numpy as np\n",
    "import glob\n",
    "import os\n",
    "import matplotlib.pyplot as plt\n",
    "import completions_module as cmodule"
   ]
  },
  {
   "cell_type": "markdown",
   "id": "983d4ba3-7571-4853-a6c9-055550161b74",
   "metadata": {},
   "source": [
    "This notebook contains various tables for `Physical Sciences` degrees (2009-2019).\n",
    "\n",
    "- Table 1: Bachelors / Hispanic + Latinx (total sum for year range)\n",
    "- Table 2: Bachelors / Hispanic + Latinx (annual mean for year range)\n",
    "- Table 3: Bachelors / Grand total (total sum for year range)\n",
    "- Table 4: Bachelors / Grand total (annual mean for year range)\n",
    "\n",
    "- Table 5: Masters / Hispanic + Latinx (total sum for year range)\n",
    "- Table 6: Masters / Hispanic + Latinx (annual mean for year range)\n",
    "- Table 7: Masters / Grand total (total sum for year range)\n",
    "- Table 8: Masters / Grand total (annual mean for year range)\n",
    "\n",
    "- Table 9: Doctorate / Hispanic + Latinx (total sum for year range)\n",
    "- Table 10: Doctorate / Hispanic + Latinx (annual mean for year range)\n",
    "- Table 11: Doctorate / Grand total (total sum for year range)\n",
    "- Table 12: Doctorate / Grand total (annual mean for year range)\n",
    "\n",
    "\n",
    "_Author: Maria J. Molina (molina@ucar.edu)_"
   ]
  },
  {
   "cell_type": "markdown",
   "id": "f155ec42-c1d4-421b-8a25-50a4e83fe120",
   "metadata": {},
   "source": [
    "**First, lets grab emerging hsi unis that are in ucar provided list**"
   ]
  },
  {
   "cell_type": "code",
   "execution_count": 2,
   "id": "4b622ca7-ed30-4b62-92f2-90ca87df99bf",
   "metadata": {},
   "outputs": [],
   "source": [
    "hsi = pd.read_excel('../data/HACU-2019-20-Emerging-Hispanic-Institutions.xlsx', engine='openpyxl')\n",
    "hsi_uni_list = hsi['Name'].unique()\n",
    "\n",
    "all_files = glob.glob(\"../data/completions_*.csv\")\n",
    "all_files = sorted(all_files)\n",
    "df = cmodule.open_and_concat(all_files)\n",
    "ucar_uni_list = df['institution name'].unique()\n",
    "\n",
    "ucar_list_hsi = ucar_uni_list[np.isin(ucar_uni_list, hsi_uni_list)]"
   ]
  },
  {
   "cell_type": "code",
   "execution_count": 3,
   "id": "87d0ac24-1d6f-423c-a9af-a4e12c31c432",
   "metadata": {},
   "outputs": [],
   "source": [
    "df_ucar_hsi = df.loc[df['institution name'].isin(ucar_list_hsi)]"
   ]
  },
  {
   "cell_type": "markdown",
   "id": "df803ac8-0aff-4cfe-be0e-cf5acc7ffc65",
   "metadata": {},
   "source": [
    "**Now, lets grab emerging hsi unis that are not in the ucar provided list**"
   ]
  },
  {
   "cell_type": "code",
   "execution_count": 5,
   "id": "55d56b23-aa00-4b3d-bfab-6bc8aebcf14e",
   "metadata": {},
   "outputs": [],
   "source": [
    "all_files = glob.glob(\"../data/emerginghsi_completions_*.csv\")  # emerging HSI list\n",
    "all_files = sorted(all_files)\n",
    "df_hsi = cmodule.open_and_concat(all_files)"
   ]
  },
  {
   "cell_type": "markdown",
   "id": "e0552869-e600-4fcc-be25-34b4940f429d",
   "metadata": {},
   "source": [
    "**Finally, append the two lists of unis together**"
   ]
  },
  {
   "cell_type": "code",
   "execution_count": 6,
   "id": "ced12f71-c1fe-44e9-abcf-9c2a0dda32e1",
   "metadata": {},
   "outputs": [],
   "source": [
    "all_hsi_unis = pd.concat([df_ucar_hsi, df_hsi])"
   ]
  },
  {
   "cell_type": "markdown",
   "id": "8f5c9d7f-0b2a-4d84-be86-92ff1504377a",
   "metadata": {},
   "source": [
    "### Top 30 US institutions: Hispanic/Latinx bachelor degree recipients in the Physical Sciences (2009-2019)"
   ]
  },
  {
   "cell_type": "code",
   "execution_count": 7,
   "id": "43e7f4da-a3c8-40a9-b41b-cfc1c1b4306d",
   "metadata": {},
   "outputs": [
    {
     "data": {
      "text/plain": [
       "institution name\n",
       "The University of Texas at Austin                          510\n",
       "University of Florida                                      369\n",
       "Texas A & M University-College Station                     356\n",
       "University of California-San Diego                         341\n",
       "University of California-Berkeley                          260\n",
       "University of California-Los Angeles                       249\n",
       "University of California-Davis                             209\n",
       "University of South Florida-Main Campus                    180\n",
       "Florida State University                                   175\n",
       "Arizona State University-Tempe                             149\n",
       "Massachusetts Institute of Technology                      132\n",
       "Stanford University                                        115\n",
       "University of Miami                                        107\n",
       "Sam Houston State University                               105\n",
       "California Polytechnic State University-San Luis Obispo     86\n",
       "Northern Illinois University                                83\n",
       "The University of Texas at Dallas                           75\n",
       "Rice University                                             66\n",
       "University of Northern Colorado                             64\n",
       "California Institute of Technology                          64\n",
       "University of Nevada-Reno                                   59\n",
       "Baylor University                                           58\n",
       "SUNY at Albany                                              53\n",
       "Portland State University                                   51\n",
       "University of Southern California                           50\n",
       "New York University                                         47\n",
       "Johns Hopkins University                                    47\n",
       "Washington State University                                 45\n",
       "CUNY Brooklyn College                                       39\n",
       "Loyola University Chicago                                   38\n",
       "Name: Hispanic or Latino total, dtype: int64"
      ]
     },
     "execution_count": 7,
     "metadata": {},
     "output_type": "execute_result"
    }
   ],
   "source": [
    "df = cmodule.bs_degrees(all_hsi_unis)\n",
    "df = cmodule.physical_sciences(df)\n",
    "df.groupby('institution name').sum()['Hispanic or Latino total'].sort_values(ascending=False).head(30)  # TOTAL SUM (2009-2019)"
   ]
  },
  {
   "cell_type": "code",
   "execution_count": 8,
   "id": "d6dab67c-11f0-45ba-bba2-073d1e3b90b1",
   "metadata": {},
   "outputs": [
    {
     "data": {
      "text/plain": [
       "institution name\n",
       "The University of Texas at Austin                          46.363636\n",
       "Texas A & M University-College Station                     18.736842\n",
       "University of Florida                                      16.772727\n",
       "University of California-San Diego                         15.500000\n",
       "University of South Florida-Main Campus                    12.000000\n",
       "University of California-Los Angeles                       11.857143\n",
       "University of California-Berkeley                          11.818182\n",
       "Arizona State University-Tempe                             11.461538\n",
       "University of California-Davis                              9.500000\n",
       "Florida State University                                    8.333333\n",
       "The University of Texas at Dallas                           6.818182\n",
       "Massachusetts Institute of Technology                       6.285714\n",
       "California Institute of Technology                          5.818182\n",
       "Stanford University                                         5.227273\n",
       "University of Miami                                         4.863636\n",
       "Sam Houston State University                                4.772727\n",
       "Northern Illinois University                                4.368421\n",
       "California Polytechnic State University-San Luis Obispo     4.095238\n",
       "Washington State University                                 4.090909\n",
       "University of Nevada-Reno                                   3.933333\n",
       "Purdue University Northwest                                 3.666667\n",
       "University of Northern Colorado                             3.555556\n",
       "Rice University                                             3.300000\n",
       "Baylor University                                           2.900000\n",
       "SUNY at Albany                                              2.650000\n",
       "University of Southern California                           2.631579\n",
       "CUNY Brooklyn College                                       2.437500\n",
       "Eastern Washington University                               2.363636\n",
       "Portland State University                                   2.318182\n",
       "DePaul University                                           2.307692\n",
       "Name: Hispanic or Latino total, dtype: float64"
      ]
     },
     "execution_count": 8,
     "metadata": {},
     "output_type": "execute_result"
    }
   ],
   "source": [
    "df = cmodule.bs_degrees(all_hsi_unis)\n",
    "df = cmodule.physical_sciences(df)\n",
    "df.groupby('institution name').mean()['Hispanic or Latino total'].sort_values(ascending=False).head(30)  # ANNUAL MEAN (2009-2019)"
   ]
  },
  {
   "cell_type": "markdown",
   "id": "a4492140-cb2a-46c4-ae67-48c4342a87ba",
   "metadata": {},
   "source": [
    "### Top 30 US institutions: Grand Total bachelor degree recipients in the Physical Sciences (2009-2019)"
   ]
  },
  {
   "cell_type": "code",
   "execution_count": 9,
   "id": "0607f33c-bc48-4120-9557-f897475a3812",
   "metadata": {},
   "outputs": [
    {
     "data": {
      "text/plain": [
       "institution name\n",
       "University of California-Berkeley                          3337\n",
       "University of California-San Diego                         3143\n",
       "The University of Texas at Austin                          2848\n",
       "University of Florida                                      2170\n",
       "Texas A & M University-College Station                     2165\n",
       "University of California-Los Angeles                       1825\n",
       "University of California-Davis                             1672\n",
       "Massachusetts Institute of Technology                      1241\n",
       "Florida State University                                   1213\n",
       "University of South Florida-Main Campus                    1169\n",
       "Arizona State University-Tempe                             1097\n",
       "Stanford University                                         904\n",
       "Northern Illinois University                                860\n",
       "California Polytechnic State University-San Luis Obispo     841\n",
       "SUNY at Albany                                              771\n",
       "Washington State University                                 724\n",
       "New York University                                         709\n",
       "Portland State University                                   685\n",
       "The University of Texas at Dallas                           626\n",
       "Sam Houston State University                                623\n",
       "University of Northern Colorado                             614\n",
       "University of Miami                                         606\n",
       "California Institute of Technology                          569\n",
       "University of Nevada-Reno                                   556\n",
       "CUNY Brooklyn College                                       550\n",
       "Loyola University Chicago                                   540\n",
       "Rice University                                             529\n",
       "Central Washington University                               499\n",
       "Johns Hopkins University                                    476\n",
       "Kalamazoo College                                           469\n",
       "Name: Grand total, dtype: int64"
      ]
     },
     "execution_count": 9,
     "metadata": {},
     "output_type": "execute_result"
    }
   ],
   "source": [
    "df = cmodule.bs_degrees(all_hsi_unis)\n",
    "df = cmodule.physical_sciences(df)\n",
    "df.groupby('institution name').sum()['Grand total'].sort_values(ascending=False).head(30)  # TOTAL SUM (2009-2019)"
   ]
  },
  {
   "cell_type": "code",
   "execution_count": 10,
   "id": "fa1ab5cd-e543-44b4-8c02-caf5be3dc550",
   "metadata": {},
   "outputs": [
    {
     "data": {
      "text/plain": [
       "institution name\n",
       "The University of Texas at Austin                          258.909091\n",
       "University of California-Berkeley                          151.681818\n",
       "University of California-San Diego                         142.863636\n",
       "Texas A & M University-College Station                     113.947368\n",
       "University of Florida                                       98.636364\n",
       "University of California-Los Angeles                        86.904762\n",
       "Arizona State University-Tempe                              84.384615\n",
       "University of South Florida-Main Campus                     77.933333\n",
       "University of California-Davis                              76.000000\n",
       "Washington State University                                 65.818182\n",
       "Massachusetts Institute of Technology                       59.095238\n",
       "Florida State University                                    57.761905\n",
       "The University of Texas at Dallas                           56.909091\n",
       "California Institute of Technology                          51.727273\n",
       "Northern Illinois University                                45.263158\n",
       "Stanford University                                         41.090909\n",
       "California Polytechnic State University-San Luis Obispo     40.047619\n",
       "SUNY at Albany                                              38.550000\n",
       "University of Nevada-Reno                                   37.066667\n",
       "CUNY Brooklyn College                                       34.375000\n",
       "University of Northern Colorado                             34.111111\n",
       "Eastern Washington University                               33.909091\n",
       "New York University                                         32.227273\n",
       "Portland State University                                   31.136364\n",
       "Sam Houston State University                                28.318182\n",
       "University of Miami                                         27.545455\n",
       "Loyola University Chicago                                   27.000000\n",
       "Rice University                                             26.450000\n",
       "University of Hawaii at Hilo                                25.454545\n",
       "SUNY Oneonta                                                24.210526\n",
       "Name: Grand total, dtype: float64"
      ]
     },
     "execution_count": 10,
     "metadata": {},
     "output_type": "execute_result"
    }
   ],
   "source": [
    "df = cmodule.bs_degrees(all_hsi_unis)\n",
    "df = cmodule.physical_sciences(df)\n",
    "df.groupby('institution name').mean()['Grand total'].sort_values(ascending=False).head(30)  # ANNUAL MEAN (2009-2019)"
   ]
  },
  {
   "cell_type": "markdown",
   "id": "eeb1511a-87fa-4e19-8a52-be893dd04a6f",
   "metadata": {},
   "source": [
    "### Top 30 US institutions: Hispanic/Latinx master degree recipients in the Physical Sciences (2009-2019)"
   ]
  },
  {
   "cell_type": "code",
   "execution_count": 11,
   "id": "9084757c-b430-4afd-8d8b-3f4d2906810c",
   "metadata": {},
   "outputs": [
    {
     "data": {
      "text/plain": [
       "institution name\n",
       "University of California-San Diego         86\n",
       "Johns Hopkins University                   64\n",
       "University of California-Los Angeles       63\n",
       "Texas A & M University-College Station     62\n",
       "Stanford University                        57\n",
       "University of California-Berkeley          42\n",
       "Florida State University                   36\n",
       "The University of Texas at Austin          36\n",
       "Rice University                            22\n",
       "University of California-Davis             20\n",
       "University of South Florida-Main Campus    18\n",
       "Texas A & M University-Commerce            17\n",
       "The University of Texas at Dallas          17\n",
       "University of Florida                      16\n",
       "Portland State University                  11\n",
       "Governors State University                 11\n",
       "DePaul University                          10\n",
       "SUNY at Albany                             10\n",
       "University of Miami                         9\n",
       "Illinois Institute of Technology            9\n",
       "Massachusetts Institute of Technology       8\n",
       "Arizona State University-Tempe              8\n",
       "Central Washington University               8\n",
       "University of Nevada-Reno                   8\n",
       "California Institute of Technology          7\n",
       "Seton Hall University                       7\n",
       "Stephen F Austin State University           6\n",
       "University of Massachusetts-Boston          5\n",
       "Washington State University                 5\n",
       "Northern Illinois University                5\n",
       "Name: Hispanic or Latino total, dtype: int64"
      ]
     },
     "execution_count": 11,
     "metadata": {},
     "output_type": "execute_result"
    }
   ],
   "source": [
    "df = cmodule.ms_degrees(all_hsi_unis)\n",
    "df = cmodule.physical_sciences(df)\n",
    "df.groupby('institution name').sum()['Hispanic or Latino total'].sort_values(ascending=False).head(30)  # TOTAL SUM (2009-2019)"
   ]
  },
  {
   "cell_type": "code",
   "execution_count": 12,
   "id": "ba93c5b3-dc4f-42e7-a963-e5923f92200f",
   "metadata": {},
   "outputs": [
    {
     "data": {
      "text/plain": [
       "institution name\n",
       "University of California-San Diego         7.818182\n",
       "Johns Hopkins University                   5.818182\n",
       "University of California-Los Angeles       5.727273\n",
       "Texas A & M University-College Station     5.636364\n",
       "Stanford University                        5.181818\n",
       "University of California-Berkeley          3.818182\n",
       "Florida State University                   3.272727\n",
       "The University of Texas at Austin          3.272727\n",
       "Rice University                            1.692308\n",
       "University of California-Davis             1.666667\n",
       "University of South Florida-Main Campus    1.636364\n",
       "Texas A & M University-Commerce            1.545455\n",
       "The University of Texas at Dallas          1.545455\n",
       "University of Florida                      1.454545\n",
       "Portland State University                  1.000000\n",
       "SUNY at Albany                             0.909091\n",
       "University of Miami                        0.818182\n",
       "Illinois Institute of Technology           0.818182\n",
       "Governors State University                 0.785714\n",
       "DePaul University                          0.769231\n",
       "Massachusetts Institute of Technology      0.727273\n",
       "Arizona State University-Tempe             0.727273\n",
       "Central Washington University              0.727273\n",
       "University of Nevada-Reno                  0.727273\n",
       "California Institute of Technology         0.636364\n",
       "Seton Hall University                      0.636364\n",
       "Stephen F Austin State University          0.545455\n",
       "University of Massachusetts-Boston         0.454545\n",
       "Washington State University                0.454545\n",
       "Northern Illinois University               0.454545\n",
       "Name: Hispanic or Latino total, dtype: float64"
      ]
     },
     "execution_count": 12,
     "metadata": {},
     "output_type": "execute_result"
    }
   ],
   "source": [
    "df = cmodule.ms_degrees(all_hsi_unis)\n",
    "df = cmodule.physical_sciences(df)\n",
    "df.groupby('institution name').mean()['Hispanic or Latino total'].sort_values(ascending=False).head(30)  # annual mean (2009-2019)"
   ]
  },
  {
   "cell_type": "markdown",
   "id": "2017b16c-74c6-4896-ada3-586cd157d010",
   "metadata": {},
   "source": [
    "### Top 30 US institutions: Grand total master degree recipients in the Physical Sciences (2009-2019)"
   ]
  },
  {
   "cell_type": "code",
   "execution_count": 13,
   "id": "5287baa6-7ec9-41c1-8a3c-3576fb6b7422",
   "metadata": {},
   "outputs": [
    {
     "data": {
      "text/plain": [
       "institution name\n",
       "Johns Hopkins University                         1361\n",
       "University of California-San Diego               1109\n",
       "University of California-Los Angeles              807\n",
       "University of California-Berkeley                 770\n",
       "Texas A & M University-College Station            741\n",
       "Florida State University                          716\n",
       "Rice University                                   676\n",
       "The University of Texas at Austin                 611\n",
       "Stanford University                               607\n",
       "University of Florida                             418\n",
       "University of California-Davis                    397\n",
       "University of South Florida-Main Campus           368\n",
       "The University of Texas at Dallas                 350\n",
       "California Institute of Technology                338\n",
       "Lamar University                                  329\n",
       "New York University                               283\n",
       "SUNY at Albany                                    276\n",
       "Illinois Institute of Technology                  265\n",
       "Fairleigh Dickinson University-Florham Campus     216\n",
       "University of Nevada-Reno                         202\n",
       "Washington State University                       202\n",
       "Texas A & M University-Commerce                   198\n",
       "Northern Illinois University                      198\n",
       "Portland State University                         191\n",
       "Governors State University                        190\n",
       "Arizona State University-Tempe                    178\n",
       "Massachusetts Institute of Technology             177\n",
       "University of Southern California                 153\n",
       "Baylor University                                 144\n",
       "University of Miami                               138\n",
       "Name: Grand total, dtype: int64"
      ]
     },
     "execution_count": 13,
     "metadata": {},
     "output_type": "execute_result"
    }
   ],
   "source": [
    "df = cmodule.ms_degrees(all_hsi_unis)\n",
    "df = cmodule.physical_sciences(df)\n",
    "df.groupby('institution name').sum()['Grand total'].sort_values(ascending=False).head(30)  # TOTAL SUM (2009-2019)"
   ]
  },
  {
   "cell_type": "code",
   "execution_count": 14,
   "id": "74a2d396-5622-4eb8-9821-51c92882d60a",
   "metadata": {},
   "outputs": [
    {
     "data": {
      "text/plain": [
       "institution name\n",
       "Johns Hopkins University                         123.727273\n",
       "University of California-San Diego               100.818182\n",
       "University of California-Los Angeles              73.363636\n",
       "University of California-Berkeley                 70.000000\n",
       "Texas A & M University-College Station            67.363636\n",
       "Florida State University                          65.090909\n",
       "The University of Texas at Austin                 55.545455\n",
       "Stanford University                               55.181818\n",
       "Rice University                                   52.000000\n",
       "University of Florida                             38.000000\n",
       "University of South Florida-Main Campus           33.454545\n",
       "University of California-Davis                    33.083333\n",
       "The University of Texas at Dallas                 31.818182\n",
       "California Institute of Technology                30.727273\n",
       "Lamar University                                  29.909091\n",
       "New York University                               25.727273\n",
       "SUNY at Albany                                    25.090909\n",
       "Illinois Institute of Technology                  24.090909\n",
       "Fairleigh Dickinson University-Florham Campus     19.636364\n",
       "University of Nevada-Reno                         18.363636\n",
       "Washington State University                       18.363636\n",
       "Texas A & M University-Commerce                   18.000000\n",
       "Northern Illinois University                      18.000000\n",
       "Portland State University                         17.363636\n",
       "Arizona State University-Tempe                    16.181818\n",
       "Massachusetts Institute of Technology             16.090909\n",
       "University of Southern California                 13.909091\n",
       "Governors State University                        13.571429\n",
       "Baylor University                                 13.090909\n",
       "University of Miami                               12.545455\n",
       "Name: Grand total, dtype: float64"
      ]
     },
     "execution_count": 14,
     "metadata": {},
     "output_type": "execute_result"
    }
   ],
   "source": [
    "df = cmodule.ms_degrees(all_hsi_unis)\n",
    "df = cmodule.physical_sciences(df)\n",
    "df.groupby('institution name').mean()['Grand total'].sort_values(ascending=False).head(30)  # annual mean (2009-2019)"
   ]
  },
  {
   "cell_type": "markdown",
   "id": "376947b0-b490-4eff-8d61-856801344216",
   "metadata": {},
   "source": [
    "### Top 30 US institutions: Hispanic/Latinx doctorate degree recipients in the Physical Sciences (2009-2019)"
   ]
  },
  {
   "cell_type": "code",
   "execution_count": 15,
   "id": "ed3dfccc-05dc-497e-b87f-fb0a4a1c3290",
   "metadata": {},
   "outputs": [
    {
     "data": {
      "text/plain": [
       "institution name\n",
       "University of California-Berkeley          63\n",
       "University of California-San Diego         49\n",
       "University of California-Los Angeles       46\n",
       "The University of Texas at Austin          43\n",
       "Texas A & M University-College Station     39\n",
       "Massachusetts Institute of Technology      37\n",
       "Stanford University                        36\n",
       "University of California-Davis             33\n",
       "University of Florida                      28\n",
       "University of South Florida-Main Campus    26\n",
       "California Institute of Technology         25\n",
       "Rice University                            24\n",
       "University of Miami                        18\n",
       "University of Southern California          16\n",
       "Arizona State University-Tempe             15\n",
       "The University of Texas at Dallas          13\n",
       "Johns Hopkins University                    9\n",
       "Florida State University                    8\n",
       "Washington State University                 8\n",
       "New York University                         7\n",
       "SUNY at Albany                              6\n",
       "New Jersey Institute of Technology          5\n",
       "Baylor University                           4\n",
       "Seton Hall University                       3\n",
       "Portland State University                   3\n",
       "Northern Illinois University                3\n",
       "University of Nevada-Reno                   3\n",
       "Loyola University Chicago                   3\n",
       "University of Massachusetts-Boston          1\n",
       "Illinois Institute of Technology            1\n",
       "Name: Hispanic or Latino total, dtype: int64"
      ]
     },
     "execution_count": 15,
     "metadata": {},
     "output_type": "execute_result"
    }
   ],
   "source": [
    "df = cmodule.phd_degrees(all_hsi_unis)\n",
    "df = cmodule.physical_sciences(df)\n",
    "df.groupby('institution name').sum()['Hispanic or Latino total'].sort_values(ascending=False).head(30)  # total sum (2009-2019)"
   ]
  },
  {
   "cell_type": "code",
   "execution_count": 16,
   "id": "64fcdfcf-882d-4690-8776-d0912263642c",
   "metadata": {},
   "outputs": [
    {
     "data": {
      "text/plain": [
       "institution name\n",
       "University of California-Berkeley          5.727273\n",
       "University of California-San Diego         4.454545\n",
       "University of California-Los Angeles       4.181818\n",
       "The University of Texas at Austin          3.909091\n",
       "Texas A & M University-College Station     3.545455\n",
       "Massachusetts Institute of Technology      3.363636\n",
       "Stanford University                        3.272727\n",
       "University of California-Davis             3.000000\n",
       "University of Florida                      2.545455\n",
       "University of South Florida-Main Campus    2.363636\n",
       "California Institute of Technology         2.272727\n",
       "Rice University                            2.181818\n",
       "University of Miami                        1.636364\n",
       "Arizona State University-Tempe             1.363636\n",
       "The University of Texas at Dallas          1.181818\n",
       "Johns Hopkins University                   0.818182\n",
       "University of Southern California          0.800000\n",
       "Florida State University                   0.727273\n",
       "Washington State University                0.727273\n",
       "New York University                        0.636364\n",
       "SUNY at Albany                             0.545455\n",
       "New Jersey Institute of Technology         0.454545\n",
       "Baylor University                          0.363636\n",
       "Portland State University                  0.272727\n",
       "Northern Illinois University               0.272727\n",
       "University of Nevada-Reno                  0.272727\n",
       "Seton Hall University                      0.272727\n",
       "Loyola University Chicago                  0.150000\n",
       "University of Northern Colorado            0.125000\n",
       "University of Massachusetts-Boston         0.090909\n",
       "Name: Hispanic or Latino total, dtype: float64"
      ]
     },
     "execution_count": 16,
     "metadata": {},
     "output_type": "execute_result"
    }
   ],
   "source": [
    "df = cmodule.phd_degrees(all_hsi_unis)\n",
    "df = cmodule.physical_sciences(df)\n",
    "df.groupby('institution name').mean()['Hispanic or Latino total'].sort_values(ascending=False).head(30)  # annual mean (2009-2019)"
   ]
  },
  {
   "cell_type": "markdown",
   "id": "fff6e8d5-51c7-4810-aa0a-ed1aeff2149d",
   "metadata": {},
   "source": [
    "### Top 30 US institutions: Grand total doctorate degree recipients in the Physical Sciences (2009-2019)"
   ]
  },
  {
   "cell_type": "code",
   "execution_count": 17,
   "id": "2b74bd9f-91ba-4782-8696-b103ce8cc7c9",
   "metadata": {},
   "outputs": [
    {
     "data": {
      "text/plain": [
       "institution name\n",
       "University of California-Berkeley          1390\n",
       "Stanford University                        1178\n",
       "Massachusetts Institute of Technology      1097\n",
       "The University of Texas at Austin           996\n",
       "University of California-San Diego          942\n",
       "Texas A & M University-College Station      881\n",
       "California Institute of Technology          807\n",
       "University of California-Los Angeles        785\n",
       "University of Florida                       756\n",
       "University of California-Davis              667\n",
       "Florida State University                    597\n",
       "University of Southern California           501\n",
       "Rice University                             495\n",
       "Arizona State University-Tempe              479\n",
       "Johns Hopkins University                    420\n",
       "University of South Florida-Main Campus     413\n",
       "New York University                         280\n",
       "University of Miami                         266\n",
       "The University of Texas at Dallas           228\n",
       "Washington State University                 226\n",
       "SUNY at Albany                              209\n",
       "University of Nevada-Reno                   205\n",
       "Baylor University                           131\n",
       "Northern Illinois University                125\n",
       "Portland State University                   104\n",
       "Illinois Institute of Technology             81\n",
       "New Jersey Institute of Technology           71\n",
       "Loyola University Chicago                    50\n",
       "Seton Hall University                        45\n",
       "University of Massachusetts-Boston           35\n",
       "Name: Grand total, dtype: int64"
      ]
     },
     "execution_count": 17,
     "metadata": {},
     "output_type": "execute_result"
    }
   ],
   "source": [
    "df = cmodule.phd_degrees(all_hsi_unis)\n",
    "df = cmodule.physical_sciences(df)\n",
    "df.groupby('institution name').sum()['Grand total'].sort_values(ascending=False).head(30)  # TOTAL SUM (2009-2019)"
   ]
  },
  {
   "cell_type": "code",
   "execution_count": 18,
   "id": "7f535a28-9421-4320-abb2-b737a34a79d0",
   "metadata": {},
   "outputs": [
    {
     "data": {
      "text/plain": [
       "institution name\n",
       "University of California-Berkeley          126.363636\n",
       "Stanford University                        107.090909\n",
       "Massachusetts Institute of Technology       99.727273\n",
       "The University of Texas at Austin           90.545455\n",
       "University of California-San Diego          85.636364\n",
       "Texas A & M University-College Station      80.090909\n",
       "California Institute of Technology          73.363636\n",
       "University of California-Los Angeles        71.363636\n",
       "University of Florida                       68.727273\n",
       "University of California-Davis              60.636364\n",
       "Florida State University                    54.272727\n",
       "Rice University                             45.000000\n",
       "Arizona State University-Tempe              43.545455\n",
       "Johns Hopkins University                    38.181818\n",
       "University of South Florida-Main Campus     37.545455\n",
       "New York University                         25.454545\n",
       "University of Southern California           25.050000\n",
       "University of Miami                         24.181818\n",
       "The University of Texas at Dallas           20.727273\n",
       "Washington State University                 20.545455\n",
       "SUNY at Albany                              19.000000\n",
       "University of Nevada-Reno                   18.636364\n",
       "Baylor University                           11.909091\n",
       "Northern Illinois University                11.363636\n",
       "Portland State University                    9.454545\n",
       "Illinois Institute of Technology             7.363636\n",
       "New Jersey Institute of Technology           6.454545\n",
       "Seton Hall University                        4.090909\n",
       "University of Massachusetts-Boston           3.181818\n",
       "Loyola University Chicago                    2.500000\n",
       "Name: Grand total, dtype: float64"
      ]
     },
     "execution_count": 18,
     "metadata": {},
     "output_type": "execute_result"
    }
   ],
   "source": [
    "df = cmodule.phd_degrees(all_hsi_unis)\n",
    "df = cmodule.physical_sciences(df)\n",
    "df.groupby('institution name').mean()['Grand total'].sort_values(ascending=False).head(30)  # annual mean (2009-2019)"
   ]
  },
  {
   "cell_type": "code",
   "execution_count": null,
   "id": "a0d38ec7-368c-472b-91dd-c43511cab69d",
   "metadata": {},
   "outputs": [],
   "source": []
  }
 ],
 "metadata": {
  "kernelspec": {
   "display_name": "Python [conda env:python-tutorial]",
   "language": "python",
   "name": "conda-env-python-tutorial-python3_myenv"
  },
  "language_info": {
   "codemirror_mode": {
    "name": "ipython",
    "version": 3
   },
   "file_extension": ".py",
   "mimetype": "text/x-python",
   "name": "python",
   "nbconvert_exporter": "python",
   "pygments_lexer": "ipython3",
   "version": "3.7.3"
  }
 },
 "nbformat": 4,
 "nbformat_minor": 5
}
