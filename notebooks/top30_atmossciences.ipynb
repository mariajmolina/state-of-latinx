{
 "cells": [
  {
   "cell_type": "code",
   "execution_count": 1,
   "id": "85f236a7-fbee-42ae-a8df-d9ebf1a4bdac",
   "metadata": {},
   "outputs": [],
   "source": [
    "import pandas as pd\n",
    "import numpy as np\n",
    "import glob\n",
    "import os\n",
    "import matplotlib.pyplot as plt\n",
    "import completions_module as cmodule"
   ]
  },
  {
   "cell_type": "markdown",
   "id": "9f92ab75-646f-434c-ba2b-a8e4d5c9e75d",
   "metadata": {},
   "source": [
    "This notebook contains various tables for `Atmospheric Sciences` degrees (2009-2019).\n",
    "\n",
    "- Table 1: Bachelors / Hispanic + Latinx (total sum for year range)\n",
    "- Table 2: Bachelors / Hispanic + Latinx (annual mean for year range)\n",
    "- Table 3: Bachelors / Grand total (total sum for year range)\n",
    "- Table 4: Bachelors / Grand total (annual mean for year range)\n",
    "\n",
    "- Table 5: Masters / Hispanic + Latinx (total sum for year range)\n",
    "- Table 6: Masters / Hispanic + Latinx (annual mean for year range)\n",
    "- Table 7: Masters / Grand total (total sum for year range)\n",
    "- Table 8: Masters / Grand total (annual mean for year range)\n",
    "\n",
    "- Table 9: Doctorate / Hispanic + Latinx (total sum for year range)\n",
    "- Table 10: Doctorate / Hispanic + Latinx (annual mean for year range)\n",
    "- Table 11: Doctorate / Grand total (total sum for year range)\n",
    "- Table 12: Doctorate / Grand total (annual mean for year range)\n",
    "\n",
    "\n",
    "_Author: Maria J. Molina (molina@ucar.edu)_\n",
    "\n",
    "Model table after tables in: https://issues.org/nothing-succeeds-like-success-underrepresented-minorities-stem/"
   ]
  },
  {
   "cell_type": "code",
   "execution_count": 2,
   "id": "b783ad60-67c4-49f0-af76-7cfdc63cc2ff",
   "metadata": {},
   "outputs": [],
   "source": [
    "all_files = glob.glob(\"../data/completions_*.csv\")\n",
    "all_files = sorted(all_files)"
   ]
  },
  {
   "cell_type": "markdown",
   "id": "23e09ef2-6c03-4fa7-8a64-4d48d650e184",
   "metadata": {},
   "source": [
    "### Top 30 US institutions: Hispanic/Latinx bachelor degree recipients in the Atmospheric Sciences (2009-2019)"
   ]
  },
  {
   "cell_type": "code",
   "execution_count": 3,
   "id": "5b8e2fb4-13f4-4cc7-aa88-851e96a1c3f8",
   "metadata": {},
   "outputs": [
    {
     "data": {
      "text/plain": [
       "institution name\n",
       "Texas A & M University-College Station                 53\n",
       "Florida State University                               35\n",
       "University of the Incarnate Word                       23\n",
       "University of California-Los Angeles                   21\n",
       "University of Illinois at Urbana-Champaign             18\n",
       "Pennsylvania State University-Main Campus              17\n",
       "SUNY Maritime College                                  15\n",
       "University of Oklahoma-Norman Campus                   15\n",
       "Embry-Riddle Aeronautical University-Daytona Beach     14\n",
       "Cornell University                                     14\n",
       "University of Miami                                    12\n",
       "San Jose State University                              12\n",
       "Northern Illinois University                           12\n",
       "University of Washington-Seattle Campus                12\n",
       "Virginia Polytechnic Institute and State University    10\n",
       "Valparaiso University                                   9\n",
       "Rutgers University-New Brunswick                        9\n",
       "SUNY College at Oswego                                  8\n",
       "SUNY at Albany                                          8\n",
       "Stony Brook University                                  8\n",
       "University of Missouri-Columbia                         7\n",
       "North Carolina State University at Raleigh              7\n",
       "Embry-Riddle Aeronautical University-Prescott           7\n",
       "University of South Alabama                             6\n",
       "University of California-Davis                          6\n",
       "Millersville University of Pennsylvania                 5\n",
       "University of Louisiana at Monroe                       5\n",
       "University of Kansas                                    5\n",
       "Purdue University-Main Campus                           5\n",
       "United States Air Force Academy                         5\n",
       "Name: Hispanic or Latino total, dtype: int64"
      ]
     },
     "execution_count": 3,
     "metadata": {},
     "output_type": "execute_result"
    }
   ],
   "source": [
    "df = cmodule.open_and_concat(all_files)\n",
    "df = cmodule.bs_degrees(df)\n",
    "df = cmodule.atmospheric_sciences(df)\n",
    "df.groupby('institution name').sum()['Hispanic or Latino total'].sort_values(ascending=False).head(30)  # TOTAL SUM (2009-2019)"
   ]
  },
  {
   "cell_type": "code",
   "execution_count": 4,
   "id": "51689c0f-8419-433d-88dd-1af82f729c93",
   "metadata": {},
   "outputs": [
    {
     "data": {
      "text/plain": [
       "institution name\n",
       "Texas A & M University-College Station                 4.818182\n",
       "Florida State University                               2.692308\n",
       "University of the Incarnate Word                       1.769231\n",
       "SUNY Maritime College                                  1.666667\n",
       "Pennsylvania State University-Main Campus              1.545455\n",
       "University of California-Los Angeles                   1.500000\n",
       "University of Oklahoma-Norman Campus                   1.363636\n",
       "Cornell University                                     1.272727\n",
       "Embry-Riddle Aeronautical University-Daytona Beach     1.272727\n",
       "San Jose State University                              1.090909\n",
       "Virginia Polytechnic Institute and State University    1.000000\n",
       "University of Illinois at Urbana-Champaign             1.000000\n",
       "University of Miami                                    0.857143\n",
       "Northern Illinois University                           0.857143\n",
       "Rutgers University-New Brunswick                       0.818182\n",
       "SUNY College at Oswego                                 0.727273\n",
       "SUNY at Albany                                         0.666667\n",
       "University of Washington-Seattle Campus                0.666667\n",
       "Embry-Riddle Aeronautical University-Prescott          0.636364\n",
       "University of Missouri-Columbia                        0.636364\n",
       "Purdue University-Main Campus                          0.555556\n",
       "University of California-Davis                         0.545455\n",
       "University of South Alabama                            0.545455\n",
       "North Carolina State University at Raleigh             0.538462\n",
       "George Mason University                                0.500000\n",
       "Ohio State University-Main Campus                      0.500000\n",
       "Indiana University-Bloomington                         0.500000\n",
       "Stony Brook University                                 0.500000\n",
       "Valparaiso University                                  0.500000\n",
       "United States Air Force Academy                        0.454545\n",
       "Name: Hispanic or Latino total, dtype: float64"
      ]
     },
     "execution_count": 4,
     "metadata": {},
     "output_type": "execute_result"
    }
   ],
   "source": [
    "df = cmodule.open_and_concat(all_files)\n",
    "df = cmodule.bs_degrees(df)\n",
    "df = cmodule.atmospheric_sciences(df)\n",
    "df.groupby('institution name').mean()['Hispanic or Latino total'].sort_values(ascending=False).head(30)  # ANNUAL MEAN (2009-2019)"
   ]
  },
  {
   "cell_type": "markdown",
   "id": "0570f6c5-1534-4456-add5-9a61c5a2c471",
   "metadata": {},
   "source": [
    "### Top 30 US institutions: Grand Total bachelor degree recipients in the Atmospheric Sciences (2009-2019)"
   ]
  },
  {
   "cell_type": "code",
   "execution_count": 5,
   "id": "deb3ae9c-887a-47ce-95b1-b98dd5451b80",
   "metadata": {},
   "outputs": [
    {
     "data": {
      "text/plain": [
       "institution name\n",
       "Pennsylvania State University-Main Campus              542\n",
       "University of Oklahoma-Norman Campus                   416\n",
       "University of Missouri-Columbia                        305\n",
       "Texas A & M University-College Station                 298\n",
       "Florida State University                               295\n",
       "Valparaiso University                                  249\n",
       "North Carolina State University at Raleigh             245\n",
       "Millersville University of Pennsylvania                229\n",
       "Embry-Riddle Aeronautical University-Daytona Beach     220\n",
       "University of Illinois at Urbana-Champaign             192\n",
       "University of Washington-Seattle Campus                185\n",
       "Iowa State University                                  181\n",
       "Northern Illinois University                           180\n",
       "University of Wisconsin-Madison                        171\n",
       "Virginia Polytechnic Institute and State University    161\n",
       "Rutgers University-New Brunswick                       158\n",
       "SUNY College at Oswego                                 154\n",
       "University of South Alabama                            151\n",
       "University of North Carolina at Charlotte              149\n",
       "University of California-Los Angeles                   138\n",
       "Saint Cloud State University                           130\n",
       "SUNY Maritime College                                  128\n",
       "SUNY at Albany                                         128\n",
       "Plymouth State University                              125\n",
       "Central Michigan University                            124\n",
       "University of North Carolina at Asheville              117\n",
       "University of North Dakota                             114\n",
       "Cornell University                                     112\n",
       "University of Nebraska-Lincoln                         110\n",
       "University of Kansas                                   109\n",
       "Name: Grand total, dtype: int64"
      ]
     },
     "execution_count": 5,
     "metadata": {},
     "output_type": "execute_result"
    }
   ],
   "source": [
    "df = cmodule.open_and_concat(all_files)\n",
    "df = cmodule.bs_degrees(df)\n",
    "df = cmodule.atmospheric_sciences(df)\n",
    "df.groupby('institution name').sum()['Grand total'].sort_values(ascending=False).head(30)   # TOTAL SUM (2009-2019)"
   ]
  },
  {
   "cell_type": "code",
   "execution_count": 6,
   "id": "c06f66c9-318b-40bf-92ee-aaa85337524c",
   "metadata": {},
   "outputs": [
    {
     "data": {
      "text/plain": [
       "institution name\n",
       "Pennsylvania State University-Main Campus              49.272727\n",
       "University of Oklahoma-Norman Campus                   37.818182\n",
       "University of Missouri-Columbia                        27.727273\n",
       "Texas A & M University-College Station                 27.090909\n",
       "Florida State University                               22.692308\n",
       "Embry-Riddle Aeronautical University-Daytona Beach     20.000000\n",
       "North Carolina State University at Raleigh             18.846154\n",
       "Iowa State University                                  16.454545\n",
       "Virginia Polytechnic Institute and State University    16.100000\n",
       "Millersville University of Pennsylvania                15.266667\n",
       "Rutgers University-New Brunswick                       14.363636\n",
       "SUNY Maritime College                                  14.222222\n",
       "SUNY College at Oswego                                 14.000000\n",
       "Valparaiso University                                  13.833333\n",
       "University of South Alabama                            13.727273\n",
       "Northern Illinois University                           12.857143\n",
       "University of North Carolina at Charlotte              11.461538\n",
       "Plymouth State University                              11.363636\n",
       "Purdue University-Main Campus                          10.888889\n",
       "Saint Cloud State University                           10.833333\n",
       "University of Illinois at Urbana-Champaign             10.666667\n",
       "SUNY at Albany                                         10.666667\n",
       "University of North Dakota                             10.363636\n",
       "University of Washington-Seattle Campus                10.277778\n",
       "Cornell University                                     10.181818\n",
       "Ohio State University-Main Campus                      10.125000\n",
       "Northern Vermont University                            10.000000\n",
       "University of Kansas                                    9.909091\n",
       "University of California-Los Angeles                    9.857143\n",
       "University of North Carolina at Asheville               9.750000\n",
       "Name: Grand total, dtype: float64"
      ]
     },
     "execution_count": 6,
     "metadata": {},
     "output_type": "execute_result"
    }
   ],
   "source": [
    "df = cmodule.open_and_concat(all_files)\n",
    "df = cmodule.bs_degrees(df)\n",
    "df = cmodule.atmospheric_sciences(df)\n",
    "df.groupby('institution name').mean()['Grand total'].sort_values(ascending=False).head(30)   # ANNUAL MEAN (2009-2019)"
   ]
  },
  {
   "cell_type": "markdown",
   "id": "9b223ed6-3583-44b0-905c-c9267b466445",
   "metadata": {},
   "source": [
    "### Top 30 US institutions: Hispanic/Latinx master degree recipients in the Atmospheric Sciences (2009-2019)"
   ]
  },
  {
   "cell_type": "code",
   "execution_count": 11,
   "id": "eb6a6b2c-7d1e-4c2c-9908-bbfaddd154a8",
   "metadata": {},
   "outputs": [
    {
     "data": {
      "text/plain": [
       "institution name\n",
       "Colorado State University-Fort Collins         10\n",
       "Naval Postgraduate School                       8\n",
       "Florida State University                        7\n",
       "University of Washington-Seattle Campus         6\n",
       "Pennsylvania State University-Main Campus       6\n",
       "University of Michigan-Ann Arbor                6\n",
       "University of Utah                              5\n",
       "University of Arizona                           5\n",
       "University of California-Los Angeles            5\n",
       "Texas A & M University-College Station          4\n",
       "San Jose State University                       4\n",
       "University of Wisconsin-Madison                 4\n",
       "University of Hawaii at Manoa                   3\n",
       "University of Colorado Boulder                  3\n",
       "University of Nevada-Reno                       3\n",
       "University of Alabama in Huntsville             3\n",
       "SUNY at Albany                                  3\n",
       "Ohio State University-Main Campus               2\n",
       "University of Oklahoma-Norman Campus            2\n",
       "South Dakota School of Mines and Technology     2\n",
       "University of Illinois at Urbana-Champaign      2\n",
       "Howard University                               1\n",
       "Hampton University                              1\n",
       "Saint Louis University                          1\n",
       "Florida Institute of Technology                 1\n",
       "Plymouth State University                       1\n",
       "Texas Tech University                           1\n",
       "University of California-Davis                  1\n",
       "University of North Dakota                      1\n",
       "University of Houston                           1\n",
       "Name: Hispanic or Latino total, dtype: int64"
      ]
     },
     "execution_count": 11,
     "metadata": {},
     "output_type": "execute_result"
    }
   ],
   "source": [
    "df = cmodule.open_and_concat(all_files)\n",
    "df = cmodule.ms_degrees(df)\n",
    "df = cmodule.atmospheric_sciences(df)\n",
    "df.groupby('institution name').sum()['Hispanic or Latino total'].sort_values(ascending=False).head(30)   # total sum (2009-2019)"
   ]
  },
  {
   "cell_type": "code",
   "execution_count": 12,
   "id": "46b1d7e2-cfdb-42b0-abe3-300e79baef62",
   "metadata": {},
   "outputs": [
    {
     "data": {
      "text/plain": [
       "institution name\n",
       "Colorado State University-Fort Collins         0.769231\n",
       "Naval Postgraduate School                      0.727273\n",
       "Florida State University                       0.636364\n",
       "Pennsylvania State University-Main Campus      0.545455\n",
       "University of Michigan-Ann Arbor               0.545455\n",
       "University of Utah                             0.454545\n",
       "University of Arizona                          0.454545\n",
       "University of California-Los Angeles           0.454545\n",
       "University of Washington-Seattle Campus        0.428571\n",
       "San Jose State University                      0.400000\n",
       "University of Wisconsin-Madison                0.363636\n",
       "Texas A & M University-College Station         0.363636\n",
       "University of Hawaii at Manoa                  0.272727\n",
       "University of Alabama in Huntsville            0.272727\n",
       "SUNY at Albany                                 0.272727\n",
       "University of Nevada-Reno                      0.272727\n",
       "University of Colorado Boulder                 0.230769\n",
       "Ohio State University-Main Campus              0.200000\n",
       "University of Illinois at Urbana-Champaign     0.181818\n",
       "South Dakota School of Mines and Technology    0.181818\n",
       "University of Oklahoma-Norman Campus           0.181818\n",
       "University of Missouri-Columbia                0.111111\n",
       "University of California-Davis                 0.100000\n",
       "Florida Institute of Technology                0.100000\n",
       "University of Houston                          0.100000\n",
       "Plymouth State University                      0.090909\n",
       "Howard University                              0.090909\n",
       "Hampton University                             0.090909\n",
       "Texas Tech University                          0.090909\n",
       "Saint Louis University                         0.090909\n",
       "Name: Hispanic or Latino total, dtype: float64"
      ]
     },
     "execution_count": 12,
     "metadata": {},
     "output_type": "execute_result"
    }
   ],
   "source": [
    "df = cmodule.open_and_concat(all_files)\n",
    "df = cmodule.ms_degrees(df)\n",
    "df = cmodule.atmospheric_sciences(df)\n",
    "df.groupby('institution name').mean()['Hispanic or Latino total'].sort_values(ascending=False).head(30)   # annual mean (2009-2019)"
   ]
  },
  {
   "cell_type": "markdown",
   "id": "e1e89ac9-ed0d-4ecd-89cf-df2fdf69ff28",
   "metadata": {},
   "source": [
    "### Top 30 US institutions: Grand total master degree recipients in the Atmospheric Sciences (2009-2019)"
   ]
  },
  {
   "cell_type": "code",
   "execution_count": 13,
   "id": "5f1f8f5a-8973-4138-923e-2594d5edfadb",
   "metadata": {},
   "outputs": [
    {
     "data": {
      "text/plain": [
       "institution name\n",
       "Naval Postgraduate School                      209\n",
       "University of Oklahoma-Norman Campus           173\n",
       "University of Michigan-Ann Arbor               163\n",
       "Colorado State University-Fort Collins         155\n",
       "Florida State University                       151\n",
       "University of Wisconsin-Madison                115\n",
       "Pennsylvania State University-Main Campus      110\n",
       "Texas A & M University-College Station         102\n",
       "University of Washington-Seattle Campus        100\n",
       "University of Alabama in Huntsville             99\n",
       "University of Illinois at Urbana-Champaign      93\n",
       "SUNY at Albany                                  83\n",
       "University of Colorado Boulder                  82\n",
       "University of California-Los Angeles            80\n",
       "University of Utah                              78\n",
       "University of Maryland-College Park             76\n",
       "Plymouth State University                       66\n",
       "University of North Dakota                      62\n",
       "University of Arizona                           61\n",
       "University of Hawaii at Manoa                   58\n",
       "University of Missouri-Columbia                 53\n",
       "South Dakota School of Mines and Technology     52\n",
       "University of Wyoming                           52\n",
       "Texas Tech University                           50\n",
       "Iowa State University                           44\n",
       "Princeton University                            39\n",
       "Ohio State University-Main Campus               34\n",
       "University of Nevada-Reno                       34\n",
       "University of California-Davis                  34\n",
       "Saint Louis University                          34\n",
       "Name: Grand total, dtype: int64"
      ]
     },
     "execution_count": 13,
     "metadata": {},
     "output_type": "execute_result"
    }
   ],
   "source": [
    "df = cmodule.open_and_concat(all_files)\n",
    "df = cmodule.ms_degrees(df)\n",
    "df = cmodule.atmospheric_sciences(df)\n",
    "df.groupby('institution name').sum()['Grand total'].sort_values(ascending=False).head(30)   # total sum (2009-2019)"
   ]
  },
  {
   "cell_type": "code",
   "execution_count": 14,
   "id": "ef7ac758-f5a4-4557-979b-612491d735ee",
   "metadata": {},
   "outputs": [
    {
     "data": {
      "text/plain": [
       "institution name\n",
       "Naval Postgraduate School                      19.000000\n",
       "University of Oklahoma-Norman Campus           15.727273\n",
       "University of Michigan-Ann Arbor               14.818182\n",
       "Florida State University                       13.727273\n",
       "Colorado State University-Fort Collins         11.923077\n",
       "University of Wisconsin-Madison                10.454545\n",
       "Pennsylvania State University-Main Campus      10.000000\n",
       "Texas A & M University-College Station          9.272727\n",
       "University of Alabama in Huntsville             9.000000\n",
       "University of Illinois at Urbana-Champaign      8.454545\n",
       "SUNY at Albany                                  7.545455\n",
       "University of California-Los Angeles            7.272727\n",
       "University of Washington-Seattle Campus         7.142857\n",
       "University of Utah                              7.090909\n",
       "University of Maryland-College Park             6.909091\n",
       "University of Colorado Boulder                  6.307692\n",
       "Plymouth State University                       6.000000\n",
       "University of Missouri-Columbia                 5.888889\n",
       "University of North Dakota                      5.636364\n",
       "University of Arizona                           5.545455\n",
       "University of Hawaii at Manoa                   5.272727\n",
       "South Dakota School of Mines and Technology     4.727273\n",
       "University of Wyoming                           4.727273\n",
       "Texas Tech University                           4.545455\n",
       "Iowa State University                           4.000000\n",
       "University of Wisconsin-Milwaukee               4.000000\n",
       "University of Miami                             3.666667\n",
       "Princeton University                            3.545455\n",
       "Ohio State University-Main Campus               3.400000\n",
       "University of California-Davis                  3.400000\n",
       "Name: Grand total, dtype: float64"
      ]
     },
     "execution_count": 14,
     "metadata": {},
     "output_type": "execute_result"
    }
   ],
   "source": [
    "df = cmodule.open_and_concat(all_files)\n",
    "df = cmodule.ms_degrees(df)\n",
    "df = cmodule.atmospheric_sciences(df)\n",
    "df.groupby('institution name').mean()['Grand total'].sort_values(ascending=False).head(30)   # annual mean (2009-2019)"
   ]
  },
  {
   "cell_type": "markdown",
   "id": "6b979739-f086-4cbb-abe9-d7d4fe996e5f",
   "metadata": {},
   "source": [
    "### Top 30 US institutions: Hispanic/Latinx doctorate degree recipients in the Atmospheric Sciences (2009-2019)"
   ]
  },
  {
   "cell_type": "code",
   "execution_count": 9,
   "id": "34020350-4306-48ff-bd53-942bb0ddebf1",
   "metadata": {},
   "outputs": [
    {
     "data": {
      "text/plain": [
       "institution name\n",
       "University of Washington-Seattle Campus      4\n",
       "Howard University                            4\n",
       "Pennsylvania State University-Main Campus    4\n",
       "Colorado State University-Fort Collins       3\n",
       "University of Colorado Boulder               3\n",
       "University of Utah                           3\n",
       "Florida State University                     3\n",
       "SUNY at Albany                               3\n",
       "Texas A & M University-College Station       2\n",
       "University of Wisconsin-Madison              2\n",
       "University of California-Los Angeles         2\n",
       "George Mason University                      1\n",
       "Massachusetts Institute of Technology        1\n",
       "Saint Louis University                       1\n",
       "University of California-Davis               1\n",
       "University of Alabama in Huntsville          1\n",
       "University of Oklahoma-Norman Campus         1\n",
       "University of Nevada-Reno                    1\n",
       "University of Michigan-Ann Arbor             1\n",
       "University of Delaware                       0\n",
       "Ohio State University-Main Campus            0\n",
       "Cornell University                           0\n",
       "University of North Dakota                   0\n",
       "Hampton University                           0\n",
       "Iowa State University                        0\n",
       "University of Missouri-Columbia              0\n",
       "Michigan Technological University            0\n",
       "Naval Postgraduate School                    0\n",
       "New York University                          0\n",
       "Oregon State University                      0\n",
       "Name: Hispanic or Latino total, dtype: int64"
      ]
     },
     "execution_count": 9,
     "metadata": {},
     "output_type": "execute_result"
    }
   ],
   "source": [
    "df = cmodule.open_and_concat(all_files)\n",
    "df = cmodule.phd_degrees(df)\n",
    "df = cmodule.atmospheric_sciences(df)\n",
    "df.groupby('institution name').sum()['Hispanic or Latino total'].sort_values(ascending=False).head(30)   # total sum (2009-2019)"
   ]
  },
  {
   "cell_type": "code",
   "execution_count": 10,
   "id": "58e183e6-9ec2-4a57-a0fc-cea706eaa767",
   "metadata": {},
   "outputs": [
    {
     "data": {
      "text/plain": [
       "institution name\n",
       "Howard University                            0.444444\n",
       "Pennsylvania State University-Main Campus    0.363636\n",
       "University of Utah                           0.300000\n",
       "SUNY at Albany                               0.300000\n",
       "University of Washington-Seattle Campus      0.285714\n",
       "Florida State University                     0.272727\n",
       "Colorado State University-Fort Collins       0.250000\n",
       "University of Colorado Boulder               0.250000\n",
       "Texas A & M University-College Station       0.181818\n",
       "University of Wisconsin-Madison              0.181818\n",
       "University of California-Los Angeles         0.181818\n",
       "Saint Louis University                       0.100000\n",
       "George Mason University                      0.090909\n",
       "Massachusetts Institute of Technology        0.090909\n",
       "University of California-Davis               0.090909\n",
       "University of Alabama in Huntsville          0.090909\n",
       "University of Oklahoma-Norman Campus         0.090909\n",
       "University of Nevada-Reno                    0.090909\n",
       "University of Michigan-Ann Arbor             0.090909\n",
       "University of Delaware                       0.000000\n",
       "Ohio State University-Main Campus            0.000000\n",
       "Cornell University                           0.000000\n",
       "University of North Dakota                   0.000000\n",
       "Hampton University                           0.000000\n",
       "Iowa State University                        0.000000\n",
       "University of Missouri-Columbia              0.000000\n",
       "Michigan Technological University            0.000000\n",
       "Naval Postgraduate School                    0.000000\n",
       "New York University                          0.000000\n",
       "Oregon State University                      0.000000\n",
       "Name: Hispanic or Latino total, dtype: float64"
      ]
     },
     "execution_count": 10,
     "metadata": {},
     "output_type": "execute_result"
    }
   ],
   "source": [
    "df = cmodule.open_and_concat(all_files)\n",
    "df = cmodule.phd_degrees(df)\n",
    "df = cmodule.atmospheric_sciences(df)\n",
    "df.groupby('institution name').mean()['Hispanic or Latino total'].sort_values(ascending=False).head(30)   # annual mean (2009-2019)"
   ]
  },
  {
   "cell_type": "markdown",
   "id": "1d47396c-4900-41f4-87b4-68204943518c",
   "metadata": {},
   "source": [
    "### Top 30 US institutions: Grand total doctorate degree recipients in the Atmospheric Sciences (2009-2019)"
   ]
  },
  {
   "cell_type": "code",
   "execution_count": 7,
   "id": "7216b335-e79a-4ae5-9475-10f008f5cbb2",
   "metadata": {},
   "outputs": [
    {
     "data": {
      "text/plain": [
       "institution name\n",
       "Colorado State University-Fort Collins        105\n",
       "University of Colorado Boulder                 89\n",
       "University of Washington-Seattle Campus        87\n",
       "Pennsylvania State University-Main Campus      86\n",
       "University of Oklahoma-Norman Campus           84\n",
       "University of Michigan-Ann Arbor               84\n",
       "University of Maryland-College Park            79\n",
       "Texas A & M University-College Station         60\n",
       "University of Wisconsin-Madison                59\n",
       "SUNY at Albany                                 55\n",
       "University of California-Los Angeles           55\n",
       "Massachusetts Institute of Technology          52\n",
       "Florida State University                       51\n",
       "University of Illinois at Urbana-Champaign     49\n",
       "University of Utah                             41\n",
       "George Mason University                        36\n",
       "Princeton University                           33\n",
       "University of Arizona                          28\n",
       "University of Alabama in Huntsville            27\n",
       "University of California-Davis                 27\n",
       "University of Hawaii at Manoa                  26\n",
       "University of Missouri-Columbia                26\n",
       "University of Nevada-Reno                      25\n",
       "Rutgers University-New Brunswick               23\n",
       "Iowa State University                          23\n",
       "Howard University                              22\n",
       "University of Wyoming                          20\n",
       "University of Houston                          20\n",
       "Naval Postgraduate School                      18\n",
       "Saint Louis University                         18\n",
       "Name: Grand total, dtype: int64"
      ]
     },
     "execution_count": 7,
     "metadata": {},
     "output_type": "execute_result"
    }
   ],
   "source": [
    "df = cmodule.open_and_concat(all_files)\n",
    "df = cmodule.phd_degrees(df)\n",
    "df = cmodule.atmospheric_sciences(df)\n",
    "df.groupby('institution name').sum()['Grand total'].sort_values(ascending=False).head(30)   # total sum (2009-2019)"
   ]
  },
  {
   "cell_type": "code",
   "execution_count": 8,
   "id": "e5b9f4c4-64e9-441e-b5f5-9b44e91dcc4f",
   "metadata": {},
   "outputs": [
    {
     "data": {
      "text/plain": [
       "institution name\n",
       "Colorado State University-Fort Collins        8.750000\n",
       "Pennsylvania State University-Main Campus     7.818182\n",
       "University of Oklahoma-Norman Campus          7.636364\n",
       "University of Michigan-Ann Arbor              7.636364\n",
       "University of Colorado Boulder                7.416667\n",
       "University of Maryland-College Park           7.181818\n",
       "University of Washington-Seattle Campus       6.214286\n",
       "SUNY at Albany                                5.500000\n",
       "Texas A & M University-College Station        5.454545\n",
       "University of Wisconsin-Madison               5.363636\n",
       "University of California-Los Angeles          5.000000\n",
       "Massachusetts Institute of Technology         4.727273\n",
       "Florida State University                      4.636364\n",
       "University of Illinois at Urbana-Champaign    4.454545\n",
       "University of Utah                            4.100000\n",
       "George Mason University                       3.272727\n",
       "Princeton University                          3.000000\n",
       "University of Arizona                         2.800000\n",
       "University of Alabama in Huntsville           2.454545\n",
       "University of California-Davis                2.454545\n",
       "Howard University                             2.444444\n",
       "University of Hawaii at Manoa                 2.363636\n",
       "University of Missouri-Columbia               2.363636\n",
       "Rutgers University-New Brunswick              2.300000\n",
       "University of Nevada-Reno                     2.272727\n",
       "University of Houston                         2.222222\n",
       "University of Wyoming                         1.818182\n",
       "Naval Postgraduate School                     1.800000\n",
       "Saint Louis University                        1.800000\n",
       "Iowa State University                         1.533333\n",
       "Name: Grand total, dtype: float64"
      ]
     },
     "execution_count": 8,
     "metadata": {},
     "output_type": "execute_result"
    }
   ],
   "source": [
    "df = cmodule.open_and_concat(all_files)\n",
    "df = cmodule.phd_degrees(df)\n",
    "df = cmodule.atmospheric_sciences(df)\n",
    "df.groupby('institution name').mean()['Grand total'].sort_values(ascending=False).head(30)   # ANNUAL MEAN (2009-2019)"
   ]
  },
  {
   "cell_type": "code",
   "execution_count": null,
   "id": "ec745dcc-868e-4615-ad08-b233223de6e9",
   "metadata": {},
   "outputs": [],
   "source": []
  }
 ],
 "metadata": {
  "kernelspec": {
   "display_name": "Python [conda env:miniconda3-python-tutorial]",
   "language": "python",
   "name": "conda-env-miniconda3-python-tutorial-python3_myenv"
  },
  "language_info": {
   "codemirror_mode": {
    "name": "ipython",
    "version": 3
   },
   "file_extension": ".py",
   "mimetype": "text/x-python",
   "name": "python",
   "nbconvert_exporter": "python",
   "pygments_lexer": "ipython3",
   "version": "3.7.3"
  }
 },
 "nbformat": 4,
 "nbformat_minor": 5
}
