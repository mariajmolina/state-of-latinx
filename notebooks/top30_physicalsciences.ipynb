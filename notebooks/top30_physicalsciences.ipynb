{
 "cells": [
  {
   "cell_type": "code",
   "execution_count": 1,
   "id": "45070c52-c55e-439d-938f-1385caddb09f",
   "metadata": {},
   "outputs": [],
   "source": [
    "import pandas as pd\n",
    "import numpy as np\n",
    "import glob\n",
    "import os\n",
    "import matplotlib.pyplot as plt\n",
    "import completions_module as cmodule"
   ]
  },
  {
   "cell_type": "markdown",
   "id": "983d4ba3-7571-4853-a6c9-055550161b74",
   "metadata": {},
   "source": [
    "This notebook contains various tables for `Physical Sciences` degrees (2009-2019).\n",
    "\n",
    "- Table 1: Bachelors / Hispanic + Latinx (total sum for year range)\n",
    "- Table 2: Bachelors / Hispanic + Latinx (annual mean for year range)\n",
    "- Table 3: Bachelors / Grand total (total sum for year range)\n",
    "- Table 4: Bachelors / Grand total (annual mean for year range)\n",
    "\n",
    "- Table 5: Masters / Hispanic + Latinx (total sum for year range)\n",
    "- Table 6: Masters / Hispanic + Latinx (annual mean for year range)\n",
    "- Table 7: Masters / Grand total (total sum for year range)\n",
    "- Table 8: Masters / Grand total (annual mean for year range)\n",
    "\n",
    "- Table 9: Doctorate / Hispanic + Latinx (total sum for year range)\n",
    "- Table 10: Doctorate / Hispanic + Latinx (annual mean for year range)\n",
    "- Table 11: Doctorate / Grand total (total sum for year range)\n",
    "- Table 12: Doctorate / Grand total (annual mean for year range)\n",
    "\n",
    "\n",
    "_Author: Maria J. Molina (molina@ucar.edu)_"
   ]
  },
  {
   "cell_type": "code",
   "execution_count": 2,
   "id": "55d56b23-aa00-4b3d-bfab-6bc8aebcf14e",
   "metadata": {},
   "outputs": [],
   "source": [
    "all_files = glob.glob(\"../data/completions_*.csv\")\n",
    "all_files = sorted(all_files)"
   ]
  },
  {
   "cell_type": "markdown",
   "id": "8f5c9d7f-0b2a-4d84-be86-92ff1504377a",
   "metadata": {},
   "source": [
    "### Top 30 US institutions: Hispanic/Latinx bachelor degree recipients in the Physical Sciences (2009-2019)"
   ]
  },
  {
   "cell_type": "code",
   "execution_count": 3,
   "id": "43e7f4da-a3c8-40a9-b41b-cfc1c1b4306d",
   "metadata": {},
   "outputs": [
    {
     "data": {
      "text/plain": [
       "institution name\n",
       "Florida International University               876\n",
       "The University of Texas at Austin              510\n",
       "The University of Texas at El Paso             365\n",
       "Texas A & M University-College Station         356\n",
       "University of California-San Diego             341\n",
       "University of California-Irvine                323\n",
       "University of Houston                          302\n",
       "University of California-Berkeley              260\n",
       "University of California-Los Angeles           249\n",
       "University of Arizona                          238\n",
       "University of California-Davis                 209\n",
       "United States Naval Academy                    191\n",
       "San Diego State University                     190\n",
       "University of Washington-Seattle Campus        189\n",
       "University of South Florida-Main Campus        180\n",
       "University of Illinois at Urbana-Champaign     179\n",
       "Florida State University                       175\n",
       "Texas A & M University-Corpus Christi          155\n",
       "Northern Arizona University                    153\n",
       "Pennsylvania State University-Main Campus      150\n",
       "Arizona State University-Tempe                 149\n",
       "Texas Tech University                          144\n",
       "University of North Carolina at Chapel Hill    135\n",
       "Massachusetts Institute of Technology          132\n",
       "Stanford University                            115\n",
       "San Jose State University                      113\n",
       "The University of Texas at Arlington           111\n",
       "University of Chicago                          110\n",
       "University of California-Merced                108\n",
       "University of Miami                            107\n",
       "Name: Hispanic or Latino total, dtype: int64"
      ]
     },
     "execution_count": 3,
     "metadata": {},
     "output_type": "execute_result"
    }
   ],
   "source": [
    "df = cmodule.open_and_concat(all_files)\n",
    "df = cmodule.bs_degrees(df)\n",
    "df = cmodule.physical_sciences(df)\n",
    "df.groupby('institution name').sum()['Hispanic or Latino total'].sort_values(ascending=False).head(30)  # TOTAL SUM (2009-2019)"
   ]
  },
  {
   "cell_type": "code",
   "execution_count": 4,
   "id": "d6dab67c-11f0-45ba-bba2-073d1e3b90b1",
   "metadata": {},
   "outputs": [
    {
     "data": {
      "text/plain": [
       "institution name\n",
       "The University of Texas at Austin                46.363636\n",
       "Florida International University                 46.105263\n",
       "University of Houston                            27.454545\n",
       "Texas A & M University-College Station           18.736842\n",
       "The University of Texas at El Paso               18.250000\n",
       "University of California-San Diego               15.500000\n",
       "University of California-Irvine                  14.681818\n",
       "United States Naval Academy                      13.642857\n",
       "Pennsylvania State University-Main Campus        13.636364\n",
       "Texas A & M University-Corpus Christi            12.916667\n",
       "University of South Florida-Main Campus          12.000000\n",
       "University of California-Los Angeles             11.857143\n",
       "University of California-Berkeley                11.818182\n",
       "Arizona State University-Tempe                   11.461538\n",
       "CUNY Graduate School and University Center       11.375000\n",
       "University of Arizona                            10.818182\n",
       "Rutgers University-New Brunswick                  9.545455\n",
       "San Diego State University                        9.500000\n",
       "University of California-Davis                    9.500000\n",
       "University of Washington-Seattle Campus           8.590909\n",
       "The University of Texas at Arlington              8.538462\n",
       "Florida State University                          8.333333\n",
       "University of Illinois at Urbana-Champaign        8.136364\n",
       "Texas Tech University                             8.000000\n",
       "Northern Arizona University                       6.954545\n",
       "University of Utah                                6.692308\n",
       "Massachusetts Institute of Technology             6.285714\n",
       "San Jose State University                         6.277778\n",
       "University of North Carolina at Chapel Hill       6.136364\n",
       "New Mexico Institute of Mining and Technology     6.000000\n",
       "Name: Hispanic or Latino total, dtype: float64"
      ]
     },
     "execution_count": 4,
     "metadata": {},
     "output_type": "execute_result"
    }
   ],
   "source": [
    "df = cmodule.open_and_concat(all_files)\n",
    "df = cmodule.bs_degrees(df)\n",
    "df = cmodule.physical_sciences(df)\n",
    "df.groupby('institution name').mean()['Hispanic or Latino total'].sort_values(ascending=False).head(30)  # ANNUAL MEAN (2009-2019)"
   ]
  },
  {
   "cell_type": "markdown",
   "id": "a4492140-cb2a-46c4-ae67-48c4342a87ba",
   "metadata": {},
   "source": [
    "### Top 30 US institutions: Grand Total bachelor degree recipients in the Physical Sciences (2009-2019)"
   ]
  },
  {
   "cell_type": "code",
   "execution_count": 6,
   "id": "0607f33c-bc48-4120-9557-f897475a3812",
   "metadata": {},
   "outputs": [
    {
     "data": {
      "text/plain": [
       "institution name\n",
       "Pennsylvania State University-Main Campus              3827\n",
       "University of Washington-Seattle Campus                3590\n",
       "University of California-Berkeley                      3337\n",
       "University of California-San Diego                     3143\n",
       "The University of Texas at Austin                      2848\n",
       "University of Illinois at Urbana-Champaign             2648\n",
       "University of North Carolina at Chapel Hill            2398\n",
       "University of Minnesota-Twin Cities                    2358\n",
       "University of California-Irvine                        2174\n",
       "Texas A & M University-College Station                 2165\n",
       "University of Wisconsin-Madison                        1887\n",
       "University of California-Los Angeles                   1825\n",
       "University of Virginia-Main Campus                     1749\n",
       "University of Arizona                                  1727\n",
       "University of California-Davis                         1672\n",
       "United States Naval Academy                            1641\n",
       "University of Maryland-College Park                    1576\n",
       "Ohio State University-Main Campus                      1572\n",
       "Michigan State University                              1549\n",
       "University of Colorado Boulder                         1540\n",
       "University of Utah                                     1506\n",
       "Purdue University-Main Campus                          1498\n",
       "North Carolina State University at Raleigh             1465\n",
       "Virginia Polytechnic Institute and State University    1461\n",
       "University of Houston                                  1413\n",
       "University of Chicago                                  1401\n",
       "University of Michigan-Ann Arbor                       1395\n",
       "Rutgers University-New Brunswick                       1380\n",
       "Stony Brook University                                 1366\n",
       "University of Oklahoma-Norman Campus                   1278\n",
       "Name: Grand total, dtype: int64"
      ]
     },
     "execution_count": 6,
     "metadata": {},
     "output_type": "execute_result"
    }
   ],
   "source": [
    "df = cmodule.open_and_concat(all_files)\n",
    "df = cmodule.bs_degrees(df)\n",
    "df = cmodule.physical_sciences(df)\n",
    "df.groupby('institution name').sum()['Grand total'].sort_values(ascending=False).head(30)  # TOTAL SUM (2009-2019)"
   ]
  },
  {
   "cell_type": "code",
   "execution_count": 8,
   "id": "fa1ab5cd-e543-44b4-8c02-caf5be3dc550",
   "metadata": {},
   "outputs": [
    {
     "data": {
      "text/plain": [
       "institution name\n",
       "Pennsylvania State University-Main Campus      347.909091\n",
       "The University of Texas at Austin              258.909091\n",
       "University of Washington-Seattle Campus        163.181818\n",
       "University of California-Berkeley              151.681818\n",
       "University of California-San Diego             142.863636\n",
       "Michigan State University                      140.818182\n",
       "University of Houston                          128.454545\n",
       "Rutgers University-New Brunswick               125.454545\n",
       "University of Illinois at Urbana-Champaign     120.363636\n",
       "United States Naval Academy                    117.214286\n",
       "University of Utah                             115.846154\n",
       "Texas A & M University-College Station         113.947368\n",
       "University of North Carolina at Chapel Hill    109.000000\n",
       "University of Minnesota-Twin Cities            107.181818\n",
       "Mississippi State University                    99.363636\n",
       "University of California-Irvine                 98.818182\n",
       "University of Oklahoma-Norman Campus            98.307692\n",
       "Purdue University-Main Campus                   93.625000\n",
       "North Carolina State University at Raleigh      91.562500\n",
       "University of California-Los Angeles            86.904762\n",
       "University of Wisconsin-Madison                 85.772727\n",
       "Arizona State University-Tempe                  84.384615\n",
       "University of Missouri-Columbia                 83.909091\n",
       "University of Virginia-Main Campus              79.500000\n",
       "University of Maryland-College Park             78.800000\n",
       "University of Arizona                           78.500000\n",
       "University of South Florida-Main Campus         77.933333\n",
       "University of California-Davis                  76.000000\n",
       "Montana State University                        75.181818\n",
       "University of Colorado Boulder                  73.333333\n",
       "Name: Grand total, dtype: float64"
      ]
     },
     "execution_count": 8,
     "metadata": {},
     "output_type": "execute_result"
    }
   ],
   "source": [
    "df = cmodule.open_and_concat(all_files)\n",
    "df = cmodule.bs_degrees(df)\n",
    "df = cmodule.physical_sciences(df)\n",
    "df.groupby('institution name').mean()['Grand total'].sort_values(ascending=False).head(30)  # ANNUAL MEAN (2009-2019)"
   ]
  },
  {
   "cell_type": "markdown",
   "id": "eeb1511a-87fa-4e19-8a52-be893dd04a6f",
   "metadata": {},
   "source": [
    "### Top 30 US institutions: Hispanic/Latinx master degree recipients in the Physical Sciences (2009-2019)"
   ]
  },
  {
   "cell_type": "code",
   "execution_count": 13,
   "id": "9084757c-b430-4afd-8d8b-3f4d2906810c",
   "metadata": {},
   "outputs": [
    {
     "data": {
      "text/plain": [
       "institution name\n",
       "University of California-San Diego             86\n",
       "The University of Texas at El Paso             81\n",
       "University of Arizona                          70\n",
       "Johns Hopkins University                       64\n",
       "University of California-Los Angeles           63\n",
       "Texas A & M University-College Station         62\n",
       "CUNY Graduate School and University Center     58\n",
       "Stanford University                            57\n",
       "Florida International University               57\n",
       "University of Houston                          54\n",
       "University of Michigan-Ann Arbor               54\n",
       "University of California-Berkeley              42\n",
       "Pennsylvania State University-Main Campus      40\n",
       "University of Washington-Seattle Campus        37\n",
       "Florida State University                       36\n",
       "The University of Texas at Austin              36\n",
       "Columbia University in the City of New York    34\n",
       "University of Wisconsin-Madison                34\n",
       "University of California-Irvine                33\n",
       "San Diego State University                     33\n",
       "Ohio State University-Main Campus              30\n",
       "Harvard University                             28\n",
       "Mississippi State University                   26\n",
       "University of Colorado Boulder                 24\n",
       "San Francisco State University                 24\n",
       "Princeton University                           23\n",
       "Texas Tech University                          22\n",
       "CUNY City College                              22\n",
       "Rice University                                22\n",
       "Yale University                                21\n",
       "Name: Hispanic or Latino total, dtype: int64"
      ]
     },
     "execution_count": 13,
     "metadata": {},
     "output_type": "execute_result"
    }
   ],
   "source": [
    "df = cmodule.open_and_concat(all_files)\n",
    "df = cmodule.ms_degrees(df)\n",
    "df = cmodule.physical_sciences(df)\n",
    "df.groupby('institution name').sum()['Hispanic or Latino total'].sort_values(ascending=False).head(30)  # TOTAL SUM (2009-2019)"
   ]
  },
  {
   "cell_type": "code",
   "execution_count": 14,
   "id": "ba93c5b3-dc4f-42e7-a963-e5923f92200f",
   "metadata": {},
   "outputs": [
    {
     "data": {
      "text/plain": [
       "institution name\n",
       "University of California-San Diego             7.818182\n",
       "The University of Texas at El Paso             7.363636\n",
       "University of Arizona                          6.363636\n",
       "Johns Hopkins University                       5.818182\n",
       "CUNY Graduate School and University Center     5.800000\n",
       "University of California-Los Angeles           5.727273\n",
       "Texas A & M University-College Station         5.636364\n",
       "Florida International University               5.181818\n",
       "Stanford University                            5.181818\n",
       "University of Michigan-Ann Arbor               4.909091\n",
       "University of Houston                          4.909091\n",
       "University of California-Berkeley              3.818182\n",
       "Pennsylvania State University-Main Campus      3.636364\n",
       "Florida State University                       3.272727\n",
       "The University of Texas at Austin              3.272727\n",
       "University of Wisconsin-Madison                3.090909\n",
       "Columbia University in the City of New York    3.090909\n",
       "University of California-Irvine                3.000000\n",
       "San Diego State University                     3.000000\n",
       "Ohio State University-Main Campus              2.727273\n",
       "University of Washington-Seattle Campus        2.642857\n",
       "Harvard University                             2.545455\n",
       "Mississippi State University                   2.363636\n",
       "San Francisco State University                 2.181818\n",
       "Princeton University                           2.090909\n",
       "CUNY City College                              2.000000\n",
       "Texas Tech University                          2.000000\n",
       "University of Colorado Boulder                 1.846154\n",
       "University of Chicago                          1.818182\n",
       "University of Utah                             1.818182\n",
       "Name: Hispanic or Latino total, dtype: float64"
      ]
     },
     "execution_count": 14,
     "metadata": {},
     "output_type": "execute_result"
    }
   ],
   "source": [
    "df = cmodule.open_and_concat(all_files)\n",
    "df = cmodule.ms_degrees(df)\n",
    "df = cmodule.physical_sciences(df)\n",
    "df.groupby('institution name').mean()['Hispanic or Latino total'].sort_values(ascending=False).head(30)  # annual mean (2009-2019)"
   ]
  },
  {
   "cell_type": "markdown",
   "id": "2017b16c-74c6-4896-ada3-586cd157d010",
   "metadata": {},
   "source": [
    "### Top 30 US institutions: Grand total master degree recipients in the Physical Sciences (2009-2019)"
   ]
  },
  {
   "cell_type": "code",
   "execution_count": 11,
   "id": "5287baa6-7ec9-41c1-8a3c-3576fb6b7422",
   "metadata": {},
   "outputs": [
    {
     "data": {
      "text/plain": [
       "institution name\n",
       "Johns Hopkins University                       1361\n",
       "University of California-San Diego             1109\n",
       "University of Arizona                          1065\n",
       "Mississippi State University                   1061\n",
       "University of Washington-Seattle Campus         991\n",
       "Columbia University in the City of New York     899\n",
       "University of Michigan-Ann Arbor                885\n",
       "University of California-Los Angeles            807\n",
       "University of Houston                           777\n",
       "University of California-Berkeley               770\n",
       "University of Chicago                           763\n",
       "Texas A & M University-College Station          741\n",
       "Cornell University                              733\n",
       "University of Wisconsin-Madison                 733\n",
       "Florida State University                        716\n",
       "University of Oklahoma-Norman Campus            704\n",
       "Princeton University                            684\n",
       "Yale University                                 682\n",
       "Rice University                                 676\n",
       "University of Minnesota-Twin Cities             661\n",
       "University of Colorado Boulder                  632\n",
       "The University of Texas at Austin               611\n",
       "Ohio State University-Main Campus               609\n",
       "University of Utah                              609\n",
       "Stanford University                             607\n",
       "Harvard University                              591\n",
       "Pennsylvania State University-Main Campus       575\n",
       "University of California-Irvine                 492\n",
       "Colorado State University-Fort Collins          477\n",
       "Brown University                                466\n",
       "Name: Grand total, dtype: int64"
      ]
     },
     "execution_count": 11,
     "metadata": {},
     "output_type": "execute_result"
    }
   ],
   "source": [
    "df = cmodule.open_and_concat(all_files)\n",
    "df = cmodule.ms_degrees(df)\n",
    "df = cmodule.physical_sciences(df)\n",
    "df.groupby('institution name').sum()['Grand total'].sort_values(ascending=False).head(30)  # TOTAL SUM (2009-2019)"
   ]
  },
  {
   "cell_type": "code",
   "execution_count": 12,
   "id": "74a2d396-5622-4eb8-9821-51c92882d60a",
   "metadata": {},
   "outputs": [
    {
     "data": {
      "text/plain": [
       "institution name\n",
       "Johns Hopkins University                       123.727273\n",
       "University of California-San Diego             100.818182\n",
       "University of Arizona                           96.818182\n",
       "Mississippi State University                    96.454545\n",
       "Columbia University in the City of New York     81.727273\n",
       "University of Michigan-Ann Arbor                80.454545\n",
       "University of California-Los Angeles            73.363636\n",
       "University of Washington-Seattle Campus         70.785714\n",
       "University of Houston                           70.636364\n",
       "University of California-Berkeley               70.000000\n",
       "University of Chicago                           69.363636\n",
       "Texas A & M University-College Station          67.363636\n",
       "Cornell University                              66.636364\n",
       "University of Wisconsin-Madison                 66.636364\n",
       "Florida State University                        65.090909\n",
       "University of Oklahoma-Norman Campus            64.000000\n",
       "Princeton University                            62.181818\n",
       "University of Minnesota-Twin Cities             60.090909\n",
       "Yale University                                 56.833333\n",
       "The University of Texas at Austin               55.545455\n",
       "Ohio State University-Main Campus               55.363636\n",
       "University of Utah                              55.363636\n",
       "Stanford University                             55.181818\n",
       "Harvard University                              53.727273\n",
       "Pennsylvania State University-Main Campus       52.272727\n",
       "Rice University                                 52.000000\n",
       "University of Colorado Boulder                  48.615385\n",
       "University of California-Irvine                 44.727273\n",
       "Brown University                                42.363636\n",
       "University of Illinois at Urbana-Champaign      41.000000\n",
       "Name: Grand total, dtype: float64"
      ]
     },
     "execution_count": 12,
     "metadata": {},
     "output_type": "execute_result"
    }
   ],
   "source": [
    "df = cmodule.open_and_concat(all_files)\n",
    "df = cmodule.ms_degrees(df)\n",
    "df = cmodule.physical_sciences(df)\n",
    "df.groupby('institution name').mean()['Grand total'].sort_values(ascending=False).head(30)  # annual mean (2009-2019)"
   ]
  },
  {
   "cell_type": "markdown",
   "id": "376947b0-b490-4eff-8d61-856801344216",
   "metadata": {},
   "source": [
    "### Top 30 US institutions: Hispanic/Latinx doctorate degree recipients in the Physical Sciences (2009-2019)"
   ]
  },
  {
   "cell_type": "code",
   "execution_count": 15,
   "id": "ed3dfccc-05dc-497e-b87f-fb0a4a1c3290",
   "metadata": {},
   "outputs": [
    {
     "data": {
      "text/plain": [
       "institution name\n",
       "University of California-Berkeley              63\n",
       "University of California-San Diego             49\n",
       "University of California-Los Angeles           46\n",
       "Florida International University               46\n",
       "CUNY Graduate School and University Center     44\n",
       "The University of Texas at Austin              43\n",
       "Texas A & M University-College Station         39\n",
       "Massachusetts Institute of Technology          37\n",
       "Stanford University                            36\n",
       "Pennsylvania State University-Main Campus      36\n",
       "University of California-Irvine                34\n",
       "University of California-Davis                 33\n",
       "University of Michigan-Ann Arbor               32\n",
       "Purdue University-Main Campus                  28\n",
       "University of Arizona                          28\n",
       "University of South Florida-Main Campus        26\n",
       "California Institute of Technology             25\n",
       "Columbia University in the City of New York    25\n",
       "Rice University                                24\n",
       "University of Wisconsin-Madison                24\n",
       "Northwestern University                        23\n",
       "The University of Texas at El Paso             22\n",
       "University of Colorado Boulder                 21\n",
       "University of Illinois at Urbana-Champaign     21\n",
       "Harvard University                             19\n",
       "University of Miami                            18\n",
       "Georgia Institute of Technology-Main Campus    17\n",
       "North Carolina State University at Raleigh     17\n",
       "University of Southern California              16\n",
       "Arizona State University-Tempe                 15\n",
       "Name: Hispanic or Latino total, dtype: int64"
      ]
     },
     "execution_count": 15,
     "metadata": {},
     "output_type": "execute_result"
    }
   ],
   "source": [
    "df = cmodule.open_and_concat(all_files)\n",
    "df = cmodule.phd_degrees(df)\n",
    "df = cmodule.physical_sciences(df)\n",
    "df.groupby('institution name').sum()['Hispanic or Latino total'].sort_values(ascending=False).head(30)  # total sum (2009-2019)"
   ]
  },
  {
   "cell_type": "code",
   "execution_count": 16,
   "id": "64fcdfcf-882d-4690-8776-d0912263642c",
   "metadata": {},
   "outputs": [
    {
     "data": {
      "text/plain": [
       "institution name\n",
       "University of California-Berkeley              5.727273\n",
       "University of California-San Diego             4.454545\n",
       "Florida International University               4.181818\n",
       "University of California-Los Angeles           4.181818\n",
       "CUNY Graduate School and University Center     4.000000\n",
       "The University of Texas at Austin              3.909091\n",
       "Texas A & M University-College Station         3.545455\n",
       "Massachusetts Institute of Technology          3.363636\n",
       "Pennsylvania State University-Main Campus      3.272727\n",
       "Stanford University                            3.272727\n",
       "University of California-Irvine                3.090909\n",
       "University of California-Davis                 3.000000\n",
       "University of Michigan-Ann Arbor               2.909091\n",
       "University of Arizona                          2.545455\n",
       "Purdue University-Main Campus                  2.545455\n",
       "University of South Florida-Main Campus        2.363636\n",
       "California Institute of Technology             2.272727\n",
       "Columbia University in the City of New York    2.272727\n",
       "University of Wisconsin-Madison                2.181818\n",
       "Rice University                                2.181818\n",
       "The University of Texas at El Paso             2.000000\n",
       "University of Illinois at Urbana-Champaign     1.909091\n",
       "Harvard University                             1.727273\n",
       "University of Miami                            1.636364\n",
       "University of Colorado Boulder                 1.615385\n",
       "Georgia Institute of Technology-Main Campus    1.545455\n",
       "North Carolina State University at Raleigh     1.416667\n",
       "Cornell University                             1.363636\n",
       "Arizona State University-Tempe                 1.363636\n",
       "Princeton University                           1.272727\n",
       "Name: Hispanic or Latino total, dtype: float64"
      ]
     },
     "execution_count": 16,
     "metadata": {},
     "output_type": "execute_result"
    }
   ],
   "source": [
    "df = cmodule.open_and_concat(all_files)\n",
    "df = cmodule.phd_degrees(df)\n",
    "df = cmodule.physical_sciences(df)\n",
    "df.groupby('institution name').mean()['Hispanic or Latino total'].sort_values(ascending=False).head(30)  # annual mean (2009-2019)"
   ]
  },
  {
   "cell_type": "markdown",
   "id": "fff6e8d5-51c7-4810-aa0a-ed1aeff2149d",
   "metadata": {},
   "source": [
    "### Top 30 US institutions: Grand total doctorate degree recipients in the Physical Sciences (2009-2019)"
   ]
  },
  {
   "cell_type": "code",
   "execution_count": 9,
   "id": "2b74bd9f-91ba-4782-8696-b103ce8cc7c9",
   "metadata": {},
   "outputs": [
    {
     "data": {
      "text/plain": [
       "institution name\n",
       "University of California-Berkeley              1390\n",
       "Stanford University                            1178\n",
       "Massachusetts Institute of Technology          1097\n",
       "University of Michigan-Ann Arbor               1064\n",
       "University of Illinois at Urbana-Champaign     1042\n",
       "The University of Texas at Austin               996\n",
       "University of Wisconsin-Madison                 978\n",
       "University of California-San Diego              942\n",
       "Purdue University-Main Campus                   930\n",
       "University of Arizona                           912\n",
       "Harvard University                              907\n",
       "Texas A & M University-College Station          881\n",
       "Pennsylvania State University-Main Campus       868\n",
       "University of Washington-Seattle Campus         850\n",
       "California Institute of Technology              807\n",
       "University of California-Los Angeles            785\n",
       "University of Colorado Boulder                  783\n",
       "Ohio State University-Main Campus               778\n",
       "University of Maryland-College Park             751\n",
       "University of California-Irvine                 697\n",
       "Princeton University                            686\n",
       "University of California-Davis                  667\n",
       "Cornell University                              666\n",
       "Columbia University in the City of New York     642\n",
       "University of Minnesota-Twin Cities             638\n",
       "University of North Carolina at Chapel Hill     634\n",
       "Michigan State University                       632\n",
       "University of Chicago                           625\n",
       "Georgia Institute of Technology-Main Campus     620\n",
       "Northwestern University                         611\n",
       "Name: Grand total, dtype: int64"
      ]
     },
     "execution_count": 9,
     "metadata": {},
     "output_type": "execute_result"
    }
   ],
   "source": [
    "df = cmodule.open_and_concat(all_files)\n",
    "df = cmodule.phd_degrees(df)\n",
    "df = cmodule.physical_sciences(df)\n",
    "df.groupby('institution name').sum()['Grand total'].sort_values(ascending=False).head(30)  # TOTAL SUM (2009-2019)"
   ]
  },
  {
   "cell_type": "code",
   "execution_count": 10,
   "id": "7f535a28-9421-4320-abb2-b737a34a79d0",
   "metadata": {},
   "outputs": [
    {
     "data": {
      "text/plain": [
       "institution name\n",
       "University of California-Berkeley              126.363636\n",
       "Stanford University                            107.090909\n",
       "Massachusetts Institute of Technology           99.727273\n",
       "University of Michigan-Ann Arbor                96.727273\n",
       "University of Illinois at Urbana-Champaign      94.727273\n",
       "The University of Texas at Austin               90.545455\n",
       "University of Wisconsin-Madison                 88.909091\n",
       "University of California-San Diego              85.636364\n",
       "Purdue University-Main Campus                   84.545455\n",
       "University of Arizona                           82.909091\n",
       "Harvard University                              82.454545\n",
       "Texas A & M University-College Station          80.090909\n",
       "Pennsylvania State University-Main Campus       78.909091\n",
       "California Institute of Technology              73.363636\n",
       "University of California-Los Angeles            71.363636\n",
       "Ohio State University-Main Campus               70.727273\n",
       "University of Maryland-College Park             68.272727\n",
       "University of California-Irvine                 63.363636\n",
       "Princeton University                            62.363636\n",
       "University of Washington-Seattle Campus         60.714286\n",
       "University of California-Davis                  60.636364\n",
       "Cornell University                              60.545455\n",
       "University of Colorado Boulder                  60.230769\n",
       "Columbia University in the City of New York     58.363636\n",
       "University of Minnesota-Twin Cities             58.000000\n",
       "Michigan State University                       57.454545\n",
       "University of Chicago                           56.818182\n",
       "Georgia Institute of Technology-Main Campus     56.363636\n",
       "Florida State University                        54.272727\n",
       "University of North Carolina at Chapel Hill     52.833333\n",
       "Name: Grand total, dtype: float64"
      ]
     },
     "execution_count": 10,
     "metadata": {},
     "output_type": "execute_result"
    }
   ],
   "source": [
    "df = cmodule.open_and_concat(all_files)\n",
    "df = cmodule.phd_degrees(df)\n",
    "df = cmodule.physical_sciences(df)\n",
    "df.groupby('institution name').mean()['Grand total'].sort_values(ascending=False).head(30)  # annual mean (2009-2019)"
   ]
  }
 ],
 "metadata": {
  "kernelspec": {
   "display_name": "Python [conda env:python-tutorial]",
   "language": "python",
   "name": "conda-env-python-tutorial-python3_myenv"
  },
  "language_info": {
   "codemirror_mode": {
    "name": "ipython",
    "version": 3
   },
   "file_extension": ".py",
   "mimetype": "text/x-python",
   "name": "python",
   "nbconvert_exporter": "python",
   "pygments_lexer": "ipython3",
   "version": "3.7.3"
  }
 },
 "nbformat": 4,
 "nbformat_minor": 5
}
