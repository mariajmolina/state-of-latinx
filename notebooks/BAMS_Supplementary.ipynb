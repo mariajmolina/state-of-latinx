{
 "cells": [
  {
   "cell_type": "code",
   "execution_count": 1,
   "id": "52e83871-e8e2-450f-b7da-872dd0d89b8b",
   "metadata": {},
   "outputs": [],
   "source": [
    "import pandas as pd\n",
    "import numpy as np\n",
    "import glob\n",
    "import os\n",
    "import matplotlib.pyplot as plt\n",
    "import completions_module as cmodule"
   ]
  },
  {
   "cell_type": "code",
   "execution_count": 2,
   "id": "79e05cfb-e9d6-45e4-9324-07a9247957ac",
   "metadata": {},
   "outputs": [],
   "source": [
    "# ---- \n",
    "\n",
    "hsi = pd.read_excel('../data/HACU-2019-20-Hispanic-Serving-Institutions.xlsx', \n",
    "                    engine='openpyxl')\n",
    "hsi_uni_list = hsi['Name'].unique()\n",
    "\n",
    "ehi = pd.read_excel('../data/HACU-2019-20-Emerging-Hispanic-Institutions.xlsx', \n",
    "                    engine='openpyxl')\n",
    "ehi_uni_list = ehi['Name'].unique()\n",
    "\n",
    "# ---- \n",
    "\n",
    "all_files = glob.glob(\"../data/completions_*.csv\")\n",
    "all_files = sorted(all_files)\n",
    "df = cmodule.open_and_concat(all_files)\n",
    "ucar_uni_list = df['institution name'].unique()\n",
    "\n",
    "# ---- \n",
    "\n",
    "# ucar list\n",
    "all_files = glob.glob(\"../data/completions_*.csv\")\n",
    "all_files = sorted(all_files)\n",
    "df_ucar = cmodule.open_and_concat(all_files)\n",
    "\n",
    "# hsi list\n",
    "all_files = glob.glob(\"../data/hsi_completions_*.csv\")\n",
    "all_files = sorted(all_files)\n",
    "df_hsis = cmodule.open_and_concat(all_files)\n",
    "\n",
    "# ehi list\n",
    "all_files = glob.glob(\"../data/emerginghsi_completions_*.csv\")\n",
    "all_files = sorted(all_files)\n",
    "df_ehis = cmodule.open_and_concat(all_files)\n",
    "\n",
    "# ---- \n",
    "\n",
    "df_ehis = pd.concat([df_ehis, df_ucar[np.isin(df_ucar['institution name'],ehi_uni_list[np.isin(ehi_uni_list, ucar_uni_list)])]])\n",
    "df_hsis = pd.concat([df_hsis, df_ucar[np.isin(df_ucar['institution name'],hsi_uni_list[np.isin(hsi_uni_list, ucar_uni_list)])]])\n",
    "df_ucar = df_ucar[(~np.isin(df_ucar['institution name'],ehi_uni_list))&(~np.isin(df_ucar['institution name'],hsi_uni_list))]\n",
    "\n",
    "# ---- "
   ]
  },
  {
   "cell_type": "code",
   "execution_count": 10,
   "id": "9a20c627-abd8-49f9-ad4d-d7a2452a7ca9",
   "metadata": {},
   "outputs": [
    {
     "data": {
      "text/plain": [
       "175"
      ]
     },
     "execution_count": 10,
     "metadata": {},
     "output_type": "execute_result"
    }
   ],
   "source": [
    "len(sorted(df_hsis['institution name'].unique()))"
   ]
  },
  {
   "cell_type": "code",
   "execution_count": 15,
   "id": "a840081f-eff0-4407-9203-93355a6e8134",
   "metadata": {},
   "outputs": [
    {
     "data": {
      "text/plain": [
       "143"
      ]
     },
     "execution_count": 15,
     "metadata": {},
     "output_type": "execute_result"
    }
   ],
   "source": [
    "len(sorted(df_ehis['institution name'].unique()))"
   ]
  },
  {
   "cell_type": "code",
   "execution_count": 17,
   "id": "2d7a9d65-4f2f-434d-b51a-abd20c34ef65",
   "metadata": {},
   "outputs": [
    {
     "data": {
      "text/plain": [
       "131"
      ]
     },
     "execution_count": 17,
     "metadata": {},
     "output_type": "execute_result"
    }
   ],
   "source": [
    "len(sorted(df_ucar['institution name'].unique()))"
   ]
  },
  {
   "cell_type": "code",
   "execution_count": 18,
   "id": "6c3e8251-31d7-4516-b48b-a2937b7da981",
   "metadata": {},
   "outputs": [
    {
     "name": "stdout",
     "output_type": "stream",
     "text": [
      "Alabama A & M University\n",
      "Appalachian State University\n",
      "Ball State University\n",
      "Boise State University\n",
      "Brown University\n",
      "California University of Pennsylvania\n",
      "Central Michigan University\n",
      "Claflin University\n",
      "Clemson University\n",
      "Coastal Carolina University\n",
      "College of Charleston\n",
      "College of DuPage\n",
      "Colorado State University-Fort Collins\n",
      "Columbia University in the City of New York\n",
      "Cornell University\n",
      "Creighton University\n",
      "Dartmouth College\n",
      "Delaware State University\n",
      "Drexel University\n",
      "Duke University\n",
      "Embry-Riddle Aeronautical University-Daytona Beach\n",
      "Embry-Riddle Aeronautical University-Prescott\n",
      "Florida Agricultural and Mechanical University\n",
      "Florida Institute of Technology\n",
      "Florida Memorial University\n",
      "George Mason University\n",
      "Georgia Institute of Technology-Main Campus\n",
      "Hampton University\n",
      "Harvard University\n",
      "Hobart William Smith Colleges\n",
      "Howard University\n",
      "Indiana University-Bloomington\n",
      "Iowa State University\n",
      "Jackson State University\n",
      "Lincoln University\n",
      "Marshall University\n",
      "Michigan State University\n",
      "Michigan Technological University\n",
      "Miles College\n",
      "Millersville University of Pennsylvania\n",
      "Mississippi State University\n",
      "Mississippi Valley State University\n",
      "Missouri University of Science and Technology\n",
      "Montana State University\n",
      "Naval Postgraduate School\n",
      "North Carolina A & T State University\n",
      "North Carolina Central University\n",
      "North Carolina State University at Raleigh\n",
      "Northern Kentucky University\n",
      "Northern Vermont University\n",
      "Northland College\n",
      "Northwestern University\n",
      "Ohio State University-Main Campus\n",
      "Ohio University-Main Campus\n",
      "Old Dominion University\n",
      "Oregon State University\n",
      "Paine College\n",
      "Pennsylvania State University-Main Campus\n",
      "Plymouth State University\n",
      "Princeton University\n",
      "Purdue University-Main Campus\n",
      "Rutgers University-New Brunswick\n",
      "SUNY Buffalo State\n",
      "SUNY College at Brockport\n",
      "SUNY College at Oswego\n",
      "Saint Cloud State University\n",
      "Saint Louis University\n",
      "Salisbury University\n",
      "Savannah State University\n",
      "South Dakota School of Mines and Technology\n",
      "Spelman College\n",
      "Stony Brook University\n",
      "Tennessee State University\n",
      "Texas Southern University\n",
      "The College of Idaho\n",
      "The University of Alabama\n",
      "The University of Tennessee-Knoxville\n",
      "The University of Tennessee-Martin\n",
      "Tulane University of Louisiana\n",
      "Tuskegee University\n",
      "United States Air Force Academy\n",
      "United States Naval Academy\n",
      "University of Alabama in Huntsville\n",
      "University of Alaska Fairbanks\n",
      "University of Chicago\n",
      "University of Cincinnati-Main Campus\n",
      "University of Colorado Boulder\n",
      "University of Delaware\n",
      "University of Denver\n",
      "University of Georgia\n",
      "University of Hawaii at Manoa\n",
      "University of Illinois at Urbana-Champaign\n",
      "University of Iowa\n",
      "University of Kansas\n",
      "University of Louisiana at Monroe\n",
      "University of Maryland Eastern Shore\n",
      "University of Maryland-Baltimore County\n",
      "University of Maryland-College Park\n",
      "University of Massachusetts-Amherst\n",
      "University of Massachusetts-Lowell\n",
      "University of Michigan-Ann Arbor\n",
      "University of Minnesota-Twin Cities\n",
      "University of Mississippi\n",
      "University of Missouri-Columbia\n",
      "University of Nebraska-Lincoln\n",
      "University of New Hampshire-Main Campus\n",
      "University of North Carolina at Asheville\n",
      "University of North Carolina at Chapel Hill\n",
      "University of North Carolina at Charlotte\n",
      "University of North Dakota\n",
      "University of Oklahoma-Norman Campus\n",
      "University of Rhode Island\n",
      "University of South Alabama\n",
      "University of Tulsa\n",
      "University of Utah\n",
      "University of Virginia-Main Campus\n",
      "University of Washington-Seattle Campus\n",
      "University of Wisconsin-Madison\n",
      "University of Wisconsin-Milwaukee\n",
      "University of Wyoming\n",
      "University of the Virgin Islands\n",
      "Utah State University\n",
      "Valparaiso University\n",
      "Vanderbilt University\n",
      "Virginia Polytechnic Institute and State University\n",
      "Wake Forest University\n",
      "Washington University in St Louis\n",
      "Western Illinois University\n",
      "Western Kentucky University\n",
      "Whitman College\n",
      "Yale University\n"
     ]
    }
   ],
   "source": [
    "for i in sorted(df_ucar['institution name'].unique()):\n",
    "    print(i)"
   ]
  },
  {
   "cell_type": "code",
   "execution_count": null,
   "id": "df1d0a3b-9b3d-479e-b528-35a4252dabca",
   "metadata": {},
   "outputs": [],
   "source": []
  }
 ],
 "metadata": {
  "kernelspec": {
   "display_name": "Python [conda env:miniconda3-python-tutorial]",
   "language": "python",
   "name": "conda-env-miniconda3-python-tutorial-python3_myenv"
  },
  "language_info": {
   "codemirror_mode": {
    "name": "ipython",
    "version": 3
   },
   "file_extension": ".py",
   "mimetype": "text/x-python",
   "name": "python",
   "nbconvert_exporter": "python",
   "pygments_lexer": "ipython3",
   "version": "3.7.3"
  }
 },
 "nbformat": 4,
 "nbformat_minor": 5
}
