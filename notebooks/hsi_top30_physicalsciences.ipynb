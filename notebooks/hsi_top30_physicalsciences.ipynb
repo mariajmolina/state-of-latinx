{
 "cells": [
  {
   "cell_type": "markdown",
   "id": "178474cf-e4fe-405f-859f-2633576c0d88",
   "metadata": {},
   "source": [
    "## HSI school stats (physical sciences)"
   ]
  },
  {
   "cell_type": "code",
   "execution_count": 1,
   "id": "45070c52-c55e-439d-938f-1385caddb09f",
   "metadata": {},
   "outputs": [],
   "source": [
    "import pandas as pd\n",
    "import numpy as np\n",
    "import glob\n",
    "import os\n",
    "import matplotlib.pyplot as plt\n",
    "import completions_module as cmodule"
   ]
  },
  {
   "cell_type": "markdown",
   "id": "983d4ba3-7571-4853-a6c9-055550161b74",
   "metadata": {},
   "source": [
    "This notebook contains various tables for `Physical Sciences` degrees (2009-2019).\n",
    "\n",
    "- Table 1: Bachelors / Hispanic + Latinx (total sum for year range)\n",
    "- Table 2: Bachelors / Hispanic + Latinx (annual mean for year range)\n",
    "- Table 3: Bachelors / Grand total (total sum for year range)\n",
    "- Table 4: Bachelors / Grand total (annual mean for year range)\n",
    "\n",
    "- Table 5: Masters / Hispanic + Latinx (total sum for year range)\n",
    "- Table 6: Masters / Hispanic + Latinx (annual mean for year range)\n",
    "- Table 7: Masters / Grand total (total sum for year range)\n",
    "- Table 8: Masters / Grand total (annual mean for year range)\n",
    "\n",
    "- Table 9: Doctorate / Hispanic + Latinx (total sum for year range)\n",
    "- Table 10: Doctorate / Hispanic + Latinx (annual mean for year range)\n",
    "- Table 11: Doctorate / Grand total (total sum for year range)\n",
    "- Table 12: Doctorate / Grand total (annual mean for year range)\n",
    "\n",
    "\n",
    "_Author: Maria J. Molina (molina@ucar.edu)_"
   ]
  },
  {
   "cell_type": "markdown",
   "id": "f155ec42-c1d4-421b-8a25-50a4e83fe120",
   "metadata": {},
   "source": [
    "**First, lets grab hsi unis that are in ucar provided list**"
   ]
  },
  {
   "cell_type": "code",
   "execution_count": 21,
   "id": "4b622ca7-ed30-4b62-92f2-90ca87df99bf",
   "metadata": {},
   "outputs": [],
   "source": [
    "hsi = pd.read_excel('../data/HACU-2019-20-Hispanic-Serving-Institutions.xlsx', engine='openpyxl')\n",
    "hsi_uni_list = hsi['Name'].unique()\n",
    "\n",
    "all_files = glob.glob(\"../data/completions_*.csv\")\n",
    "all_files = sorted(all_files)\n",
    "df = cmodule.open_and_concat(all_files)\n",
    "ucar_uni_list = df['institution name'].unique()\n",
    "\n",
    "ucar_list_hsi = ucar_uni_list[np.isin(ucar_uni_list, hsi_uni_list)]"
   ]
  },
  {
   "cell_type": "code",
   "execution_count": 26,
   "id": "87d0ac24-1d6f-423c-a9af-a4e12c31c432",
   "metadata": {},
   "outputs": [],
   "source": [
    "df_ucar_hsi = df.loc[df['institution name'].isin(ucar_list_hsi)]"
   ]
  },
  {
   "cell_type": "markdown",
   "id": "df803ac8-0aff-4cfe-be0e-cf5acc7ffc65",
   "metadata": {},
   "source": [
    "**Now, lets grab hsi unis that are not in the ucar provided list**"
   ]
  },
  {
   "cell_type": "code",
   "execution_count": 28,
   "id": "55d56b23-aa00-4b3d-bfab-6bc8aebcf14e",
   "metadata": {},
   "outputs": [],
   "source": [
    "all_files = glob.glob(\"../data/hsi_completions_*.csv\")  # HSI list\n",
    "all_files = sorted(all_files)\n",
    "df_hsi = cmodule.open_and_concat(all_files)"
   ]
  },
  {
   "cell_type": "markdown",
   "id": "e0552869-e600-4fcc-be25-34b4940f429d",
   "metadata": {},
   "source": [
    "**Finally, append the two lists of unis together**"
   ]
  },
  {
   "cell_type": "code",
   "execution_count": 36,
   "id": "ced12f71-c1fe-44e9-abcf-9c2a0dda32e1",
   "metadata": {},
   "outputs": [],
   "source": [
    "all_hsi_unis = pd.concat([df_ucar_hsi, df_hsi])"
   ]
  },
  {
   "cell_type": "markdown",
   "id": "8f5c9d7f-0b2a-4d84-be86-92ff1504377a",
   "metadata": {},
   "source": [
    "### Top 30 US institutions: Hispanic/Latinx bachelor degree recipients in the Physical Sciences (2009-2019)"
   ]
  },
  {
   "cell_type": "code",
   "execution_count": 39,
   "id": "43e7f4da-a3c8-40a9-b41b-cfc1c1b4306d",
   "metadata": {},
   "outputs": [
    {
     "data": {
      "text/plain": [
       "institution name\n",
       "Florida International University                       876\n",
       "University of Puerto Rico-Mayaguez                     692\n",
       "University of Puerto Rico-Rio Piedras                  563\n",
       "The University of Texas at El Paso                     365\n",
       "The University of Texas Rio Grande Valley              350\n",
       "University of Puerto Rico-Humacao                      330\n",
       "University of California-Irvine                        323\n",
       "University of California-Santa Barbara                 311\n",
       "University of California-Santa Cruz                    310\n",
       "University of Houston                                  302\n",
       "California State University-San Bernardino             289\n",
       "University of New Mexico-Main Campus                   272\n",
       "The University of Texas at San Antonio                 265\n",
       "University of Arizona                                  238\n",
       "California State Polytechnic University-Pomona         230\n",
       "University of Puerto Rico-Cayey                        225\n",
       "University of California-Riverside                     213\n",
       "Pontifical Catholic University of Puerto Rico-Ponce    194\n",
       "San Diego State University                             190\n",
       "CUNY Hunter College                                    173\n",
       "California State University-Long Beach                 168\n",
       "California State University-Fullerton                  159\n",
       "California State University-Fresno                     159\n",
       "Inter American University of Puerto Rico-San German    155\n",
       "Texas A & M University-Corpus Christi                  155\n",
       "Northern Arizona University                            153\n",
       "Texas Tech University                                  144\n",
       "California State University-Bakersfield                141\n",
       "Inter American University of Puerto Rico-Metro         126\n",
       "California State University-Sacramento                 121\n",
       "Name: Hispanic or Latino total, dtype: int64"
      ]
     },
     "execution_count": 39,
     "metadata": {},
     "output_type": "execute_result"
    }
   ],
   "source": [
    "df = cmodule.bs_degrees(all_hsi_unis)\n",
    "df = cmodule.physical_sciences(df)\n",
    "df.groupby('institution name').sum()['Hispanic or Latino total'].sort_values(ascending=False).head(30)  # TOTAL SUM (2009-2019)"
   ]
  },
  {
   "cell_type": "code",
   "execution_count": 40,
   "id": "d6dab67c-11f0-45ba-bba2-073d1e3b90b1",
   "metadata": {},
   "outputs": [
    {
     "data": {
      "text/plain": [
       "institution name\n",
       "University of Puerto Rico-Mayaguez                     62.909091\n",
       "Florida International University                       46.105263\n",
       "University of Puerto Rico-Rio Piedras                  40.214286\n",
       "University of Puerto Rico-Humacao                      30.000000\n",
       "University of Houston                                  27.454545\n",
       "University of Puerto Rico-Cayey                        20.454545\n",
       "The University of Texas at El Paso                     18.250000\n",
       "Pontifical Catholic University of Puerto Rico-Ponce    17.636364\n",
       "The University of Texas Rio Grande Valley              15.909091\n",
       "University of California-Santa Cruz                    15.500000\n",
       "University of California-Irvine                        14.681818\n",
       "University of California-Santa Barbara                 14.136364\n",
       "Inter American University of Puerto Rico-San German    14.090909\n",
       "The University of Texas at San Antonio                 13.947368\n",
       "California State University-San Bernardino             13.136364\n",
       "University of New Mexico-Main Campus                   12.952381\n",
       "Texas A & M University-Corpus Christi                  12.916667\n",
       "Inter American University of Puerto Rico-Metro         11.454545\n",
       "CUNY Graduate School and University Center             11.375000\n",
       "University of California-Riverside                     11.210526\n",
       "California State Polytechnic University-Pomona         10.952381\n",
       "University of Arizona                                  10.818182\n",
       "San Diego State University                              9.500000\n",
       "Universidad Ana G. Mendez-Gurabo Campus                 9.363636\n",
       "University of Central Florida                           8.545455\n",
       "The University of Texas at Arlington                    8.538462\n",
       "California State University-Fullerton                   8.368421\n",
       "CUNY Hunter College                                     8.238095\n",
       "Inter American University of Puerto Rico-Guayama        8.200000\n",
       "Texas Tech University                                   8.000000\n",
       "Name: Hispanic or Latino total, dtype: float64"
      ]
     },
     "execution_count": 40,
     "metadata": {},
     "output_type": "execute_result"
    }
   ],
   "source": [
    "df = cmodule.bs_degrees(all_hsi_unis)\n",
    "df = cmodule.physical_sciences(df)\n",
    "df.groupby('institution name').mean()['Hispanic or Latino total'].sort_values(ascending=False).head(30)  # ANNUAL MEAN (2009-2019)"
   ]
  },
  {
   "cell_type": "markdown",
   "id": "a4492140-cb2a-46c4-ae67-48c4342a87ba",
   "metadata": {},
   "source": [
    "### Top 30 US institutions: Grand Total bachelor degree recipients in the Physical Sciences (2009-2019)"
   ]
  },
  {
   "cell_type": "code",
   "execution_count": 41,
   "id": "0607f33c-bc48-4120-9557-f897475a3812",
   "metadata": {},
   "outputs": [
    {
     "data": {
      "text/plain": [
       "institution name\n",
       "University of California-Irvine                   2174\n",
       "University of California-Santa Barbara            2090\n",
       "CUNY Hunter College                               1772\n",
       "University of Arizona                             1727\n",
       "University of California-Santa Cruz               1666\n",
       "University of Houston                             1413\n",
       "Northern Arizona University                       1274\n",
       "Florida International University                  1273\n",
       "San Diego State University                         890\n",
       "California State Polytechnic University-Pomona     857\n",
       "University of California-Riverside                 822\n",
       "San Jose State University                          816\n",
       "Texas Tech University                              815\n",
       "University of New Mexico-Main Campus               815\n",
       "California State University-Sacramento             770\n",
       "University of Illinois Chicago                     767\n",
       "California State University-San Bernardino         734\n",
       "California State University-Long Beach             719\n",
       "The University of Texas at San Antonio             715\n",
       "University of Puerto Rico-Mayaguez                 708\n",
       "The University of Texas at Arlington               667\n",
       "California State University-Fresno                 650\n",
       "Florida Atlantic University                        649\n",
       "California State University-Fullerton              637\n",
       "University of Puerto Rico-Rio Piedras              632\n",
       "Metropolitan State University of Denver            581\n",
       "Humboldt State University                          565\n",
       "San Francisco State University                     530\n",
       "CUNY City College                                  513\n",
       "The University of Texas at El Paso                 499\n",
       "Name: Grand total, dtype: int64"
      ]
     },
     "execution_count": 41,
     "metadata": {},
     "output_type": "execute_result"
    }
   ],
   "source": [
    "df = cmodule.bs_degrees(all_hsi_unis)\n",
    "df = cmodule.physical_sciences(df)\n",
    "df.groupby('institution name').sum()['Grand total'].sort_values(ascending=False).head(30)  # TOTAL SUM (2009-2019)"
   ]
  },
  {
   "cell_type": "code",
   "execution_count": 42,
   "id": "fa1ab5cd-e543-44b4-8c02-caf5be3dc550",
   "metadata": {},
   "outputs": [
    {
     "data": {
      "text/plain": [
       "institution name\n",
       "University of Houston                             128.454545\n",
       "University of California-Irvine                    98.818182\n",
       "University of California-Santa Barbara             95.000000\n",
       "CUNY Hunter College                                84.380952\n",
       "University of California-Santa Cruz                83.300000\n",
       "University of Arizona                              78.500000\n",
       "Florida International University                   67.000000\n",
       "University of Puerto Rico-Mayaguez                 64.363636\n",
       "CUNY Graduate School and University Center         60.250000\n",
       "Northern Arizona University                        57.909091\n",
       "The University of Texas at Arlington               51.307692\n",
       "San Jose State University                          45.333333\n",
       "Texas Tech University                              45.277778\n",
       "University of Puerto Rico-Rio Piedras              45.142857\n",
       "University of Central Florida                      45.090909\n",
       "San Diego State University                         44.500000\n",
       "University of California-Riverside                 43.263158\n",
       "California State Polytechnic University-Pomona     40.809524\n",
       "University of Illinois Chicago                     40.368421\n",
       "University of New Mexico-Main Campus               38.809524\n",
       "The University of Texas at San Antonio             37.631579\n",
       "Montclair State University                         35.727273\n",
       "California State University-Sacramento             35.000000\n",
       "CUNY City College                                  34.200000\n",
       "California State University-Fullerton              33.526316\n",
       "California State University-San Bernardino         33.363636\n",
       "University of Puerto Rico-Humacao                  32.727273\n",
       "California State University-Long Beach             32.681818\n",
       "California State University-Fresno                 30.952381\n",
       "Florida Atlantic University                        30.904762\n",
       "Name: Grand total, dtype: float64"
      ]
     },
     "execution_count": 42,
     "metadata": {},
     "output_type": "execute_result"
    }
   ],
   "source": [
    "df = cmodule.bs_degrees(all_hsi_unis)\n",
    "df = cmodule.physical_sciences(df)\n",
    "df.groupby('institution name').mean()['Grand total'].sort_values(ascending=False).head(30)  # ANNUAL MEAN (2009-2019)"
   ]
  },
  {
   "cell_type": "markdown",
   "id": "eeb1511a-87fa-4e19-8a52-be893dd04a6f",
   "metadata": {},
   "source": [
    "### Top 30 US institutions: Hispanic/Latinx master degree recipients in the Physical Sciences (2009-2019)"
   ]
  },
  {
   "cell_type": "code",
   "execution_count": 43,
   "id": "9084757c-b430-4afd-8d8b-3f4d2906810c",
   "metadata": {},
   "outputs": [
    {
     "data": {
      "text/plain": [
       "institution name\n",
       "California State University-Los Angeles          89\n",
       "University of Puerto Rico-Mayaguez               87\n",
       "The University of Texas at El Paso               81\n",
       "University of Arizona                            70\n",
       "CUNY Graduate School and University Center       58\n",
       "Florida International University                 57\n",
       "University of Houston                            54\n",
       "The University of Texas Rio Grande Valley        50\n",
       "University of California-Riverside               48\n",
       "California State University-Long Beach           43\n",
       "California State University-Fresno               40\n",
       "University of New Mexico-Main Campus             36\n",
       "The University of Texas at San Antonio           35\n",
       "University of Puerto Rico-Rio Piedras            34\n",
       "University of California-Santa Cruz              34\n",
       "San Diego State University                       33\n",
       "University of California-Irvine                  33\n",
       "California State University-Northridge           30\n",
       "University of California-Santa Barbara           26\n",
       "San Francisco State University                   24\n",
       "California State University-Fullerton            24\n",
       "CUNY City College                                22\n",
       "Texas Tech University                            22\n",
       "University of Central Florida                    21\n",
       "New Mexico State University-Main Campus          19\n",
       "The University of Texas at Arlington             19\n",
       "San Jose State University                        18\n",
       "Texas A & M University-Kingsville                16\n",
       "New Mexico Institute of Mining and Technology    15\n",
       "Montclair State University                       15\n",
       "Name: Hispanic or Latino total, dtype: int64"
      ]
     },
     "execution_count": 43,
     "metadata": {},
     "output_type": "execute_result"
    }
   ],
   "source": [
    "df = cmodule.ms_degrees(all_hsi_unis)\n",
    "df = cmodule.physical_sciences(df)\n",
    "df.groupby('institution name').sum()['Hispanic or Latino total'].sort_values(ascending=False).head(30)  # TOTAL SUM (2009-2019)"
   ]
  },
  {
   "cell_type": "code",
   "execution_count": 44,
   "id": "ba93c5b3-dc4f-42e7-a963-e5923f92200f",
   "metadata": {},
   "outputs": [
    {
     "data": {
      "text/plain": [
       "institution name\n",
       "California State University-Los Angeles          8.090909\n",
       "University of Puerto Rico-Mayaguez               7.909091\n",
       "The University of Texas at El Paso               7.363636\n",
       "University of Arizona                            6.363636\n",
       "CUNY Graduate School and University Center       5.800000\n",
       "Florida International University                 5.181818\n",
       "University of Houston                            4.909091\n",
       "The University of Texas Rio Grande Valley        4.545455\n",
       "University of California-Riverside               4.363636\n",
       "California State University-Fresno               3.636364\n",
       "University of New Mexico-Main Campus             3.272727\n",
       "The University of Texas at San Antonio           3.181818\n",
       "University of Puerto Rico-Rio Piedras            3.090909\n",
       "University of California-Santa Cruz              3.090909\n",
       "San Diego State University                       3.000000\n",
       "University of California-Irvine                  3.000000\n",
       "California State University-Long Beach           2.866667\n",
       "California State University-Northridge           2.727273\n",
       "University of California-Santa Barbara           2.363636\n",
       "San Francisco State University                   2.181818\n",
       "California State University-Fullerton            2.181818\n",
       "CUNY City College                                2.000000\n",
       "Texas Tech University                            2.000000\n",
       "University of Central Florida                    1.750000\n",
       "New Mexico State University-Main Campus          1.727273\n",
       "The University of Texas at Arlington             1.727273\n",
       "San Jose State University                        1.500000\n",
       "Texas A & M University-Kingsville                1.454545\n",
       "New Mexico Institute of Mining and Technology    1.363636\n",
       "Montclair State University                       1.363636\n",
       "Name: Hispanic or Latino total, dtype: float64"
      ]
     },
     "execution_count": 44,
     "metadata": {},
     "output_type": "execute_result"
    }
   ],
   "source": [
    "df = cmodule.ms_degrees(all_hsi_unis)\n",
    "df = cmodule.physical_sciences(df)\n",
    "df.groupby('institution name').mean()['Hispanic or Latino total'].sort_values(ascending=False).head(30)  # annual mean (2009-2019)"
   ]
  },
  {
   "cell_type": "markdown",
   "id": "2017b16c-74c6-4896-ada3-586cd157d010",
   "metadata": {},
   "source": [
    "### Top 30 US institutions: Grand total master degree recipients in the Physical Sciences (2009-2019)"
   ]
  },
  {
   "cell_type": "code",
   "execution_count": 45,
   "id": "5287baa6-7ec9-41c1-8a3c-3576fb6b7422",
   "metadata": {},
   "outputs": [
    {
     "data": {
      "text/plain": [
       "institution name\n",
       "University of Arizona                            1065\n",
       "University of Houston                             777\n",
       "University of California-Irvine                   492\n",
       "University of California-Riverside                444\n",
       "University of California-Santa Barbara            436\n",
       "University of New Mexico-Main Campus              415\n",
       "CUNY Graduate School and University Center        353\n",
       "San Diego State University                        352\n",
       "University of California-Santa Cruz               348\n",
       "Texas Tech University                             326\n",
       "California State University-Los Angeles           287\n",
       "California State University-Long Beach            278\n",
       "San Francisco State University                    274\n",
       "New Mexico State University-Main Campus           247\n",
       "The University of Texas at El Paso                244\n",
       "University of Illinois Chicago                    238\n",
       "Northern Arizona University                       220\n",
       "The University of Texas at San Antonio            213\n",
       "San Jose State University                         213\n",
       "California State University-Northridge            211\n",
       "University of Central Florida                     206\n",
       "California State University-Fresno                205\n",
       "New Mexico Institute of Mining and Technology     198\n",
       "California State University-Fullerton             193\n",
       "CUNY City College                                 186\n",
       "University of Houston-Clear Lake                  185\n",
       "University of Nevada-Las Vegas                    179\n",
       "CUNY Queens College                               178\n",
       "The University of Texas at Arlington              175\n",
       "Florida International University                  173\n",
       "Name: Grand total, dtype: int64"
      ]
     },
     "execution_count": 45,
     "metadata": {},
     "output_type": "execute_result"
    }
   ],
   "source": [
    "df = cmodule.ms_degrees(all_hsi_unis)\n",
    "df = cmodule.physical_sciences(df)\n",
    "df.groupby('institution name').sum()['Grand total'].sort_values(ascending=False).head(30)  # TOTAL SUM (2009-2019)"
   ]
  },
  {
   "cell_type": "code",
   "execution_count": 46,
   "id": "74a2d396-5622-4eb8-9821-51c92882d60a",
   "metadata": {},
   "outputs": [
    {
     "data": {
      "text/plain": [
       "institution name\n",
       "University of Arizona                            96.818182\n",
       "University of Houston                            70.636364\n",
       "University of California-Irvine                  44.727273\n",
       "University of California-Riverside               40.363636\n",
       "University of California-Santa Barbara           39.636364\n",
       "University of New Mexico-Main Campus             37.727273\n",
       "CUNY Graduate School and University Center       35.300000\n",
       "San Diego State University                       32.000000\n",
       "University of California-Santa Cruz              31.636364\n",
       "Texas Tech University                            29.636364\n",
       "California State University-Los Angeles          26.090909\n",
       "San Francisco State University                   24.909091\n",
       "New Mexico State University-Main Campus          22.454545\n",
       "The University of Texas at El Paso               22.181818\n",
       "University of Illinois Chicago                   21.636364\n",
       "Northern Arizona University                      20.000000\n",
       "The University of Texas at San Antonio           19.363636\n",
       "California State University-Northridge           19.181818\n",
       "California State University-Fresno               18.636364\n",
       "California State University-Long Beach           18.533333\n",
       "New Mexico Institute of Mining and Technology    18.000000\n",
       "San Jose State University                        17.750000\n",
       "California State University-Fullerton            17.545455\n",
       "University of Central Florida                    17.166667\n",
       "CUNY City College                                16.909091\n",
       "University of Houston-Clear Lake                 16.818182\n",
       "University of Nevada-Las Vegas                   16.272727\n",
       "The University of Texas at Arlington             15.909091\n",
       "Florida International University                 15.727273\n",
       "Montclair State University                       15.363636\n",
       "Name: Grand total, dtype: float64"
      ]
     },
     "execution_count": 46,
     "metadata": {},
     "output_type": "execute_result"
    }
   ],
   "source": [
    "df = cmodule.ms_degrees(all_hsi_unis)\n",
    "df = cmodule.physical_sciences(df)\n",
    "df.groupby('institution name').mean()['Grand total'].sort_values(ascending=False).head(30)  # annual mean (2009-2019)"
   ]
  },
  {
   "cell_type": "markdown",
   "id": "376947b0-b490-4eff-8d61-856801344216",
   "metadata": {},
   "source": [
    "### Top 30 US institutions: Hispanic/Latinx doctorate degree recipients in the Physical Sciences (2009-2019)"
   ]
  },
  {
   "cell_type": "code",
   "execution_count": 47,
   "id": "ed3dfccc-05dc-497e-b87f-fb0a4a1c3290",
   "metadata": {},
   "outputs": [
    {
     "data": {
      "text/plain": [
       "institution name\n",
       "University of Puerto Rico-Rio Piedras                           101\n",
       "Florida International University                                 46\n",
       "CUNY Graduate School and University Center                       44\n",
       "University of Puerto Rico-Mayaguez                               44\n",
       "University of California-Santa Cruz                              40\n",
       "University of California-Irvine                                  34\n",
       "University of Arizona                                            28\n",
       "University of California-Riverside                               27\n",
       "University of California-Santa Barbara                           23\n",
       "The University of Texas at El Paso                               22\n",
       "University of Central Florida                                    21\n",
       "University of New Mexico-Main Campus                             15\n",
       "University of Houston                                            12\n",
       "University of North Texas                                        12\n",
       "The University of Texas at San Antonio                           10\n",
       "New Mexico State University-Main Campus                          10\n",
       "The University of Texas at Arlington                              9\n",
       "Texas Tech University                                             9\n",
       "University of California-Merced                                   5\n",
       "University of Illinois Chicago                                    3\n",
       "San Diego State University                                        3\n",
       "Florida Atlantic University                                       3\n",
       "University of Nevada-Las Vegas                                    2\n",
       "New Mexico Institute of Mining and Technology                     1\n",
       "Rutgers University-Newark                                         1\n",
       "The University of Texas Health Science Center at San Antonio      1\n",
       "Loma Linda University                                             0\n",
       "Northern Arizona University                                       0\n",
       "Nova Southeastern University                                      0\n",
       "CUNY Hunter College                                               0\n",
       "Name: Hispanic or Latino total, dtype: int64"
      ]
     },
     "execution_count": 47,
     "metadata": {},
     "output_type": "execute_result"
    }
   ],
   "source": [
    "df = cmodule.phd_degrees(all_hsi_unis)\n",
    "df = cmodule.physical_sciences(df)\n",
    "df.groupby('institution name').sum()['Hispanic or Latino total'].sort_values(ascending=False).head(30)  # total sum (2009-2019)"
   ]
  },
  {
   "cell_type": "code",
   "execution_count": 48,
   "id": "64fcdfcf-882d-4690-8776-d0912263642c",
   "metadata": {},
   "outputs": [
    {
     "data": {
      "text/plain": [
       "institution name\n",
       "University of Puerto Rico-Rio Piedras                           8.416667\n",
       "Florida International University                                4.181818\n",
       "CUNY Graduate School and University Center                      4.000000\n",
       "University of Puerto Rico-Mayaguez                              4.000000\n",
       "University of California-Santa Cruz                             3.636364\n",
       "University of California-Irvine                                 3.090909\n",
       "University of Arizona                                           2.545455\n",
       "University of California-Riverside                              2.454545\n",
       "University of California-Santa Barbara                          2.090909\n",
       "The University of Texas at El Paso                              2.000000\n",
       "University of Central Florida                                   1.909091\n",
       "University of New Mexico-Main Campus                            1.363636\n",
       "University of Houston                                           1.090909\n",
       "University of North Texas                                       1.090909\n",
       "The University of Texas at San Antonio                          0.909091\n",
       "New Mexico State University-Main Campus                         0.909091\n",
       "The University of Texas at Arlington                            0.818182\n",
       "Texas Tech University                                           0.818182\n",
       "University of California-Merced                                 0.555556\n",
       "The University of Texas Health Science Center at San Antonio    0.333333\n",
       "University of Illinois Chicago                                  0.272727\n",
       "San Diego State University                                      0.272727\n",
       "Florida Atlantic University                                     0.272727\n",
       "University of Nevada-Las Vegas                                  0.181818\n",
       "Rutgers University-Newark                                       0.090909\n",
       "New Mexico Institute of Mining and Technology                   0.090909\n",
       "Loma Linda University                                           0.000000\n",
       "Northern Arizona University                                     0.000000\n",
       "CUNY Hunter College                                             0.000000\n",
       "Nova Southeastern University                                    0.000000\n",
       "Name: Hispanic or Latino total, dtype: float64"
      ]
     },
     "execution_count": 48,
     "metadata": {},
     "output_type": "execute_result"
    }
   ],
   "source": [
    "df = cmodule.phd_degrees(all_hsi_unis)\n",
    "df = cmodule.physical_sciences(df)\n",
    "df.groupby('institution name').mean()['Hispanic or Latino total'].sort_values(ascending=False).head(30)  # annual mean (2009-2019)"
   ]
  },
  {
   "cell_type": "markdown",
   "id": "fff6e8d5-51c7-4810-aa0a-ed1aeff2149d",
   "metadata": {},
   "source": [
    "### Top 30 US institutions: Grand total doctorate degree recipients in the Physical Sciences (2009-2019)"
   ]
  },
  {
   "cell_type": "code",
   "execution_count": 49,
   "id": "2b74bd9f-91ba-4782-8696-b103ce8cc7c9",
   "metadata": {},
   "outputs": [
    {
     "data": {
      "text/plain": [
       "institution name\n",
       "University of Arizona                                           912\n",
       "University of California-Santa Barbara                          741\n",
       "University of California-Irvine                                 697\n",
       "University of Houston                                           482\n",
       "CUNY Graduate School and University Center                      452\n",
       "University of California-Riverside                              443\n",
       "University of California-Santa Cruz                             437\n",
       "University of New Mexico-Main Campus                            326\n",
       "University of Illinois Chicago                                  272\n",
       "Florida International University                                248\n",
       "University of Central Florida                                   247\n",
       "University of North Texas                                       193\n",
       "Texas Tech University                                           188\n",
       "The University of Texas at Arlington                            169\n",
       "New Mexico State University-Main Campus                         158\n",
       "University of Puerto Rico-Rio Piedras                           155\n",
       "The University of Texas at San Antonio                          121\n",
       "University of Nevada-Las Vegas                                  117\n",
       "Florida Atlantic University                                      91\n",
       "The University of Texas at El Paso                               91\n",
       "New Mexico Institute of Mining and Technology                    77\n",
       "University of Puerto Rico-Mayaguez                               67\n",
       "Rutgers University-Newark                                        54\n",
       "San Diego State University                                       53\n",
       "University of California-Merced                                  48\n",
       "The University of Texas Health Science Center at San Antonio     21\n",
       "Nova Southeastern University                                     19\n",
       "Loma Linda University                                             9\n",
       "Northern Arizona University                                       0\n",
       "CUNY Hunter College                                               0\n",
       "Name: Grand total, dtype: int64"
      ]
     },
     "execution_count": 49,
     "metadata": {},
     "output_type": "execute_result"
    }
   ],
   "source": [
    "df = cmodule.phd_degrees(all_hsi_unis)\n",
    "df = cmodule.physical_sciences(df)\n",
    "df.groupby('institution name').sum()['Grand total'].sort_values(ascending=False).head(30)  # TOTAL SUM (2009-2019)"
   ]
  },
  {
   "cell_type": "code",
   "execution_count": 50,
   "id": "7f535a28-9421-4320-abb2-b737a34a79d0",
   "metadata": {},
   "outputs": [
    {
     "data": {
      "text/plain": [
       "institution name\n",
       "University of Arizona                                           82.909091\n",
       "University of California-Santa Barbara                          67.363636\n",
       "University of California-Irvine                                 63.363636\n",
       "University of Houston                                           43.818182\n",
       "CUNY Graduate School and University Center                      41.090909\n",
       "University of California-Riverside                              40.272727\n",
       "University of California-Santa Cruz                             39.727273\n",
       "University of New Mexico-Main Campus                            29.636364\n",
       "University of Illinois Chicago                                  24.727273\n",
       "Florida International University                                22.545455\n",
       "University of Central Florida                                   22.454545\n",
       "University of North Texas                                       17.545455\n",
       "Texas Tech University                                           17.090909\n",
       "The University of Texas at Arlington                            15.363636\n",
       "New Mexico State University-Main Campus                         14.363636\n",
       "University of Puerto Rico-Rio Piedras                           12.916667\n",
       "The University of Texas at San Antonio                          11.000000\n",
       "University of Nevada-Las Vegas                                  10.636364\n",
       "Florida Atlantic University                                      8.272727\n",
       "The University of Texas at El Paso                               8.272727\n",
       "New Mexico Institute of Mining and Technology                    7.000000\n",
       "The University of Texas Health Science Center at San Antonio     7.000000\n",
       "University of Puerto Rico-Mayaguez                               6.090909\n",
       "University of California-Merced                                  5.333333\n",
       "Rutgers University-Newark                                        4.909091\n",
       "San Diego State University                                       4.818182\n",
       "Nova Southeastern University                                     1.727273\n",
       "Loma Linda University                                            0.818182\n",
       "Northern Arizona University                                      0.000000\n",
       "CUNY Hunter College                                              0.000000\n",
       "Name: Grand total, dtype: float64"
      ]
     },
     "execution_count": 50,
     "metadata": {},
     "output_type": "execute_result"
    }
   ],
   "source": [
    "df = cmodule.phd_degrees(all_hsi_unis)\n",
    "df = cmodule.physical_sciences(df)\n",
    "df.groupby('institution name').mean()['Grand total'].sort_values(ascending=False).head(30)  # annual mean (2009-2019)"
   ]
  },
  {
   "cell_type": "code",
   "execution_count": null,
   "id": "a0d38ec7-368c-472b-91dd-c43511cab69d",
   "metadata": {},
   "outputs": [],
   "source": []
  }
 ],
 "metadata": {
  "kernelspec": {
   "display_name": "Python [conda env:miniconda3-python-tutorial]",
   "language": "python",
   "name": "conda-env-miniconda3-python-tutorial-python3_myenv"
  },
  "language_info": {
   "codemirror_mode": {
    "name": "ipython",
    "version": 3
   },
   "file_extension": ".py",
   "mimetype": "text/x-python",
   "name": "python",
   "nbconvert_exporter": "python",
   "pygments_lexer": "ipython3",
   "version": "3.7.3"
  }
 },
 "nbformat": 4,
 "nbformat_minor": 5
}
