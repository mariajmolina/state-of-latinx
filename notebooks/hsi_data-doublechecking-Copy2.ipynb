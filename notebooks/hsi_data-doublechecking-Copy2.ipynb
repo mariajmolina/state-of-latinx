{
 "cells": [
  {
   "cell_type": "code",
   "execution_count": 1,
   "id": "9e53a9b1-5463-4dbc-a67d-04f0cdba5a4e",
   "metadata": {},
   "outputs": [],
   "source": [
    "import pandas as pd\n",
    "import numpy as np\n",
    "import glob\n",
    "import os\n",
    "import matplotlib.pyplot as plt\n",
    "import completions_module as cmodule"
   ]
  },
  {
   "cell_type": "code",
   "execution_count": 2,
   "id": "d51e1731-8bf0-4c76-9319-d6bb408ff348",
   "metadata": {},
   "outputs": [],
   "source": [
    "# hsi list\n",
    "all_files = glob.glob(\"../data/hsi_completions_*.csv\")\n",
    "all_files = sorted(all_files)\n",
    "df_hsis = cmodule.open_and_concat(all_files)\n",
    "df = cmodule.bs_degrees(df_hsis)\n",
    "df = cmodule.earth_and_atmos_sciences(df)"
   ]
  },
  {
   "cell_type": "code",
   "execution_count": 3,
   "id": "44c6f7ff-ed1d-4d84-a352-379b3e0140a2",
   "metadata": {},
   "outputs": [
    {
     "data": {
      "text/plain": [
       "2009  614     2\n",
       "2010  661     4\n",
       "2011  597     2\n",
       "2012  618     6\n",
       "      651     0\n",
       "2013  727     7\n",
       "      760     0\n",
       "2014  764    10\n",
       "      797     0\n",
       "2015  761     7\n",
       "      794     0\n",
       "2016  764    13\n",
       "      797     0\n",
       "2017  800    14\n",
       "      833     0\n",
       "2018  677     8\n",
       "2019  743    18\n",
       "2020  728    22\n",
       "      755     1\n",
       "Name: Hispanic or Latino total, dtype: int64"
      ]
     },
     "execution_count": 3,
     "metadata": {},
     "output_type": "execute_result"
    }
   ],
   "source": [
    "df[(\n",
    "    df['institution name']=='University of California-Santa Cruz')]['Hispanic or Latino total']"
   ]
  },
  {
   "cell_type": "code",
   "execution_count": 4,
   "id": "d8787a6d-8f6d-44cc-954c-99262eac7a5f",
   "metadata": {},
   "outputs": [],
   "source": [
    "# ucar list\n",
    "all_files = glob.glob(\"../data/hsi_completions_*.csv\")\n",
    "all_files = sorted(all_files)"
   ]
  },
  {
   "cell_type": "code",
   "execution_count": 5,
   "id": "cbba42ed-a30f-447b-9bde-0b40ac1bad52",
   "metadata": {},
   "outputs": [
    {
     "data": {
      "text/plain": [
       "['../data/hsi_completions_2009.csv',\n",
       " '../data/hsi_completions_2010.csv',\n",
       " '../data/hsi_completions_2011.csv',\n",
       " '../data/hsi_completions_2012.csv',\n",
       " '../data/hsi_completions_2013.csv',\n",
       " '../data/hsi_completions_2014.csv',\n",
       " '../data/hsi_completions_2015.csv',\n",
       " '../data/hsi_completions_2016.csv',\n",
       " '../data/hsi_completions_2017.csv',\n",
       " '../data/hsi_completions_2018.csv',\n",
       " '../data/hsi_completions_2019.csv',\n",
       " '../data/hsi_completions_2020.csv']"
      ]
     },
     "execution_count": 5,
     "metadata": {},
     "output_type": "execute_result"
    }
   ],
   "source": [
    "all_files"
   ]
  },
  {
   "cell_type": "code",
   "execution_count": 6,
   "id": "8e3dd973-4fd7-4370-aea6-e6066aa5612e",
   "metadata": {},
   "outputs": [],
   "source": [
    "csv_2009 = pd.read_csv(all_files[0])\n",
    "csv_2010 = pd.read_csv(all_files[1])\n",
    "csv_2011 = pd.read_csv(all_files[2])\n",
    "csv_2012 = pd.read_csv(all_files[3])\n",
    "csv_2013 = pd.read_csv(all_files[4])\n",
    "csv_2014 = pd.read_csv(all_files[5])\n",
    "csv_2015 = pd.read_csv(all_files[6])\n",
    "csv_2016 = pd.read_csv(all_files[7])\n",
    "csv_2017 = pd.read_csv(all_files[8])\n",
    "csv_2018 = pd.read_csv(all_files[9])\n",
    "csv_2019 = pd.read_csv(all_files[10])\n",
    "csv_2020 = pd.read_csv(all_files[11])"
   ]
  },
  {
   "cell_type": "code",
   "execution_count": 7,
   "id": "50bbe8c0-8f34-4824-b0e7-a3338c5832d6",
   "metadata": {},
   "outputs": [
    {
     "data": {
      "text/plain": [
       "array(['Antelope Valley College', 'Azusa Pacific University',\n",
       "       'Bakersfield College', 'California Lutheran University',\n",
       "       'California State University-Bakersfield',\n",
       "       'California State University-Stanislaus',\n",
       "       'California State University-San Bernardino',\n",
       "       'California State Polytechnic University-Pomona',\n",
       "       'California State University-Dominguez Hills',\n",
       "       'California State University-Fresno',\n",
       "       'California State University-Fullerton',\n",
       "       'California State University-East Bay',\n",
       "       'California State University-Long Beach',\n",
       "       'California State University-Los Angeles',\n",
       "       'California State University-Northridge',\n",
       "       'California State University-Sacramento',\n",
       "       'University of California-Riverside',\n",
       "       'University of California-Santa Barbara',\n",
       "       'University of California-Santa Cruz',\n",
       "       'Concordia University-Irvine',\n",
       "       'Feather River Community College District', 'Foothill College',\n",
       "       'Fresno Pacific University', 'University of La Verne',\n",
       "       'La Sierra University', 'Loma Linda University', 'Mills College',\n",
       "       'MiraCosta College', 'Modesto Junior College',\n",
       "       \"Mount Saint Mary's University\", 'Pacific Union College',\n",
       "       'Santa Ana College', 'University of Redlands',\n",
       "       'San Diego Mesa College', \"Saint Mary's College of California\",\n",
       "       'Solano Community College', 'Sonoma State University',\n",
       "       'Vanguard University of Southern California',\n",
       "       'West Los Angeles College', 'Whittier College',\n",
       "       'Adams State University',\n",
       "       'University of Colorado Denver/Anschutz Medical Campus',\n",
       "       'Colorado State University Pueblo',\n",
       "       'Trinity Washington University', 'Barry University',\n",
       "       'University of Central Florida', 'Florida Atlantic University',\n",
       "       'Nova Southeastern University', 'Concordia University-Chicago',\n",
       "       'University of Illinois Chicago', 'North Park University',\n",
       "       'Northeastern Illinois University', 'Roosevelt University',\n",
       "       'Dominican University', 'Saint Xavier University',\n",
       "       'Indiana University-Northwest', 'College of Southern Nevada',\n",
       "       'Truckee Meadows Community College', 'Bloomfield College',\n",
       "       'Fairleigh Dickinson University-Metropolitan Campus',\n",
       "       'New Jersey City University', 'Montclair State University',\n",
       "       'Rutgers University-Newark', \"Saint Peter's University\",\n",
       "       'William Paterson University of New Jersey',\n",
       "       'Eastern New Mexico University-Main Campus',\n",
       "       'New Mexico Highlands University',\n",
       "       'University of New Mexico-Main Campus',\n",
       "       'New Mexico State University-Main Campus',\n",
       "       'Western New Mexico University', 'College of Staten Island CUNY',\n",
       "       'CUNY Hunter College', 'CUNY Lehman College',\n",
       "       'CUNY Queens College', 'CUNY York College',\n",
       "       'Manhattanville College', 'College of Mount Saint Vincent',\n",
       "       'St Francis College', 'SUNY at Purchase College',\n",
       "       'SUNY College at Old Westbury',\n",
       "       'Oklahoma Panhandle State University', 'Warner Pacific University',\n",
       "       'Angelo State University', 'Austin Community College District',\n",
       "       'Houston Baptist University', 'University of Houston-Clear Lake',\n",
       "       'University of Houston-Downtown', 'Howard Payne University',\n",
       "       'Huston-Tillotson University',\n",
       "       'Texas A & M International University', 'McMurry University',\n",
       "       'Midland College', 'University of North Texas',\n",
       "       'Our Lady of the Lake University',\n",
       "       'The University of Texas Rio Grande Valley',\n",
       "       \"Saint Edward's University\", 'University of St Thomas',\n",
       "       'Schreiner University', \"St. Mary's University\",\n",
       "       'Southwestern Adventist University', 'Sul Ross State University',\n",
       "       'The University of Texas Health Science Center at San Antonio',\n",
       "       'Texas A & M University-Kingsville', 'Texas Lutheran University',\n",
       "       'The University of Texas Permian Basin',\n",
       "       'The University of Texas at San Antonio',\n",
       "       'Texas Wesleyan University', \"Texas Woman's University\",\n",
       "       'Tyler Junior College', 'Wayland Baptist University',\n",
       "       'West Texas A & M University', 'Wenatchee Valley College',\n",
       "       'Alverno College', 'Mount Mary University',\n",
       "       'Universidad Central de Bayamon',\n",
       "       'Pontifical Catholic University of Puerto Rico-Arecibo',\n",
       "       'Pontifical Catholic University of Puerto Rico-Ponce',\n",
       "       'Universidad Ana G. Mendez-Cupey Campus',\n",
       "       'Inter American University of Puerto Rico-San German',\n",
       "       'Inter American University of Puerto Rico-Arecibo',\n",
       "       'Inter American University of Puerto Rico-Metro',\n",
       "       'Inter American University of Puerto Rico-Bayamon',\n",
       "       'University of Puerto Rico-Cayey',\n",
       "       'University of Puerto Rico-Humacao',\n",
       "       'University of Puerto Rico-Mayaguez',\n",
       "       'University of Puerto Rico-Rio Piedras',\n",
       "       'Universidad del Sagrado Corazon',\n",
       "       'Universidad Ana G. Mendez-Gurabo Campus',\n",
       "       'California State University-San Marcos', 'South Texas College',\n",
       "       'California State University-Channel Islands'], dtype=object)"
      ]
     },
     "execution_count": 7,
     "metadata": {},
     "output_type": "execute_result"
    }
   ],
   "source": [
    "csv_2009['institution name'].unique()"
   ]
  },
  {
   "cell_type": "code",
   "execution_count": 8,
   "id": "d333eabc-6882-44a0-8fd9-217bf74f19d5",
   "metadata": {},
   "outputs": [
    {
     "data": {
      "text/plain": [
       "Index(['unitid', 'institution name', 'year', 'C2019_A.First or Second Major',\n",
       "       'C2019_A.CIP Code -  2010 Classification', 'CipTitle',\n",
       "       'C2019_A.Award Level code', 'C2019_A_RV.Grand total',\n",
       "       'C2019_A_RV.Grand total men', 'C2019_A_RV.Grand total women',\n",
       "       'C2019_A_RV.American Indian or Alaska Native total',\n",
       "       'C2019_A_RV.American Indian or Alaska Native men',\n",
       "       'C2019_A_RV.American Indian or Alaska Native women',\n",
       "       'C2019_A_RV.Asian total', 'C2019_A_RV.Asian men',\n",
       "       'C2019_A_RV.Asian women', 'C2019_A_RV.Black or African American total',\n",
       "       'C2019_A_RV.Black or African American men',\n",
       "       'C2019_A_RV.Black or African American women',\n",
       "       'C2019_A_RV.Hispanic or Latino total',\n",
       "       'C2019_A_RV.Hispanic or Latino men',\n",
       "       'C2019_A_RV.Hispanic or Latino women',\n",
       "       'C2019_A_RV.Native Hawaiian or Other Pacific Islander total',\n",
       "       'C2019_A_RV.Native Hawaiian or Other Pacific Islander men',\n",
       "       'C2019_A_RV.Native Hawaiian or Other Pacific Islander women',\n",
       "       'C2019_A_RV.White total', 'C2019_A_RV.White men',\n",
       "       'C2019_A_RV.White women', 'C2019_A_RV.Two or more races total',\n",
       "       'C2019_A_RV.Two or more races men',\n",
       "       'C2019_A_RV.Two or more races women',\n",
       "       'C2019_A_RV.Race/ethnicity unknown total',\n",
       "       'C2019_A_RV.Race/ethnicity unknown men',\n",
       "       'C2019_A_RV.Race/ethnicity unknown women',\n",
       "       'C2019_A_RV.Nonresident alien total',\n",
       "       'C2019_A_RV.Nonresident alien men',\n",
       "       'C2019_A_RV.Nonresident alien women', 'IDX_C'],\n",
       "      dtype='object')"
      ]
     },
     "execution_count": 8,
     "metadata": {},
     "output_type": "execute_result"
    }
   ],
   "source": [
    "csv_2019.columns"
   ]
  },
  {
   "cell_type": "code",
   "execution_count": 9,
   "id": "6fe343aa-f79c-41af-b08e-b53e2d633bda",
   "metadata": {},
   "outputs": [
    {
     "data": {
      "text/plain": [
       "181"
      ]
     },
     "execution_count": 9,
     "metadata": {},
     "output_type": "execute_result"
    }
   ],
   "source": [
    "np.sum([\\\n",
    "    csv_2009[\n",
    "        (csv_2009['institution name']=='University of Puerto Rico-Mayaguez')&\n",
    "        (csv_2009['C2009_A.CIP Code -  2000 Classification'] == \"'40.06'\")&\n",
    "        (csv_2009['C2009_A.Award Level code']==\"Bachelor's degree\")\n",
    "            ]['C2009_A_RV.Hispanic or Latino/Hispanic total - derived'].values[0],\n",
    "\n",
    "    csv_2010[\n",
    "        (csv_2010['institution name']=='University of Puerto Rico-Mayaguez')&\n",
    "        (csv_2010['C2010_A.CIP Code -  2010 Classification'] == \"'40.06'\")&\n",
    "        (csv_2010['C2010_A.Award Level code']==\"Bachelor's degree\")\n",
    "            ]['C2010_A_RV.Hispanic or Latino/Hispanic total - derived'].values[0],\n",
    "\n",
    "    csv_2011[\n",
    "        (csv_2011['institution name']=='University of Puerto Rico-Mayaguez')&\n",
    "        (csv_2011['C2011_A.CIP Code -  2010 Classification'] == \"'40.06'\")&\n",
    "        (csv_2011['C2011_A.Award Level code']==\"Bachelor's degree\")\n",
    "            ]['C2011_A_RV.Hispanic or Latino total'].values[0],\n",
    "\n",
    "    csv_2012[\n",
    "        (csv_2012['institution name']=='University of Puerto Rico-Mayaguez')&\n",
    "        (csv_2012['C2012_A.CIP Code -  2010 Classification'] == \"'40.06'\")&\n",
    "        (csv_2012['C2012_A.Award Level code']==\"Bachelor's degree\")\n",
    "            ]['C2012_A_RV.Hispanic or Latino total'].values[0],\n",
    "\n",
    "    csv_2013[\n",
    "        (csv_2013['institution name']=='University of Puerto Rico-Mayaguez')&\n",
    "        (csv_2013['C2013_A.CIP Code -  2010 Classification'] == \"'40.06'\")&\n",
    "        (csv_2013['C2013_A.Award Level code']==\"Bachelor's degree\")\n",
    "            ]['C2013_A_RV.Hispanic or Latino total'].values[0],\n",
    "\n",
    "    csv_2014[\n",
    "        (csv_2014['institution name']=='University of Puerto Rico-Mayaguez')&\n",
    "        (csv_2014['C2014_A.CIP Code -  2010 Classification'] == \"'40.06'\")&\n",
    "        (csv_2014['C2014_A.Award Level code']==\"Bachelor's degree\")\n",
    "            ]['C2014_A_RV.Hispanic or Latino total'].values[0],\n",
    "\n",
    "    csv_2015[\n",
    "        (csv_2015['institution name']=='University of Puerto Rico-Mayaguez')&\n",
    "        (csv_2015['C2015_A.CIP Code -  2010 Classification'] == \"'40.06'\")&\n",
    "        (csv_2015['C2015_A.Award Level code']==\"Bachelor's degree\")\n",
    "            ]['C2015_A_RV.Hispanic or Latino total'].values[0],\n",
    "\n",
    "    csv_2016[\n",
    "        (csv_2016['institution name']=='University of Puerto Rico-Mayaguez')&\n",
    "        (csv_2016['C2016_A.CIP Code -  2010 Classification'] == \"'40.06'\")&\n",
    "        (csv_2016['C2016_A.Award Level code']==\"Bachelor's degree\")\n",
    "            ]['C2016_A_RV.Hispanic or Latino total'].values[0],\n",
    "\n",
    "    csv_2017[\n",
    "        (csv_2017['institution name']=='University of Puerto Rico-Mayaguez')&\n",
    "        (csv_2017['C2017_A.CIP Code -  2010 Classification'] == \"'40.06'\")&\n",
    "        (csv_2017['C2017_A.Award Level code']==\"Bachelor's degree\")\n",
    "            ]['C2017_A_RV.Hispanic or Latino total'].values[0],\n",
    "\n",
    "    csv_2018[\n",
    "        (csv_2018['institution name']=='University of Puerto Rico-Mayaguez')&\n",
    "        (csv_2018['C2018_A.CIP Code -  2010 Classification'] == \"'40.06'\")&\n",
    "        (csv_2018['C2018_A.Award Level code']==\"Bachelor's degree\")\n",
    "            ]['C2018_A_RV.Hispanic or Latino total'].values[0],\n",
    "\n",
    "    csv_2019[\n",
    "        (csv_2019['institution name']=='University of Puerto Rico-Mayaguez')&\n",
    "        (csv_2019['C2019_A.CIP Code -  2010 Classification'] == \"'40.06'\")&\n",
    "        (csv_2019['C2019_A.Award Level code']==\"Bachelor's degree\")\n",
    "            ]['C2019_A_RV.Hispanic or Latino total'].values[0],\n",
    "        \n",
    "    csv_2020[\n",
    "        (csv_2020['institution name']=='University of Puerto Rico-Mayaguez')&\n",
    "        (csv_2020['C2020_A.CIP Code -  2020 Classification'] == \"'40.06'\")&\n",
    "        (csv_2020['C2020_A.Award Level code']==\"Bachelor's degree\")\n",
    "            ]['C2020_A.Hispanic or Latino total'].values[0],\n",
    "       ])"
   ]
  },
  {
   "cell_type": "code",
   "execution_count": 10,
   "id": "8957e4c9-f214-4313-83e7-2894ae1f2cdf",
   "metadata": {},
   "outputs": [
    {
     "data": {
      "text/plain": [
       "113"
      ]
     },
     "execution_count": 10,
     "metadata": {},
     "output_type": "execute_result"
    }
   ],
   "source": [
    "np.sum([\\\n",
    "    csv_2009[\n",
    "        (csv_2009['institution name']=='University of California-Santa Cruz')&\n",
    "        (csv_2009['C2009_A.CIP Code -  2000 Classification'] == \"'40.06'\")&\n",
    "        (csv_2009['C2009_A.Award Level code']==\"Bachelor's degree\")\n",
    "            ]['C2009_A_RV.Hispanic or Latino/Hispanic total - derived'].values[0],\n",
    "\n",
    "    csv_2010[\n",
    "        (csv_2010['institution name']=='University of California-Santa Cruz')&\n",
    "        (csv_2010['C2010_A.CIP Code -  2010 Classification'] == \"'40.06'\")&\n",
    "        (csv_2010['C2010_A.Award Level code']==\"Bachelor's degree\")\n",
    "            ]['C2010_A_RV.Hispanic or Latino/Hispanic total - derived'].values[0],\n",
    "\n",
    "    csv_2011[\n",
    "        (csv_2011['institution name']=='University of California-Santa Cruz')&\n",
    "        (csv_2011['C2011_A.CIP Code -  2010 Classification'] == \"'40.06'\")&\n",
    "        (csv_2011['C2011_A.Award Level code']==\"Bachelor's degree\")\n",
    "            ]['C2011_A_RV.Hispanic or Latino total'].values[0],\n",
    "\n",
    "    csv_2012[\n",
    "        (csv_2012['institution name']=='University of California-Santa Cruz')&\n",
    "        (csv_2012['C2012_A.CIP Code -  2010 Classification'] == \"'40.06'\")&\n",
    "        (csv_2012['C2012_A.Award Level code']==\"Bachelor's degree\")\n",
    "            ]['C2012_A_RV.Hispanic or Latino total'].values[0],\n",
    "\n",
    "    csv_2013[\n",
    "        (csv_2013['institution name']=='University of California-Santa Cruz')&\n",
    "        (csv_2013['C2013_A.CIP Code -  2010 Classification'] == \"'40.06'\")&\n",
    "        (csv_2013['C2013_A.Award Level code']==\"Bachelor's degree\")\n",
    "            ]['C2013_A_RV.Hispanic or Latino total'].values[0],\n",
    "\n",
    "    csv_2014[\n",
    "        (csv_2014['institution name']=='University of California-Santa Cruz')&\n",
    "        (csv_2014['C2014_A.CIP Code -  2010 Classification'] == \"'40.06'\")&\n",
    "        (csv_2014['C2014_A.Award Level code']==\"Bachelor's degree\")\n",
    "            ]['C2014_A_RV.Hispanic or Latino total'].values[0],\n",
    "\n",
    "    csv_2015[\n",
    "        (csv_2015['institution name']=='University of California-Santa Cruz')&\n",
    "        (csv_2015['C2015_A.CIP Code -  2010 Classification'] == \"'40.06'\")&\n",
    "        (csv_2015['C2015_A.Award Level code']==\"Bachelor's degree\")\n",
    "            ]['C2015_A_RV.Hispanic or Latino total'].values[0],\n",
    "\n",
    "    csv_2016[\n",
    "        (csv_2016['institution name']=='University of California-Santa Cruz')&\n",
    "        (csv_2016['C2016_A.CIP Code -  2010 Classification'] == \"'40.06'\")&\n",
    "        (csv_2016['C2016_A.Award Level code']==\"Bachelor's degree\")\n",
    "            ]['C2016_A_RV.Hispanic or Latino total'].values[0],\n",
    "\n",
    "    csv_2017[\n",
    "        (csv_2017['institution name']=='University of California-Santa Cruz')&\n",
    "        (csv_2017['C2017_A.CIP Code -  2010 Classification'] == \"'40.06'\")&\n",
    "        (csv_2017['C2017_A.Award Level code']==\"Bachelor's degree\")\n",
    "            ]['C2017_A_RV.Hispanic or Latino total'].values[0],\n",
    "\n",
    "    csv_2018[\n",
    "        (csv_2018['institution name']=='University of California-Santa Cruz')&\n",
    "        (csv_2018['C2018_A.CIP Code -  2010 Classification'] == \"'40.06'\")&\n",
    "        (csv_2018['C2018_A.Award Level code']==\"Bachelor's degree\")\n",
    "            ]['C2018_A_RV.Hispanic or Latino total'].values[0],\n",
    "\n",
    "    csv_2019[\n",
    "        (csv_2019['institution name']=='University of California-Santa Cruz')&\n",
    "        (csv_2019['C2019_A.CIP Code -  2010 Classification'] == \"'40.06'\")&\n",
    "        (csv_2019['C2019_A.Award Level code']==\"Bachelor's degree\")\n",
    "            ]['C2019_A_RV.Hispanic or Latino total'].values[0],\n",
    "        \n",
    "    csv_2020[\n",
    "        (csv_2020['institution name']=='University of California-Santa Cruz')&\n",
    "        (csv_2020['C2020_A.CIP Code -  2020 Classification'] == \"'40.06'\")&\n",
    "        (csv_2020['C2020_A.Award Level code']==\"Bachelor's degree\")\n",
    "            ]['C2020_A.Hispanic or Latino total'].values[0],\n",
    "       ])"
   ]
  },
  {
   "cell_type": "code",
   "execution_count": 11,
   "id": "a1a67d58-9a3b-4cc0-83a1-3fde52039795",
   "metadata": {},
   "outputs": [
    {
     "data": {
      "text/plain": [
       "array([22,  1])"
      ]
     },
     "execution_count": 11,
     "metadata": {},
     "output_type": "execute_result"
    }
   ],
   "source": [
    "csv_2020[\n",
    "        (csv_2020['institution name']=='University of California-Santa Cruz')&\n",
    "        (csv_2020['C2020_A.CIP Code -  2020 Classification'] == \"'40.06'\")&\n",
    "        (csv_2020['C2020_A.Award Level code']==\"Bachelor's degree\")\n",
    "            ]['C2020_A.Hispanic or Latino total'].values"
   ]
  },
  {
   "cell_type": "code",
   "execution_count": 12,
   "id": "33262707-80f1-4536-946f-dd4d08fbb87d",
   "metadata": {},
   "outputs": [
    {
     "data": {
      "text/plain": [
       "92"
      ]
     },
     "execution_count": 12,
     "metadata": {},
     "output_type": "execute_result"
    }
   ],
   "source": [
    "np.sum([\\\n",
    "    csv_2009[\n",
    "        (csv_2009['institution name']=='University of California-Santa Barbara')&\n",
    "        (csv_2009['C2009_A.CIP Code -  2000 Classification'] == \"'40.06'\")&\n",
    "        (csv_2009['C2009_A.Award Level code']==\"Bachelor's degree\")\n",
    "            ]['C2009_A_RV.Hispanic or Latino/Hispanic total - derived'].values[0],\n",
    "\n",
    "    csv_2010[\n",
    "        (csv_2010['institution name']=='University of California-Santa Barbara')&\n",
    "        (csv_2010['C2010_A.CIP Code -  2010 Classification'] == \"'40.06'\")&\n",
    "        (csv_2010['C2010_A.Award Level code']==\"Bachelor's degree\")\n",
    "            ]['C2010_A_RV.Hispanic or Latino/Hispanic total - derived'].values[0],\n",
    "\n",
    "    csv_2011[\n",
    "        (csv_2011['institution name']=='University of California-Santa Barbara')&\n",
    "        (csv_2011['C2011_A.CIP Code -  2010 Classification'] == \"'40.06'\")&\n",
    "        (csv_2011['C2011_A.Award Level code']==\"Bachelor's degree\")\n",
    "            ]['C2011_A_RV.Hispanic or Latino total'].values[0],\n",
    "\n",
    "    csv_2012[\n",
    "        (csv_2012['institution name']=='University of California-Santa Barbara')&\n",
    "        (csv_2012['C2012_A.CIP Code -  2010 Classification'] == \"'40.06'\")&\n",
    "        (csv_2012['C2012_A.Award Level code']==\"Bachelor's degree\")\n",
    "            ]['C2012_A_RV.Hispanic or Latino total'].values[0],\n",
    "\n",
    "    csv_2013[\n",
    "        (csv_2013['institution name']=='University of California-Santa Barbara')&\n",
    "        (csv_2013['C2013_A.CIP Code -  2010 Classification'] == \"'40.06'\")&\n",
    "        (csv_2013['C2013_A.Award Level code']==\"Bachelor's degree\")\n",
    "            ]['C2013_A_RV.Hispanic or Latino total'].values[0],\n",
    "\n",
    "    csv_2014[\n",
    "        (csv_2014['institution name']=='University of California-Santa Barbara')&\n",
    "        (csv_2014['C2014_A.CIP Code -  2010 Classification'] == \"'40.06'\")&\n",
    "        (csv_2014['C2014_A.Award Level code']==\"Bachelor's degree\")\n",
    "            ]['C2014_A_RV.Hispanic or Latino total'].values[0],\n",
    "\n",
    "    csv_2015[\n",
    "        (csv_2015['institution name']=='University of California-Santa Barbara')&\n",
    "        (csv_2015['C2015_A.CIP Code -  2010 Classification'] == \"'40.06'\")&\n",
    "        (csv_2015['C2015_A.Award Level code']==\"Bachelor's degree\")\n",
    "            ]['C2015_A_RV.Hispanic or Latino total'].values[0],\n",
    "\n",
    "    csv_2016[\n",
    "        (csv_2016['institution name']=='University of California-Santa Barbara')&\n",
    "        (csv_2016['C2016_A.CIP Code -  2010 Classification'] == \"'40.06'\")&\n",
    "        (csv_2016['C2016_A.Award Level code']==\"Bachelor's degree\")\n",
    "            ]['C2016_A_RV.Hispanic or Latino total'].values[0],\n",
    "\n",
    "    csv_2017[\n",
    "        (csv_2017['institution name']=='University of California-Santa Barbara')&\n",
    "        (csv_2017['C2017_A.CIP Code -  2010 Classification'] == \"'40.06'\")&\n",
    "        (csv_2017['C2017_A.Award Level code']==\"Bachelor's degree\")\n",
    "            ]['C2017_A_RV.Hispanic or Latino total'].values[0],\n",
    "\n",
    "    csv_2018[\n",
    "        (csv_2018['institution name']=='University of California-Santa Barbara')&\n",
    "        (csv_2018['C2018_A.CIP Code -  2010 Classification'] == \"'40.06'\")&\n",
    "        (csv_2018['C2018_A.Award Level code']==\"Bachelor's degree\")\n",
    "            ]['C2018_A_RV.Hispanic or Latino total'].values[0],\n",
    "\n",
    "    csv_2019[\n",
    "        (csv_2019['institution name']=='University of California-Santa Barbara')&\n",
    "        (csv_2019['C2019_A.CIP Code -  2010 Classification'] == \"'40.06'\")&\n",
    "        (csv_2019['C2019_A.Award Level code']==\"Bachelor's degree\")\n",
    "            ]['C2019_A_RV.Hispanic or Latino total'].values[0],\n",
    "        \n",
    "    csv_2020[\n",
    "        (csv_2020['institution name']=='University of California-Santa Barbara')&\n",
    "        (csv_2020['C2020_A.CIP Code -  2020 Classification'] == \"'40.06'\")&\n",
    "        (csv_2020['C2020_A.Award Level code']==\"Bachelor's degree\")\n",
    "            ]['C2020_A.Hispanic or Latino total'].values[0],\n",
    "       ])"
   ]
  },
  {
   "cell_type": "code",
   "execution_count": null,
   "id": "70397709-65c9-4239-a0a4-01187998e41e",
   "metadata": {},
   "outputs": [],
   "source": []
  }
 ],
 "metadata": {
  "kernelspec": {
   "display_name": "Python [conda env:miniconda3-python-tutorial]",
   "language": "python",
   "name": "conda-env-miniconda3-python-tutorial-python3_myenv"
  },
  "language_info": {
   "codemirror_mode": {
    "name": "ipython",
    "version": 3
   },
   "file_extension": ".py",
   "mimetype": "text/x-python",
   "name": "python",
   "nbconvert_exporter": "python",
   "pygments_lexer": "ipython3",
   "version": "3.7.3"
  }
 },
 "nbformat": 4,
 "nbformat_minor": 5
}
