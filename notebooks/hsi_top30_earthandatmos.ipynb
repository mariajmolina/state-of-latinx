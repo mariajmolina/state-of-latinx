{
 "cells": [
  {
   "cell_type": "markdown",
   "id": "ac032e75-6147-43e2-9a1e-e40fa16c1e23",
   "metadata": {},
   "source": [
    "## HSI school stats (Earth and Atmospheric sciences)"
   ]
  },
  {
   "cell_type": "code",
   "execution_count": 1,
   "id": "45070c52-c55e-439d-938f-1385caddb09f",
   "metadata": {},
   "outputs": [],
   "source": [
    "import pandas as pd\n",
    "import numpy as np\n",
    "import glob\n",
    "import os\n",
    "import matplotlib.pyplot as plt\n",
    "import completions_module as cmodule"
   ]
  },
  {
   "cell_type": "markdown",
   "id": "983d4ba3-7571-4853-a6c9-055550161b74",
   "metadata": {},
   "source": [
    "This notebook contains various tables for `Earth and Atmospheric Sciences` degrees (2009-2019).\n",
    "\n",
    "- Table 1: Bachelors / Hispanic + Latinx (total sum for year range)\n",
    "- Table 2: Bachelors / Hispanic + Latinx (annual mean for year range)\n",
    "- Table 3: Bachelors / Grand total (total sum for year range)\n",
    "- Table 4: Bachelors / Grand total (annual mean for year range)\n",
    "\n",
    "- Table 5: Masters / Hispanic + Latinx (total sum for year range)\n",
    "- Table 6: Masters / Hispanic + Latinx (annual mean for year range)\n",
    "- Table 7: Masters / Grand total (total sum for year range)\n",
    "- Table 8: Masters / Grand total (annual mean for year range)\n",
    "\n",
    "- Table 9: Doctorate / Hispanic + Latinx (total sum for year range)\n",
    "- Table 10: Doctorate / Hispanic + Latinx (annual mean for year range)\n",
    "- Table 11: Doctorate / Grand total (total sum for year range)\n",
    "- Table 12: Doctorate / Grand total (annual mean for year range)\n",
    "\n",
    "\n",
    "_Author: Maria J. Molina (molina@ucar.edu)_"
   ]
  },
  {
   "cell_type": "markdown",
   "id": "f155ec42-c1d4-421b-8a25-50a4e83fe120",
   "metadata": {},
   "source": [
    "**First, lets grab hsi unis that are in ucar provided list**"
   ]
  },
  {
   "cell_type": "code",
   "execution_count": 2,
   "id": "4b622ca7-ed30-4b62-92f2-90ca87df99bf",
   "metadata": {},
   "outputs": [],
   "source": [
    "hsi = pd.read_excel('../data/HACU-2019-20-Hispanic-Serving-Institutions.xlsx', engine='openpyxl')\n",
    "hsi_uni_list = hsi['Name'].unique()\n",
    "\n",
    "all_files = glob.glob(\"../data/completions_*.csv\")\n",
    "all_files = sorted(all_files)\n",
    "df = cmodule.open_and_concat(all_files)\n",
    "ucar_uni_list = df['institution name'].unique()\n",
    "\n",
    "ucar_list_hsi = ucar_uni_list[np.isin(ucar_uni_list, hsi_uni_list)]"
   ]
  },
  {
   "cell_type": "code",
   "execution_count": 3,
   "id": "87d0ac24-1d6f-423c-a9af-a4e12c31c432",
   "metadata": {},
   "outputs": [],
   "source": [
    "df_ucar_hsi = df.loc[df['institution name'].isin(ucar_list_hsi)]"
   ]
  },
  {
   "cell_type": "markdown",
   "id": "df803ac8-0aff-4cfe-be0e-cf5acc7ffc65",
   "metadata": {},
   "source": [
    "**Now, lets grab hsi unis that are not in the ucar provided list**"
   ]
  },
  {
   "cell_type": "code",
   "execution_count": 4,
   "id": "55d56b23-aa00-4b3d-bfab-6bc8aebcf14e",
   "metadata": {},
   "outputs": [],
   "source": [
    "all_files = glob.glob(\"../data/hsi_completions_*.csv\")  # HSI list\n",
    "all_files = sorted(all_files)\n",
    "df_hsi = cmodule.open_and_concat(all_files)"
   ]
  },
  {
   "cell_type": "markdown",
   "id": "e0552869-e600-4fcc-be25-34b4940f429d",
   "metadata": {},
   "source": [
    "**Finally, append the two lists of unis together**"
   ]
  },
  {
   "cell_type": "code",
   "execution_count": 5,
   "id": "ced12f71-c1fe-44e9-abcf-9c2a0dda32e1",
   "metadata": {},
   "outputs": [],
   "source": [
    "all_hsi_unis = pd.concat([df_ucar_hsi, df_hsi])"
   ]
  },
  {
   "cell_type": "markdown",
   "id": "8f5c9d7f-0b2a-4d84-be86-92ff1504377a",
   "metadata": {},
   "source": [
    "### Top 30 US institutions: Hispanic/Latinx bachelor degree recipients in the Earth and Atmospheric Sciences (2009-2019)"
   ]
  },
  {
   "cell_type": "code",
   "execution_count": 6,
   "id": "43e7f4da-a3c8-40a9-b41b-cfc1c1b4306d",
   "metadata": {},
   "outputs": [
    {
     "data": {
      "text/plain": [
       "institution name\n",
       "University of Puerto Rico-Mayaguez                166\n",
       "University of Houston                             163\n",
       "The University of Texas at El Paso                114\n",
       "Florida International University                   99\n",
       "University of California-Santa Cruz                91\n",
       "University of California-Irvine                    86\n",
       "The University of Texas at San Antonio             83\n",
       "University of California-Santa Barbara             79\n",
       "California State University-Fullerton              76\n",
       "California State University-Bakersfield            70\n",
       "Texas Tech University                              60\n",
       "California State Polytechnic University-Pomona     52\n",
       "University of Arizona                              51\n",
       "Texas A & M University-Kingsville                  48\n",
       "The University of Texas at Arlington               47\n",
       "California State University-Los Angeles            46\n",
       "Texas A & M University-Corpus Christi              43\n",
       "Humboldt State University                          42\n",
       "University of Nevada-Las Vegas                     40\n",
       "California State University-San Bernardino         38\n",
       "University of New Mexico-Main Campus               36\n",
       "California State University-Sacramento             36\n",
       "University of Houston-Downtown                     35\n",
       "University of California-Merced                    32\n",
       "California State University-Long Beach             32\n",
       "California State University-Northridge             32\n",
       "San Jose State University                          31\n",
       "San Diego State University                         30\n",
       "The University of Texas Permian Basin              29\n",
       "University of California-Riverside                 28\n",
       "Name: Hispanic or Latino total, dtype: int64"
      ]
     },
     "execution_count": 6,
     "metadata": {},
     "output_type": "execute_result"
    }
   ],
   "source": [
    "df = cmodule.bs_degrees(all_hsi_unis)\n",
    "df = cmodule.earth_and_atmos_sciences(df)\n",
    "df.groupby('institution name').sum()['Hispanic or Latino total'].sort_values(ascending=False).head(30)  # TOTAL SUM (2009-2019)"
   ]
  },
  {
   "cell_type": "code",
   "execution_count": 7,
   "id": "d6dab67c-11f0-45ba-bba2-073d1e3b90b1",
   "metadata": {},
   "outputs": [
    {
     "data": {
      "text/plain": [
       "institution name\n",
       "University of Puerto Rico-Mayaguez                15.090909\n",
       "University of Houston                             14.818182\n",
       "Florida International University                   8.250000\n",
       "The University of Texas at San Antonio             7.545455\n",
       "The University of Texas at El Paso                 6.333333\n",
       "University of California-Irvine                    6.142857\n",
       "University of California-Santa Cruz                5.352941\n",
       "California State University-Fullerton              4.470588\n",
       "University of Houston-Downtown                     4.375000\n",
       "The University of Texas at Arlington               4.272727\n",
       "California State University-Los Angeles            4.181818\n",
       "University of California-Santa Barbara             4.157895\n",
       "California State University-Bakersfield            3.888889\n",
       "Texas Tech University                              3.750000\n",
       "Texas A & M University-Kingsville                  3.692308\n",
       "University of Arizona                              3.642857\n",
       "University of Nevada-Las Vegas                     3.636364\n",
       "California State Polytechnic University-Pomona     2.888889\n",
       "California State University-Northridge             2.666667\n",
       "Texas A & M University-Corpus Christi              2.529412\n",
       "Humboldt State University                          2.470588\n",
       "California State University-Long Beach             2.461538\n",
       "University of Illinois Chicago                     2.454545\n",
       "Florida Atlantic University                        2.454545\n",
       "The University of Texas Permian Basin              2.416667\n",
       "California State University-Sacramento             2.400000\n",
       "New Jersey City University                         2.363636\n",
       "University of California-Riverside                 2.333333\n",
       "University of California-Merced                    2.285714\n",
       "University of New Mexico-Main Campus               2.250000\n",
       "Name: Hispanic or Latino total, dtype: float64"
      ]
     },
     "execution_count": 7,
     "metadata": {},
     "output_type": "execute_result"
    }
   ],
   "source": [
    "df = cmodule.bs_degrees(all_hsi_unis)\n",
    "df = cmodule.earth_and_atmos_sciences(df)\n",
    "df.groupby('institution name').mean()['Hispanic or Latino total'].sort_values(ascending=False).head(30)  # ANNUAL MEAN (2009-2019)"
   ]
  },
  {
   "cell_type": "markdown",
   "id": "a4492140-cb2a-46c4-ae67-48c4342a87ba",
   "metadata": {},
   "source": [
    "### Top 30 US institutions: Grand Total bachelor degree recipients in the Earth and Atmospheric Sciences (2009-2019)"
   ]
  },
  {
   "cell_type": "code",
   "execution_count": 8,
   "id": "0607f33c-bc48-4120-9557-f897475a3812",
   "metadata": {},
   "outputs": [
    {
     "data": {
      "text/plain": [
       "institution name\n",
       "University of Houston                             787\n",
       "University of California-Santa Cruz               581\n",
       "University of California-Irvine                   455\n",
       "University of California-Santa Barbara            442\n",
       "University of Arizona                             420\n",
       "Texas Tech University                             339\n",
       "Humboldt State University                         317\n",
       "The University of Texas at Arlington              302\n",
       "Northern Arizona University                       283\n",
       "California State University-Fullerton             283\n",
       "The University of Texas at San Antonio            279\n",
       "California State University-Sacramento            248\n",
       "University of Nevada-Las Vegas                    211\n",
       "California State University-Bakersfield           192\n",
       "San Diego State University                        189\n",
       "University of New Mexico-Main Campus              188\n",
       "California State Polytechnic University-Pomona    181\n",
       "University of Illinois Chicago                    175\n",
       "University of Puerto Rico-Mayaguez                171\n",
       "San Jose State University                         162\n",
       "The University of Texas at El Paso                159\n",
       "Florida Atlantic University                       156\n",
       "Sonoma State University                           152\n",
       "Florida International University                  152\n",
       "Montclair State University                        147\n",
       "Texas A & M University-Corpus Christi             145\n",
       "California State University-Long Beach            144\n",
       "California State University-Chico                 142\n",
       "San Francisco State University                    139\n",
       "Kean University                                   136\n",
       "Name: Grand total, dtype: int64"
      ]
     },
     "execution_count": 8,
     "metadata": {},
     "output_type": "execute_result"
    }
   ],
   "source": [
    "df = cmodule.bs_degrees(all_hsi_unis)\n",
    "df = cmodule.earth_and_atmos_sciences(df)\n",
    "df.groupby('institution name').sum()['Grand total'].sort_values(ascending=False).head(30)  # TOTAL SUM (2009-2019)"
   ]
  },
  {
   "cell_type": "code",
   "execution_count": 9,
   "id": "fa1ab5cd-e543-44b4-8c02-caf5be3dc550",
   "metadata": {},
   "outputs": [
    {
     "data": {
      "text/plain": [
       "institution name\n",
       "University of Houston                             71.545455\n",
       "University of California-Santa Cruz               34.176471\n",
       "University of California-Irvine                   32.500000\n",
       "University of Arizona                             30.000000\n",
       "The University of Texas at Arlington              27.454545\n",
       "The University of Texas at San Antonio            25.363636\n",
       "University of California-Santa Barbara            23.263158\n",
       "Texas Tech University                             21.187500\n",
       "University of Nevada-Las Vegas                    19.181818\n",
       "Humboldt State University                         18.647059\n",
       "California State University-Fullerton             16.647059\n",
       "California State University-Sacramento            16.533333\n",
       "University of Illinois Chicago                    15.909091\n",
       "University of Puerto Rico-Mayaguez                15.545455\n",
       "University of Houston-Downtown                    14.375000\n",
       "Florida Atlantic University                       14.181818\n",
       "Northern Arizona University                       13.476190\n",
       "Montclair State University                        13.363636\n",
       "Florida International University                  12.666667\n",
       "San Diego State University                        12.600000\n",
       "Kean University                                   12.363636\n",
       "University of New Mexico-Main Campus              11.750000\n",
       "California State University-Long Beach            11.076923\n",
       "California State University-Bakersfield           10.666667\n",
       "California State University-Northridge            10.333333\n",
       "California State University-Chico                 10.142857\n",
       "California State Polytechnic University-Pomona    10.055556\n",
       "California State University-Fresno                 9.416667\n",
       "Texas A & M University-Kingsville                  9.384615\n",
       "University of California-Riverside                 9.166667\n",
       "Name: Grand total, dtype: float64"
      ]
     },
     "execution_count": 9,
     "metadata": {},
     "output_type": "execute_result"
    }
   ],
   "source": [
    "df = cmodule.bs_degrees(all_hsi_unis)\n",
    "df = cmodule.earth_and_atmos_sciences(df)\n",
    "df.groupby('institution name').mean()['Grand total'].sort_values(ascending=False).head(30)  # ANNUAL MEAN (2009-2019)"
   ]
  },
  {
   "cell_type": "markdown",
   "id": "eeb1511a-87fa-4e19-8a52-be893dd04a6f",
   "metadata": {},
   "source": [
    "### Top 30 US institutions: Hispanic/Latinx master degree recipients in the Earth and Atmospheric Sciences (2009-2019)"
   ]
  },
  {
   "cell_type": "code",
   "execution_count": 10,
   "id": "9084757c-b430-4afd-8d8b-3f4d2906810c",
   "metadata": {},
   "outputs": [
    {
     "data": {
      "text/plain": [
       "institution name\n",
       "University of Houston                             44\n",
       "The University of Texas at El Paso                40\n",
       "University of Puerto Rico-Mayaguez                29\n",
       "Florida International University                  18\n",
       "University of Arizona                             16\n",
       "CUNY Graduate School and University Center        15\n",
       "California State University-Los Angeles           15\n",
       "San Diego State University                        14\n",
       "The University of Texas Permian Basin             14\n",
       "California State University-Fresno                14\n",
       "California State University-Northridge            12\n",
       "The University of Texas at San Antonio            11\n",
       "Texas Tech University                             11\n",
       "University of Nevada-Las Vegas                     9\n",
       "University of California-Santa Barbara             9\n",
       "University of California-Santa Cruz                9\n",
       "New Mexico Institute of Mining and Technology      8\n",
       "California State University-Bakersfield            8\n",
       "California State University-Long Beach             8\n",
       "Florida Atlantic University                        8\n",
       "CUNY Queens College                                7\n",
       "Montclair State University                         7\n",
       "CUNY City College                                  7\n",
       "University of New Mexico-Main Campus               7\n",
       "The University of Texas at Arlington               7\n",
       "San Jose State University                          6\n",
       "New Mexico State University-Main Campus            6\n",
       "California State University-Fullerton              6\n",
       "University of California-Riverside                 5\n",
       "California State Polytechnic University-Pomona     5\n",
       "Name: Hispanic or Latino total, dtype: int64"
      ]
     },
     "execution_count": 10,
     "metadata": {},
     "output_type": "execute_result"
    }
   ],
   "source": [
    "df = cmodule.ms_degrees(all_hsi_unis)\n",
    "df = cmodule.earth_and_atmos_sciences(df)\n",
    "df.groupby('institution name').sum()['Hispanic or Latino total'].sort_values(ascending=False).head(30)  # TOTAL SUM (2009-2019)"
   ]
  },
  {
   "cell_type": "code",
   "execution_count": 11,
   "id": "ba93c5b3-dc4f-42e7-a963-e5923f92200f",
   "metadata": {},
   "outputs": [
    {
     "data": {
      "text/plain": [
       "institution name\n",
       "The University of Texas at El Paso                3.636364\n",
       "University of Puerto Rico-Mayaguez                2.636364\n",
       "University of Houston                             2.095238\n",
       "Florida International University                  1.636364\n",
       "CUNY Graduate School and University Center        1.500000\n",
       "California State University-Fresno                1.400000\n",
       "California State University-Los Angeles           1.363636\n",
       "San Diego State University                        1.272727\n",
       "The University of Texas Permian Basin             1.272727\n",
       "California State University-Northridge            1.090909\n",
       "The University of Texas at San Antonio            1.000000\n",
       "California State University-Bakersfield           0.888889\n",
       "California State Polytechnic University-Pomona    0.833333\n",
       "University of Nevada-Las Vegas                    0.818182\n",
       "University of California-Santa Cruz               0.818182\n",
       "University of California-Santa Barbara            0.818182\n",
       "Florida Atlantic University                       0.800000\n",
       "California State University-Long Beach            0.800000\n",
       "The University of Texas at Arlington              0.777778\n",
       "New Mexico Institute of Mining and Technology     0.727273\n",
       "University of Arizona                             0.727273\n",
       "CUNY Queens College                               0.636364\n",
       "Montclair State University                        0.636364\n",
       "CUNY City College                                 0.636364\n",
       "University of New Mexico-Main Campus              0.636364\n",
       "New Mexico State University-Main Campus           0.545455\n",
       "California State University-Fullerton             0.545455\n",
       "Texas Tech University                             0.500000\n",
       "University of California-Riverside                0.454545\n",
       "University of California-Irvine                   0.454545\n",
       "Name: Hispanic or Latino total, dtype: float64"
      ]
     },
     "execution_count": 11,
     "metadata": {},
     "output_type": "execute_result"
    }
   ],
   "source": [
    "df = cmodule.ms_degrees(all_hsi_unis)\n",
    "df = cmodule.earth_and_atmos_sciences(df)\n",
    "df.groupby('institution name').mean()['Hispanic or Latino total'].sort_values(ascending=False).head(30)  # annual mean (2009-2019)"
   ]
  },
  {
   "cell_type": "markdown",
   "id": "2017b16c-74c6-4896-ada3-586cd157d010",
   "metadata": {},
   "source": [
    "### Top 30 US institutions: Grand total master degree recipients in the Earth and Atmospheric Sciences (2009-2019)"
   ]
  },
  {
   "cell_type": "code",
   "execution_count": 12,
   "id": "5287baa6-7ec9-41c1-8a3c-3576fb6b7422",
   "metadata": {},
   "outputs": [
    {
     "data": {
      "text/plain": [
       "institution name\n",
       "University of Houston                            600\n",
       "University of Arizona                            254\n",
       "Texas Tech University                            145\n",
       "New Mexico Institute of Mining and Technology    142\n",
       "The University of Texas Permian Basin            139\n",
       "University of Nevada-Las Vegas                   121\n",
       "San Diego State University                       113\n",
       "University of California-Irvine                  111\n",
       "The University of Texas at El Paso               108\n",
       "Northern Arizona University                      106\n",
       "The University of Texas at San Antonio            89\n",
       "University of New Mexico-Main Campus              89\n",
       "University of California-Santa Cruz               87\n",
       "San Jose State University                         86\n",
       "New Mexico State University-Main Campus           82\n",
       "Montclair State University                        82\n",
       "California State University-Long Beach            79\n",
       "CUNY Graduate School and University Center        77\n",
       "California State University-Fresno                76\n",
       "California State University-Northridge            75\n",
       "San Francisco State University                    74\n",
       "University of California-Santa Barbara            69\n",
       "Florida Atlantic University                       65\n",
       "California State University-Bakersfield           65\n",
       "CUNY Queens College                               58\n",
       "University of California-Riverside                58\n",
       "CUNY City College                                 56\n",
       "California State University-Los Angeles           55\n",
       "The University of Texas at Arlington              52\n",
       "California State University-Fullerton             50\n",
       "Name: Grand total, dtype: int64"
      ]
     },
     "execution_count": 12,
     "metadata": {},
     "output_type": "execute_result"
    }
   ],
   "source": [
    "df = cmodule.ms_degrees(all_hsi_unis)\n",
    "df = cmodule.earth_and_atmos_sciences(df)\n",
    "df.groupby('institution name').sum()['Grand total'].sort_values(ascending=False).head(30)  # TOTAL SUM (2009-2019)"
   ]
  },
  {
   "cell_type": "code",
   "execution_count": 13,
   "id": "74a2d396-5622-4eb8-9821-51c92882d60a",
   "metadata": {},
   "outputs": [
    {
     "data": {
      "text/plain": [
       "institution name\n",
       "University of Houston                            28.571429\n",
       "New Mexico Institute of Mining and Technology    12.909091\n",
       "The University of Texas Permian Basin            12.636364\n",
       "University of Arizona                            11.545455\n",
       "University of Nevada-Las Vegas                   11.000000\n",
       "San Diego State University                       10.272727\n",
       "University of California-Irvine                  10.090909\n",
       "The University of Texas at El Paso                9.818182\n",
       "Northern Arizona University                       9.636364\n",
       "The University of Texas at San Antonio            8.090909\n",
       "University of New Mexico-Main Campus              8.090909\n",
       "University of California-Santa Cruz               7.909091\n",
       "California State University-Long Beach            7.900000\n",
       "CUNY Graduate School and University Center        7.700000\n",
       "California State University-Fresno                7.600000\n",
       "Montclair State University                        7.454545\n",
       "New Mexico State University-Main Campus           7.454545\n",
       "California State University-Bakersfield           7.222222\n",
       "California State University-Northridge            6.818182\n",
       "San Francisco State University                    6.727273\n",
       "Texas Tech University                             6.590909\n",
       "Florida Atlantic University                       6.500000\n",
       "University of California-Santa Barbara            6.272727\n",
       "The University of Texas at Arlington              5.777778\n",
       "CUNY Queens College                               5.272727\n",
       "University of California-Riverside                5.272727\n",
       "CUNY City College                                 5.090909\n",
       "California State University-Los Angeles           5.000000\n",
       "California State University-Fullerton             4.545455\n",
       "Florida International University                  4.454545\n",
       "Name: Grand total, dtype: float64"
      ]
     },
     "execution_count": 13,
     "metadata": {},
     "output_type": "execute_result"
    }
   ],
   "source": [
    "df = cmodule.ms_degrees(all_hsi_unis)\n",
    "df = cmodule.earth_and_atmos_sciences(df)\n",
    "df.groupby('institution name').mean()['Grand total'].sort_values(ascending=False).head(30)  # annual mean (2009-2019)"
   ]
  },
  {
   "cell_type": "markdown",
   "id": "376947b0-b490-4eff-8d61-856801344216",
   "metadata": {},
   "source": [
    "### Top 30 US institutions: Hispanic/Latinx doctorate degree recipients in the Earth and Atmospheric Sciences (2009-2019)"
   ]
  },
  {
   "cell_type": "code",
   "execution_count": 14,
   "id": "ed3dfccc-05dc-497e-b87f-fb0a4a1c3290",
   "metadata": {},
   "outputs": [
    {
     "data": {
      "text/plain": [
       "institution name\n",
       "CUNY Graduate School and University Center       9\n",
       "The University of Texas at El Paso               8\n",
       "University of Arizona                            7\n",
       "University of Houston                            6\n",
       "University of California-Santa Cruz              5\n",
       "Florida International University                 4\n",
       "University of New Mexico-Main Campus             3\n",
       "University of California-Santa Barbara           3\n",
       "Texas Tech University                            2\n",
       "University of California-Irvine                  2\n",
       "New Mexico Institute of Mining and Technology    1\n",
       "University of California-Riverside               1\n",
       "Florida Atlantic University                      1\n",
       "University of Nevada-Las Vegas                   0\n",
       "San Diego State University                       0\n",
       "Nova Southeastern University                     0\n",
       "New Mexico State University-Main Campus          0\n",
       "Loma Linda University                            0\n",
       "University of Illinois Chicago                   0\n",
       "Name: Hispanic or Latino total, dtype: int64"
      ]
     },
     "execution_count": 14,
     "metadata": {},
     "output_type": "execute_result"
    }
   ],
   "source": [
    "df = cmodule.phd_degrees(all_hsi_unis)\n",
    "df = cmodule.earth_and_atmos_sciences(df)\n",
    "df.groupby('institution name').sum()['Hispanic or Latino total'].sort_values(ascending=False).head(30)  # total sum (2009-2019)"
   ]
  },
  {
   "cell_type": "code",
   "execution_count": 15,
   "id": "64fcdfcf-882d-4690-8776-d0912263642c",
   "metadata": {},
   "outputs": [
    {
     "data": {
      "text/plain": [
       "institution name\n",
       "CUNY Graduate School and University Center       0.818182\n",
       "The University of Texas at El Paso               0.727273\n",
       "University of California-Santa Cruz              0.454545\n",
       "Florida International University                 0.363636\n",
       "University of Arizona                            0.333333\n",
       "University of Houston                            0.300000\n",
       "University of New Mexico-Main Campus             0.272727\n",
       "University of California-Santa Barbara           0.272727\n",
       "Texas Tech University                            0.181818\n",
       "University of California-Irvine                  0.181818\n",
       "Florida Atlantic University                      0.125000\n",
       "New Mexico Institute of Mining and Technology    0.090909\n",
       "University of California-Riverside               0.090909\n",
       "University of Nevada-Las Vegas                   0.000000\n",
       "San Diego State University                       0.000000\n",
       "Nova Southeastern University                     0.000000\n",
       "New Mexico State University-Main Campus          0.000000\n",
       "Loma Linda University                            0.000000\n",
       "University of Illinois Chicago                   0.000000\n",
       "Name: Hispanic or Latino total, dtype: float64"
      ]
     },
     "execution_count": 15,
     "metadata": {},
     "output_type": "execute_result"
    }
   ],
   "source": [
    "df = cmodule.phd_degrees(all_hsi_unis)\n",
    "df = cmodule.earth_and_atmos_sciences(df)\n",
    "df.groupby('institution name').mean()['Hispanic or Latino total'].sort_values(ascending=False).head(30)  # annual mean (2009-2019)"
   ]
  },
  {
   "cell_type": "markdown",
   "id": "fff6e8d5-51c7-4810-aa0a-ed1aeff2149d",
   "metadata": {},
   "source": [
    "### Top 30 US institutions: Grand total doctorate degree recipients in the Earth and Atmospheric Sciences (2009-2019)"
   ]
  },
  {
   "cell_type": "code",
   "execution_count": 16,
   "id": "2b74bd9f-91ba-4782-8696-b103ce8cc7c9",
   "metadata": {},
   "outputs": [
    {
     "data": {
      "text/plain": [
       "institution name\n",
       "University of Arizona                            181\n",
       "University of Houston                            152\n",
       "University of California-Santa Cruz              135\n",
       "CUNY Graduate School and University Center        94\n",
       "University of California-Irvine                   74\n",
       "University of California-Santa Barbara            52\n",
       "The University of Texas at El Paso                48\n",
       "University of California-Riverside                41\n",
       "Florida International University                  41\n",
       "University of New Mexico-Main Campus              41\n",
       "New Mexico Institute of Mining and Technology     34\n",
       "University of Nevada-Las Vegas                    30\n",
       "Texas Tech University                             28\n",
       "Florida Atlantic University                       24\n",
       "Nova Southeastern University                      19\n",
       "University of Illinois Chicago                    13\n",
       "Loma Linda University                              9\n",
       "New Mexico State University-Main Campus            7\n",
       "San Diego State University                         5\n",
       "Name: Grand total, dtype: int64"
      ]
     },
     "execution_count": 16,
     "metadata": {},
     "output_type": "execute_result"
    }
   ],
   "source": [
    "df = cmodule.phd_degrees(all_hsi_unis)\n",
    "df = cmodule.earth_and_atmos_sciences(df)\n",
    "df.groupby('institution name').sum()['Grand total'].sort_values(ascending=False).head(30)  # TOTAL SUM (2009-2019)"
   ]
  },
  {
   "cell_type": "code",
   "execution_count": 17,
   "id": "7f535a28-9421-4320-abb2-b737a34a79d0",
   "metadata": {},
   "outputs": [
    {
     "data": {
      "text/plain": [
       "institution name\n",
       "University of California-Santa Cruz              12.272727\n",
       "University of Arizona                             8.619048\n",
       "CUNY Graduate School and University Center        8.545455\n",
       "University of Houston                             7.600000\n",
       "University of California-Irvine                   6.727273\n",
       "University of California-Santa Barbara            4.727273\n",
       "The University of Texas at El Paso                4.363636\n",
       "University of California-Riverside                3.727273\n",
       "Florida International University                  3.727273\n",
       "University of New Mexico-Main Campus              3.727273\n",
       "New Mexico Institute of Mining and Technology     3.090909\n",
       "Florida Atlantic University                       3.000000\n",
       "University of Nevada-Las Vegas                    2.727273\n",
       "Texas Tech University                             2.545455\n",
       "Nova Southeastern University                      1.727273\n",
       "University of Illinois Chicago                    1.300000\n",
       "San Diego State University                        1.250000\n",
       "New Mexico State University-Main Campus           1.000000\n",
       "Loma Linda University                             0.818182\n",
       "Name: Grand total, dtype: float64"
      ]
     },
     "execution_count": 17,
     "metadata": {},
     "output_type": "execute_result"
    }
   ],
   "source": [
    "df = cmodule.phd_degrees(all_hsi_unis)\n",
    "df = cmodule.earth_and_atmos_sciences(df)\n",
    "df.groupby('institution name').mean()['Grand total'].sort_values(ascending=False).head(30)  # annual mean (2009-2019)"
   ]
  },
  {
   "cell_type": "code",
   "execution_count": null,
   "id": "a0d38ec7-368c-472b-91dd-c43511cab69d",
   "metadata": {},
   "outputs": [],
   "source": []
  }
 ],
 "metadata": {
  "kernelspec": {
   "display_name": "Python [conda env:python-tutorial]",
   "language": "python",
   "name": "conda-env-python-tutorial-python3_myenv"
  },
  "language_info": {
   "codemirror_mode": {
    "name": "ipython",
    "version": 3
   },
   "file_extension": ".py",
   "mimetype": "text/x-python",
   "name": "python",
   "nbconvert_exporter": "python",
   "pygments_lexer": "ipython3",
   "version": "3.7.3"
  }
 },
 "nbformat": 4,
 "nbformat_minor": 5
}
